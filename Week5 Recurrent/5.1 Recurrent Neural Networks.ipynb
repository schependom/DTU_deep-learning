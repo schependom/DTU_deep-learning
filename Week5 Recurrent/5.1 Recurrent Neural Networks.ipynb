{
 "cells": [
  {
   "cell_type": "markdown",
   "metadata": {
    "id": "y-CptVs7iACc"
   },
   "source": [
    "# Recurrent Neural Networks\n",
    "\n",
    "In this lab, we will introduce different ways of learning from sequential data.\n",
    "\n",
    "As a recurring example, we will train neural networks to do **language modelling**, i.e. **predict the next token** in a sentence. In the context of natural language processing a **token could be a character or a word**, but mind you that the concepts introduced here apply to all kinds of sequential data, such as e.g. protein sequences, weather measurements, audio signals, or videos, just to name a few.\n",
    "\n",
    "To really get a grasp of what is going on inside a recurrent neural network (RNN), we will carry out a substantial part of this exercise in Nanograd rather than PyTorch. \n",
    "\n",
    "We start off with a simple toy problem, build an RNN using Nanograd, train it, and see for ourselves that it really works. Once we're convinced, you will implement the Long Short-Term Memory (LSTM) cell, also in Nanograd. \n",
    "\n",
    "This is *not* simple but with the DenseLayer class we already have, it is doable. Having done it yourself will help you understand what happens under the hood of the PyTorch code we will use throughout the course.\n",
    "\n",
    "To summarize, in this notebook we will show you:\n",
    "* How to represent sequences of categorical variables\n",
    "* How to build and train an RNN in Nanograd\n",
    "* How to build and train an LSTM network in Nanograd\n",
    "* How to build and train an LSTM network in PyTorch"
   ]
  },
  {
   "cell_type": "markdown",
   "metadata": {
    "id": "XapO8SLwiACd"
   },
   "source": [
    "## Representing tokens or text\n",
    "\n",
    "In previous labs we mainly considered data $x \\in \\mathbb{R}^d$, where $d$ is the feature space dimension.\n",
    "\n",
    "With time sequences our data can be represented as$$x \\in \\mathbb{R}^{t \\, \\times \\, d}$$where $t$ is the sequence length. \n",
    "This emphasises sequence dependence and that the **samples along the sequence are <u>not</u> independent and identically distributed (i.i.d.).**\n",
    "\n",
    "With RNNs, we can model both **many-to-one** functions: \n",
    "$$\\mathbb{R}^{t \\, \\times \\, d} \\rightarrow \\mathbb{R}^c$$\n",
    "and **many-to-many** functions: \n",
    "$$\\mathbb{R}^{t \\, \\times \\, d} \\rightarrow \\mathbb{R}^{t \\, \\times \\, c}$$\n",
    "where $c$ is the amount of classes/output dimensions.\n",
    "\n",
    "There are several ways to represent sequences. With text, the challenge is **how to represent a word** as a feature vector in $d$ dimensions, as we are required to represent text with decimal numbers in order to apply neural networks to it.\n",
    "\n",
    "In **this exercise** we will use a **simple one-hot encoding** but for categorical variables that can take on **many values** (e.g. words in the English language) this may be **infeasible**. \n",
    "\n",
    "For such scenarios, you can project the encodings into a smaller space by use of **embeddings**. If you want to learn more about tokens, encodings and embeddings than what is covered in this exercise, we highly recommend [this lecture](https://www.youtube.com/watch?v=kEMJRjEdNzM&list=PLoROMvodv4rOhcuXMZkNm7j3fVwBBY42z)."
   ]
  },
  {
   "cell_type": "markdown",
   "metadata": {
    "id": "bdA4LPsFiACe"
   },
   "source": [
    "### One-hot encoding over vocabulary\n",
    "\n",
    "One way to represent a fixed amount of words is by making a one-hot encoded vector, which consists of 0s in all cells with the exception of a single 1 in a cell used uniquely to identify each word.\n",
    "\n",
    "| vocabulary    | one-hot encoded vector   |\n",
    "| ------------- |--------------------------|\n",
    "| Paris         | $= [1, 0, 0, \\ldots, 0]$ |\n",
    "| Rome          | $= [0, 1, 0, \\ldots, 0]$ |\n",
    "| Copenhagen    | $= [0, 0, 1, \\ldots, 0]$ |\n",
    "\n",
    "Representing a large vocabulary with one-hot encodings often becomes **inefficient** because of the **size** of each **sparse vector**.\n",
    "To overcome this challenge it is common practice to \n",
    "- truncate the vocabulary to contain the $k$ most used words\n",
    "- represent the rest with a special symbol, $\\mathtt{UNK}$, to define **unknown/unimportant** words.\n",
    "\n",
    "This often causes entities such as *names* to be represented with $\\mathtt{UNK}$ because they are *rare*.\n",
    "\n",
    "Consider the following text\n",
    "> I love the corny jokes in Spielberg's new movie.\n",
    "\n",
    "where an example result would be similar to\n",
    "> I love the corny jokes in $\\mathtt{UNK}$'s new movie."
   ]
  },
  {
   "cell_type": "markdown",
   "metadata": {
    "id": "KNmyPw7zk2gY"
   },
   "source": [
    "## Generating a dataset"
   ]
  },
  {
   "cell_type": "markdown",
   "metadata": {
    "id": "M9IEA4t2k2gb"
   },
   "source": [
    "For this exercise we will create a simple dataset that we can learn from. We generate sequences of the form:\n",
    "\n",
    "`a b EOS`,\n",
    "\n",
    "`a a b b EOS`,\n",
    "\n",
    "`a a a a a b b b b b EOS`\n",
    "\n",
    "where `EOS` is a special character denoting the end of a sequence. The task is to predict the next token $t_n$, i.e. `a`, `b`, `EOS` or the unknown token `UNK` given a sequence of tokens $\\{ t_{1}, t_{2}, \\dots , t_{n-1}\\}$, and we are to process sequences in a sequential manner. As such, the network will need to learn that e.g. $x$ `b`s and an `EOS` token will follow $x$ `a`s ($x \\in \\{1, 2, 3, 4\\}$)."
   ]
  },
  {
   "cell_type": "code",
   "execution_count": 73,
   "metadata": {
    "id": "dcoN-kb7k2gc"
   },
   "outputs": [
    {
     "name": "stdout",
     "output_type": "stream",
     "text": [
      "A single sample from the generated dataset:\n",
      "['a', 'a', 'a', 'b', 'b', 'b', 'EOS']\n"
     ]
    }
   ],
   "source": [
    "import numpy as np\n",
    "\n",
    "# Set seed such that we always get the same dataset\n",
    "# (this is a good idea in general)\n",
    "np.random.seed(42)\n",
    "\n",
    "def generate_dataset(num_sequences=2**5):\n",
    "    \"\"\"\n",
    "    Generates a number of sequences as our dataset.\n",
    "    \n",
    "    Args:\n",
    "     `num_sequences`: the number of sequences to be generated.\n",
    "     \n",
    "    Returns a list of sequences.\n",
    "    \"\"\"\n",
    "    samples = []\n",
    "    \n",
    "    for _ in range(num_sequences): \n",
    "        num_tokens = np.random.randint(1, 4)\n",
    "        sample = ['a'] * num_tokens + ['b'] * num_tokens + ['EOS']\n",
    "        samples.append(sample)\n",
    "        \n",
    "    return samples\n",
    "\n",
    "\n",
    "sequences = generate_dataset()\n",
    "\n",
    "print('A single sample from the generated dataset:')\n",
    "print(sequences[0])"
   ]
  },
  {
   "cell_type": "markdown",
   "metadata": {
    "id": "YMLd3Gzak2gp"
   },
   "source": [
    "## Representing tokens as indices"
   ]
  },
  {
   "cell_type": "markdown",
   "metadata": {
    "id": "S9LSqaJSk2gp"
   },
   "source": [
    "To build a one-hot encoding, we need to **assign each possible word in our vocabulary an index**. \n",
    "\n",
    "We do that by creating two dictionaries: \n",
    "1. one that allows us to go from a given word to its corresponding index in our vocabulary (`word_to_idx`)\n",
    "2. one for the reverse direction (`idx_to_word`).\n",
    "\n",
    "The keyword `vocab_size` specifies the maximum size of our vocabulary. I\n",
    "\n",
    "f we try to access a word that does not exist in our vocabulary, it is automatically replaced by the `UNK` token or its corresponding index."
   ]
  },
  {
   "cell_type": "markdown",
   "metadata": {
    "id": "sNY1OOS_k2gy"
   },
   "source": [
    "## Exercise a) Sequence to dictionary function \n",
    "\n",
    "Complete the sequences_to_dicts function below. You will need to fill the `word_to_idx` and `idx_to_word` dictionaries so that we can go back and forth between the two representations."
   ]
  },
  {
   "cell_type": "code",
   "execution_count": 74,
   "metadata": {
    "id": "Smdo70UMk2gr"
   },
   "outputs": [
    {
     "name": "stdout",
     "output_type": "stream",
     "text": [
      "We have 32 sentences and 4 unique tokens in our dataset (including UNK).\n",
      "\n",
      "The index of 'b' is 1\n",
      "The word corresponding to index 1 is 'b'\n"
     ]
    }
   ],
   "source": [
    "from collections import defaultdict\n",
    "\n",
    "def sequences_to_dicts(sequences):\n",
    "    \"\"\"\n",
    "    Creates word_to_idx and idx_to_word dictionaries for a list of sequences.\n",
    "    \"\"\"\n",
    "    # A bit of Python-magic to flatten a nested list\n",
    "    flatten = lambda l: [item for sublist in l for item in sublist]\n",
    "    \n",
    "    # Flatten the dataset\n",
    "    all_words = flatten(sequences)\n",
    "    \n",
    "    # Count number of word occurences\n",
    "    word_count = defaultdict(int)\n",
    "    #\n",
    "    # ->    defaultdict is like a normal dictionary, but if we try to access a key that does not exist,\n",
    "    #       it will create it and assign it the value given in the constructor.\n",
    "    #\n",
    "    # ->    the default value of int() is 0, so if we try to access a non-existing key, \n",
    "    #       it will be created and assigned the value 0.\n",
    "    #\n",
    "    # Example:\n",
    "    #       d = defaultdict(int)\n",
    "    #       print(d['non_existing_key'])  # prints 0\n",
    "\n",
    "    for word in flatten(sequences):\n",
    "        word_count[word] += 1\n",
    "        # If the word doesn't exist in the dictionary, it is created and assigned the value 0\n",
    "        # (because of defaultdict(int)), and then we add 1 to it.\n",
    "\n",
    "    # Sort by frequency\n",
    "    word_count = sorted(\n",
    "        list(word_count.items()), \n",
    "        key=lambda l: -l[1]\n",
    "    )\n",
    "\n",
    "    # Create a list of all unique words\n",
    "    # (sorted returns a list of tuples (word, count)\n",
    "    #   so we take only the first element of each tuple)\n",
    "    unique_words = [item[0] for item in word_count]\n",
    "    \n",
    "    # Add UNK token to list of words\n",
    "    unique_words.append('UNK')\n",
    "\n",
    "    # Count number of sequences and number of unique words\n",
    "    num_sentences, vocab_size = len(sequences), len(unique_words)\n",
    "\n",
    "    # Create dictionaries so that we can go from word to index and back\n",
    "    # If a word is not in our vocabulary, we assign it to token 'UNK'\n",
    "    word_to_idx = defaultdict(lambda: vocab_size-1)\n",
    "    idx_to_word = defaultdict(lambda: 'UNK')\n",
    "\n",
    "    # Fill dictionaries\n",
    "    for idx, word in enumerate(unique_words):\n",
    "        word_to_idx[word] = idx\n",
    "        idx_to_word[idx] = word\n",
    "\n",
    "    return word_to_idx, idx_to_word, num_sentences, vocab_size\n",
    "\n",
    "# 2^5 sequences\n",
    "word_to_idx, idx_to_word, num_sequences, vocab_size = sequences_to_dicts(sequences)\n",
    "\n",
    "print(f'We have {num_sequences} sentences and {len(word_to_idx)} unique tokens in our dataset (including UNK).\\n')\n",
    "print('The index of \\'b\\' is', word_to_idx['b'])\n",
    "print(f'The word corresponding to index 1 is \\'{idx_to_word[1]}\\'')\n",
    "\n",
    "assert idx_to_word[word_to_idx['b']] == 'b', \\\n",
    "    'Consistency error: something went wrong in the conversion.'"
   ]
  },
  {
   "cell_type": "markdown",
   "metadata": {
    "id": "cGSoDRgHk2g1"
   },
   "source": [
    "## Partitioning the dataset"
   ]
  },
  {
   "cell_type": "markdown",
   "metadata": {
    "id": "UMTn1iLIk2g1"
   },
   "source": [
    "To build our dataset, we need to \n",
    "- create inputs and targets for each sequences\n",
    "- partition sentences it into training, validation and test sets. 80%, 10% and 10% is a common distribution, but mind you that this largely depends on the size of the dataset. \n",
    "\n",
    "Since we are doing next-word predictions, our target sequence is simply the input sequence shifted by one word.\n",
    "\n",
    "We can use PyTorch's `Dataset` class to build a simple dataset where we can easily retrieve (inputs, targets) pairs for each of our sequences."
   ]
  },
  {
   "cell_type": "code",
   "execution_count": 75,
   "metadata": {
    "id": "9dW7MrPnk2g3"
   },
   "outputs": [
    {
     "name": "stdout",
     "output_type": "stream",
     "text": [
      "We have 25 samples in the training set.\n",
      "We have 3 samples in the validation set.\n",
      "We have 3 samples in the test set.\n"
     ]
    }
   ],
   "source": [
    "from torch.utils import data\n",
    "\n",
    "class Dataset(data.Dataset):\n",
    "    def __init__(self, inputs, targets):\n",
    "        self.inputs = inputs\n",
    "        self.targets = targets\n",
    "\n",
    "    def __len__(self):\n",
    "        # Return the size of the dataset\n",
    "        return len(self.targets)\n",
    "\n",
    "    def __getitem__(self, index):\n",
    "        # Retrieve inputs and targets at the given index\n",
    "        X = self.inputs[index]\n",
    "        y = self.targets[index]\n",
    "\n",
    "        return X, y\n",
    "\n",
    "    \n",
    "def create_datasets(sequences, dataset_class, p_train=0.8, p_val=0.1, p_test=0.1):\n",
    "    # Define partition sizes\n",
    "    num_train = int(len(sequences)*p_train)\n",
    "    num_val = int(len(sequences)*p_val)\n",
    "    num_test = int(len(sequences)*p_test)\n",
    "\n",
    "    # Split sequences into partitions\n",
    "    sequences_train = sequences[:num_train]\n",
    "    sequences_val = sequences[num_train:num_train+num_val]\n",
    "    sequences_test = sequences[-num_test:]\n",
    "\n",
    "    def get_inputs_targets_from_sequences(sequences):\n",
    "\n",
    "        # Define empty lists\n",
    "        inputs, targets = [], []\n",
    "        \n",
    "        # Append inputs and targets \n",
    "        #   s.t. both lists contain L-1 words of a sentence of length L\n",
    "        #   but \n",
    "        #   targets are shifted right by one so that we can predict the next word\n",
    "        for sequence in sequences:\n",
    "            inputs.append(sequence[:-1])\n",
    "            targets.append(sequence[1:])\n",
    "            \n",
    "        return inputs, targets\n",
    "\n",
    "    # Get inputs and targets for each partition\n",
    "    # (lists of lists)\n",
    "    inputs_train, targets_train = get_inputs_targets_from_sequences(sequences_train)\n",
    "    inputs_val, targets_val = get_inputs_targets_from_sequences(sequences_val)\n",
    "    inputs_test, targets_test = get_inputs_targets_from_sequences(sequences_test)\n",
    "\n",
    "    # Create datasets\n",
    "    #   -> dataset_class is a placeholder for the Dataset class defined above\n",
    "    #   -> so we basically call the constructor of the Dataset class\n",
    "    training_set = dataset_class(inputs_train, targets_train)\n",
    "    validation_set = dataset_class(inputs_val, targets_val)\n",
    "    test_set = dataset_class(inputs_test, targets_test)\n",
    "\n",
    "    return training_set, validation_set, test_set\n",
    "    \n",
    "\n",
    "training_set, validation_set, test_set = create_datasets(sequences, Dataset)\n",
    "\n",
    "print(f'We have {len(training_set)} samples in the training set.')\n",
    "print(f'We have {len(validation_set)} samples in the validation set.')\n",
    "print(f'We have {len(test_set)} samples in the test set.')"
   ]
  },
  {
   "cell_type": "markdown",
   "metadata": {
    "id": "4xMMSm7Mk2g9"
   },
   "source": [
    "When working with more complex data than what we use in this exercise, creating a **PyTorch `DataLoader`** on top of the dataset can be **beneficial**. \n",
    "\n",
    "A data loader is basically a fancy generator/iterator that we can use to abstract away all of the data handling and pre-processing + it's super useful for processing batches of data as well! Data loaders will come in handy later when you start to work on your projects, so be sure to check them out!\n",
    "\n",
    "For more information on how to use datasets and data loaders in PyTorch, [consult the official guide](https://pytorch.org/tutorials/beginner/data_loading_tutorial.html)."
   ]
  },
  {
   "cell_type": "markdown",
   "metadata": {
    "id": "t-rfgDfZeMQ6"
   },
   "source": [
    "## Nanograd utilities"
   ]
  },
  {
   "cell_type": "markdown",
   "metadata": {
    "id": "oRO5ssg0eQMK"
   },
   "source": [
    "We load necessary utility functions for the Nanograd library, which we saw in Week 2."
   ]
  },
  {
   "cell_type": "code",
   "execution_count": 76,
   "metadata": {
    "id": "Jd4CoEBNzNWS"
   },
   "outputs": [],
   "source": [
    "# Copy and pasted from https://github.com/rasmusbergpalm/nanograd/blob/main/nanograd.py\n",
    "\n",
    "from math import exp, log, tanh\n",
    "\n",
    "class Var:\n",
    "    \"\"\"\n",
    "    A variable which holds a float and enables gradient computations.\n",
    "    \"\"\"\n",
    "\n",
    "    def __init__(self, val: float, grad_fn=lambda: []):\n",
    "        assert type(val) == float\n",
    "        self.v = val\n",
    "        self.grad_fn = grad_fn\n",
    "        self.grad = 0.0\n",
    "\n",
    "    def backprop(self, bp):\n",
    "        # bp is the backpropagated gradient\n",
    "        self.grad += bp\n",
    "        for input, grad in self.grad_fn():\n",
    "            input.backprop(grad * bp)\n",
    "\n",
    "    def backward(self):\n",
    "        self.backprop(1.0)\n",
    "\n",
    "    def __add__(self: 'Var', other: 'Var') -> 'Var':\n",
    "        return Var(\n",
    "            self.v + other.v,                   # value\n",
    "            lambda: [(self, 1.0), (other, 1.0)] # d(x+y)/dx = 1, d(x+y)/dy = 1\n",
    "        )\n",
    "\n",
    "    def __mul__(self: 'Var', other: 'Var') -> 'Var':\n",
    "        return Var(self.v * other.v, lambda: [(self, other.v), (other, self.v)])\n",
    "\n",
    "    def __pow__(self, power):\n",
    "        assert type(power) in {float, int}, \"power must be float or int\"\n",
    "        return Var(self.v ** power, lambda: [(self, power * self.v ** (power - 1))])\n",
    "\n",
    "    def __neg__(self: 'Var') -> 'Var':\n",
    "        return Var(-1.0) * self\n",
    "\n",
    "    def __sub__(self: 'Var', other: 'Var') -> 'Var':\n",
    "        return self + (-other)\n",
    "\n",
    "    def __truediv__(self: 'Var', other: 'Var') -> 'Var':\n",
    "        return self * other ** -1\n",
    "\n",
    "    def __repr__(self):\n",
    "        return \"Var(v=%.4f, grad=%.4f)\" % (self.v, self.grad)\n",
    "    \n",
    "    def exp(self):\n",
    "        return Var(exp(self.v), lambda: [(self, exp(self.v))])\n",
    "    \n",
    "    def log(self):\n",
    "        return Var(log(self.v), lambda: [(self, self.v ** -1)])\n",
    "\n",
    "    def relu(self):\n",
    "        return Var(self.v if self.v > 0.0 else 0.0, lambda: [(self, 1.0 if self.v > 0.0 else 0.0)])\n",
    "    \n",
    "    def identity(self):\n",
    "        return self\n",
    "\n",
    "    def sigmoid(self):\n",
    "        return Var(0.5) * (Var(1.0) + (Var(0.5) * self).tanh()) # logistic function is a scaled and shifted version of tanh\n",
    "    \n",
    "    def tanh(self):\n",
    "        return Var(tanh(self.v), lambda: [(self, 1-tanh(self.v) ** 2)])"
   ]
  },
  {
   "cell_type": "code",
   "execution_count": 77,
   "metadata": {
    "id": "9AMqMsiseMfz"
   },
   "outputs": [],
   "source": [
    "# convert from ndarray to Var\n",
    "#     1. vector to matrix\n",
    "#     2. matrix to matrix\n",
    "def nparray_to_Var(x):\n",
    "  # 1. -> vector to matrix\n",
    "  if x.ndim==1:\n",
    "    y = [[Var(float(x[i]))] for i in range(x.shape[0])] # always work with list of list\n",
    "  # 2. -> matrix to matrix\n",
    "  else:\n",
    "    y = [[Var(float(x[i,j])) for j in range(x.shape[1])] for i in range(x.shape[0])]\n",
    "  return y\n",
    "\n",
    "# convert from Var to ndarray  \n",
    "def Var_to_nparray(x):\n",
    "  try:\n",
    "    # Try creating a matrix of size (n, m) \n",
    "    # where\n",
    "    #   n=number of observations,\n",
    "    #   m=number of features\n",
    "    y = np.zeros((len(x),len(x[0])))\n",
    "    for i in range(len(x)):\n",
    "      for j in range(len(x[0])):\n",
    "        y[i,j] = x[i][j].v\n",
    "  # If that fails, try creating a vector of size (n,)\n",
    "  # where n=number of observations\n",
    "  except TypeError:\n",
    "    y = np.zeros((len(x)))\n",
    "    for i in range(len(x)):\n",
    "      y[i] = x[i].v\n",
    "\n",
    "  return y"
   ]
  },
  {
   "cell_type": "code",
   "execution_count": 78,
   "metadata": {
    "id": "ij_ieRsAt7Xt"
   },
   "outputs": [],
   "source": [
    "class Initializer:\n",
    "\n",
    "  def init_weights(self, n_in, n_out):\n",
    "    raise NotImplementedError\n",
    "    # We will implement this in the Normal and Constant initializers\n",
    "\n",
    "  def init_bias(self, n_out):\n",
    "    raise NotImplementedError"
   ]
  },
  {
   "cell_type": "code",
   "execution_count": 79,
   "metadata": {
    "id": "eb18N5phuIha"
   },
   "outputs": [],
   "source": [
    "import random\n",
    "\n",
    "class NormalInitializer(Initializer):\n",
    "\n",
    "  def __init__(self, mean=0, std=0.1):\n",
    "    self.mean = mean\n",
    "    self.std = std\n",
    "\n",
    "  # Initialise weights with samples from a normal distribution\n",
    "  def init_weights(self, n_in, n_out):\n",
    "    return [[Var(random.gauss(self.mean, self.std)) for _ in range(n_out)] for _ in range(n_in)]\n",
    "\n",
    "  # Initialize biases to zero\n",
    "  def init_bias(self, n_out):\n",
    "    return [Var(0.0) for _ in range(n_out)]\n",
    "\n",
    "class ConstantInitializer(Initializer):\n",
    "\n",
    "  def __init__(self, weight=1.0, bias=0.0):\n",
    "    self.weight = weight\n",
    "    self.bias = bias\n",
    "\n",
    "  # Initialize weights to a constant value\n",
    "  def init_weights(self, n_in, n_out):\n",
    "    return [[Var(self.weight) for _ in range(n_out)] for _ in range(n_in)]\n",
    "\n",
    "  # Initialize biases to a constant value\n",
    "  def init_bias(self, n_out):\n",
    "    return [Var(self.bias) for _ in range(n_out)]"
   ]
  },
  {
   "cell_type": "markdown",
   "metadata": {
    "id": "Dzmryk72k2g-"
   },
   "source": [
    "## One-hot encodings"
   ]
  },
  {
   "cell_type": "markdown",
   "metadata": {
    "id": "abRN9f8Xk2g_"
   },
   "source": [
    "We now create a simple function that returns the one-hot encoded representation of a given index of a word in our vocabulary. \n",
    "\n",
    "Notice that **the shape of the one-hot encoding is equal to the entire vocabulary** (which can be huge!). \n",
    "\n",
    "Additionally, we define a function to automatically one-hot encode a sentence."
   ]
  },
  {
   "cell_type": "code",
   "execution_count": 80,
   "metadata": {
    "id": "IZruCIHJk2hB"
   },
   "outputs": [
    {
     "name": "stdout",
     "output_type": "stream",
     "text": [
      "Our one-hot encoding of 'a' has shape (1, 4).\n",
      "Our one-hot encoding of 'a b' has shape (2, 4).\n",
      "[[Var(v=1.0000, grad=0.0000), Var(v=0.0000, grad=0.0000), Var(v=0.0000, grad=0.0000), Var(v=0.0000, grad=0.0000)]]\n",
      "[[Var(v=1.0000, grad=0.0000), Var(v=0.0000, grad=0.0000), Var(v=0.0000, grad=0.0000), Var(v=0.0000, grad=0.0000)], [Var(v=0.0000, grad=0.0000), Var(v=1.0000, grad=0.0000), Var(v=0.0000, grad=0.0000), Var(v=0.0000, grad=0.0000)]]\n"
     ]
    },
    {
     "name": "stderr",
     "output_type": "stream",
     "text": [
      "/var/folders/dn/qw26xkk51853rtytqd9ns_5r0000gn/T/ipykernel_54123/161328427.py:10: DeprecationWarning: Conversion of an array with ndim > 0 to a scalar is deprecated, and will error in future. Ensure you extract a single element from your array before performing this operation. (Deprecated NumPy 1.25.)\n",
      "  y = [[Var(float(x[i,j])) for j in range(x.shape[1])] for i in range(x.shape[0])]\n"
     ]
    }
   ],
   "source": [
    "def one_hot_encode(idx, vocab_size):\n",
    "    \"\"\"\n",
    "    One-hot encodes a single word given its index and the size of the vocabulary.\n",
    "    \n",
    "    Args:\n",
    "     `idx`: the index of the given word\n",
    "     `vocab_size`: the size of the vocabulary\n",
    "    \n",
    "    Returns a 1-D numpy array of length `vocab_size`.\n",
    "    \"\"\"\n",
    "    # Initialize the encoded array\n",
    "    one_hot = np.array([np.zeros(vocab_size)])\n",
    "    # ! shape of the one-hot encoding is equal to the entire vocabulary\n",
    "    \n",
    "    # Set the appropriate element to one\n",
    "    one_hot[0][idx] = 1.0\n",
    "    return nparray_to_Var(one_hot)\n",
    "\n",
    "\n",
    "def one_hot_encode_sequence(sequence, vocab_size):\n",
    "    \"\"\"\n",
    "    One-hot encodes a sequence of words given a fixed vocabulary size.\n",
    "    \n",
    "    Args:\n",
    "     `sentence`: a list of words to encode\n",
    "     `vocab_size`: the size of the vocabulary\n",
    "     \n",
    "    Returns a 3-D numpy array of shape (num words, vocab size, 1).\n",
    "    \"\"\"\n",
    "    # Encode each word in the sentence\n",
    "    encoding = np.array([Var_to_nparray(one_hot_encode(word_to_idx[word], vocab_size)) for word in sequence])\n",
    "\n",
    "    # Reshape encoding s.t. it has shape (num words, vocab size, 1)\n",
    "    encoding = encoding.reshape(encoding.shape[0], encoding.shape[2], 1)\n",
    "    return nparray_to_Var(encoding)\n",
    "\n",
    "test_word = one_hot_encode(word_to_idx['a'], vocab_size)\n",
    "print(f'Our one-hot encoding of \\'a\\' has shape {Var_to_nparray(test_word).shape}.')\n",
    "\n",
    "test_sentence = one_hot_encode_sequence(['a', 'b'], vocab_size)\n",
    "print(f'Our one-hot encoding of \\'a b\\' has shape {Var_to_nparray(test_sentence).shape}.')\n",
    "\n",
    "print(test_word)\n",
    "print(test_sentence)"
   ]
  },
  {
   "cell_type": "code",
   "execution_count": 81,
   "metadata": {
    "id": "JT6BqYrU_NxQ"
   },
   "outputs": [
    {
     "name": "stderr",
     "output_type": "stream",
     "text": [
      "/var/folders/dn/qw26xkk51853rtytqd9ns_5r0000gn/T/ipykernel_54123/161328427.py:10: DeprecationWarning: Conversion of an array with ndim > 0 to a scalar is deprecated, and will error in future. Ensure you extract a single element from your array before performing this operation. (Deprecated NumPy 1.25.)\n",
      "  y = [[Var(float(x[i,j])) for j in range(x.shape[1])] for i in range(x.shape[0])]\n"
     ]
    }
   ],
   "source": [
    "encoded_training_set_x = []\n",
    "encoded_training_set_y = []\n",
    "encoded_validation_set_x = []\n",
    "encoded_validation_set_y = []\n",
    "encoded_test_set_x = []\n",
    "encoded_test_set_y = []\n",
    "\n",
    "for n in range(len(training_set)):\n",
    "  encoded_training_set_x.append(one_hot_encode_sequence(training_set[n][0], vocab_size))\n",
    "  encoded_training_set_y.append(one_hot_encode_sequence(training_set[n][1], vocab_size))\n",
    "for n in range(len(validation_set)):\n",
    "  encoded_validation_set_x.append(one_hot_encode_sequence(validation_set[n][0], vocab_size))\n",
    "  encoded_validation_set_y.append(one_hot_encode_sequence(validation_set[n][1], vocab_size))\n",
    "for n in range(len(test_set)):\n",
    "  encoded_test_set_x.append(one_hot_encode_sequence(test_set[n][0], vocab_size))\n",
    "  encoded_test_set_y.append(one_hot_encode_sequence(test_set[n][1], vocab_size))"
   ]
  },
  {
   "cell_type": "markdown",
   "metadata": {
    "id": "erI_MXvKk2hG"
   },
   "source": [
    "Great! Now that we have our one-hot encodings in place, we can move on to the RNNs!"
   ]
  },
  {
   "cell_type": "markdown",
   "metadata": {
    "id": "MA6bxjGWjeSB"
   },
   "source": [
    "# Introduction to Recurrent Neural Networks (RNN)\n",
    "\n",
    "Reading material: [blog post](http://karpathy.github.io/2015/05/21/rnn-effectiveness/) and (optionally) [this lecture](https://www.youtube.com/watch?v=iWea12EAu6U&list=PLoROMvodv4rOhcuXMZkNm7j3fVwBBY42z).\n",
    "\n",
    "___\n",
    "\n",
    "A recurrent neural network (RNN) is a type of neural network that has been succesful in modelling sequential data, e.g. language, speech, protein sequences, etc.\n",
    "\n",
    "A RNN performs its computations in a cyclic manner, where the same computation is applied to every sample of a given sequence.\n",
    "The idea is that the network should be able to use the previous computations as some form of memory and apply this to future computations.\n",
    "An image may best explain how this is to be understood,\n",
    "\n",
    "![rnn-unroll image](https://github.com/DeepLearningDTU/02456-2025/blob/master/static_files/rnn-unfold.png?raw=1)\n",
    "\n",
    "\n",
    "where it the network contains the following elements:\n",
    "\n",
    "- $x$ is the input sequence of samples, \n",
    "- $U$ is a weight matrix applied to the given input sample,\n",
    "- $V$ is a weight matrix used for the recurrent computation in order to pass memory along the sequence,\n",
    "- $W$ is a weight matrix used to compute the output of the every timestep (given that every timestep requires an output),\n",
    "- $h$ is the hidden state (the network's memory) for a given time step, and\n",
    "- $o$ is the resulting output.\n",
    "\n",
    "When the network is unrolled as shown, it is easier to refer to a timestep, $t$.\n",
    "We have the following computations through the network:\n",
    "\n",
    "- $h_t = f(U\\,{x_t} + V\\,{h_{t-1}})$, where $f$ is a non-linear activation function, e.g. $\\mathrm{tanh}$.\n",
    "- $o_t = W\\,{h_t}$\n",
    "\n",
    "---\n",
    "\n",
    "When we are doing **language modelling using a cross-entropy loss**, we additionally apply the **softmax** function to the output $o_{t}$:\n",
    "\n",
    "- $\\hat{y}_t = \\mathrm{softmax}(o_{t})$\n",
    "\n",
    "---\n",
    "\n",
    "### Backpropagation through time\n",
    "\n",
    "We define a loss function\n",
    "\n",
    "- $E = \\sum_t E_t  = \\sum_t E_t(y_t ,\\hat{y}_t ) \\ , $\n",
    "\n",
    "where $E_t(y_t ,\\hat{y}_t )$ is the cross-entropy function.\n",
    "\n",
    "Backpropagation through time amounts to computing the gradients of the loss using the same type of clever bookkeeping we applied to the feed-forward network in week 1. This you will do in Exercise D."
   ]
  },
  {
   "cell_type": "markdown",
   "metadata": {
    "id": "GuvwbvsGz9KE"
   },
   "source": [
    "## Implementing an RNN\n",
    "\n",
    "We will implement the forward pass, backward pass, optimization and training loop for an RNN in Nanograd so that you can get familiar with the recurrent nature of RNNs. Later, we will go back to PyTorch."
   ]
  },
  {
   "cell_type": "markdown",
   "metadata": {
    "id": "gfbfcB-NJZuM"
   },
   "source": [
    "We define the Nanograd DenseLayer class from [lab 2](https://github.com/DeepLearningDTU/02456-deep-learning-with-PyTorch/blob/master/2_Feedforward_Python/2.1-EXE-FNN-AutoDif-Nanograd.ipynb) with a few additions:\n",
    "* the option use_bias to define a layer without bias. This is useful when we define the recurrent layer and\n",
    "* a method forward_sequence which is useful when a DenseLayer is used as part of a recurrent neural network"
   ]
  },
  {
   "cell_type": "code",
   "execution_count": 82,
   "metadata": {
    "id": "TqkVyEEACHKS"
   },
   "outputs": [],
   "source": [
    "from typing import Sequence\n",
    "\n",
    "class DenseLayer:\n",
    "    def __init__(self, n_in: int, n_out: int, act_fn, initializer = NormalInitializer(), use_bias=True):\n",
    "        self.weights = initializer.init_weights(n_in, n_out)\n",
    "        self.use_bias = use_bias\n",
    "        if use_bias:\n",
    "          self.bias = initializer.init_bias(n_out)\n",
    "        self.act_fn = act_fn\n",
    "    \n",
    "    def __repr__(self):    \n",
    "        return 'Weights: ' + repr(self.weights) + (' Biases: ' + repr(self.bias) if self.use_bias else '')\n",
    "\n",
    "    def parameters(self) -> Sequence[Var]:\n",
    "      params = []\n",
    "      for r in self.weights:\n",
    "        params += r\n",
    "\n",
    "      if self.use_bias:\n",
    "        params += self.bias\n",
    "\n",
    "      return params\n",
    "\n",
    "    def forward(self, input: Sequence[Var]) -> Sequence[Var]:\n",
    "        \n",
    "        # self.weights is a matrix with dimension n_in x n_out. We check that the dimensionality of the input \n",
    "        # to the current layer matches the number of nodes in the current layer\n",
    "        assert len(self.weights) == len(input), \"weights and input must match in first dimension\"\n",
    "        \n",
    "        weights = self.weights\n",
    "        out = []\n",
    "\n",
    "        # For some given data point single_input, we now want to calculate the resulting value in each node in the current layer\n",
    "        \n",
    "        # Loop over the (number of) nodes in the current layer:\n",
    "        for j in range(len(weights[0])): \n",
    "            \n",
    "            # Initialize the node value depending on its corresponding parameters.\n",
    "            node = self.bias[j] if self.use_bias else Var(0.0)\n",
    "\n",
    "            # We now finish the linear transformation corresponding to the parameters of the currently considered node.\n",
    "            for i in range(len(input)):\n",
    "                node += input[i]*weights[i][j]\n",
    "\n",
    "            # Finally, we apply the non-linear activation function\n",
    "            node = self.act_fn(node)\n",
    "\n",
    "            # Append the computed node value to the output list\n",
    "            out.append(node)\n",
    "\n",
    "        return out\n",
    "    \n",
    "    def forward_sequence(self, input: Sequence[Sequence[Var]]) -> Sequence[Sequence[Var]]:\n",
    "        out = []\n",
    "        for i in range(len(input)): \n",
    "            node = self.forward(input[i])\n",
    "            out.append(node)\n",
    "\n",
    "        return out"
   ]
  },
  {
   "cell_type": "markdown",
   "metadata": {
    "id": "qDKFjjQEM-xX"
   },
   "source": [
    "## Exercise b) The RNNLayer class\n",
    "\n",
    "Complete the RNNLayer class below.\n",
    "\n",
    "- Explain how we reuse the `DenseLayer` class.\n",
    "- Explain what the `forward` and the `forward_sequence` method do."
   ]
  },
  {
   "cell_type": "code",
   "execution_count": 83,
   "metadata": {
    "id": "IcM1N6PQrT7l"
   },
   "outputs": [],
   "source": [
    "from typing import Sequence\n",
    "\n",
    "class RNNLayer:\n",
    "    def __init__(self, n_in: int, n_hid: int, act_fn, initializer = NormalInitializer(), initializer_hid = NormalInitializer()):\n",
    "        self.n_hid = n_hid\n",
    "        self.in_hid_layer = DenseLayer(n_in, n_hid, lambda x: x, initializer)                           # use a bias: U*x_t + b\n",
    "        self.hid_hid_layer = DenseLayer(n_hid, n_hid, lambda x: x, initializer_hid, use_bias=False)     # V*h_{t-1} -> no bias! \n",
    "        # -> These two together form the affine transformation U*x_t + V*h_{t-1} + b\n",
    "        # -> After this, we apply the non-linear activation function\n",
    "        self.initial_hid = [Var(0.0) for _ in range(n_hid)]\n",
    "        self.stored_hid = [Var(0.0) for _ in range(n_hid)]\n",
    "        self.act_fn = act_fn\n",
    "    \n",
    "    def __repr__(self):    \n",
    "        return 'Feed-forward: ' + repr(self.in_hid_layer) + ' Recurrent: ' + repr(self.hid_hid_layer) + ' Initial hidden: ' + repr(self.initial_hid)\n",
    "\n",
    "    def parameters(self) -> Sequence[Var]:      \n",
    "      return self.in_hid_layer.parameters() + self.hid_hid_layer.parameters() + self.initial_hid\n",
    "\n",
    "    def forward_step(self, input: Sequence[Var], input_hid: Sequence[Var]) -> Sequence[Var]:\n",
    "        in_hids = self.in_hid_layer.forward(input)          # contribution from input (+ bias)\n",
    "        hid_hids = self.hid_hid_layer.forward(input_hid)    # contribution from hidden state (no bias)\n",
    "\n",
    "        hids = []\n",
    "        for i in range(self.n_hid):\n",
    "          hids.append(self.act_fn(in_hids[i] + hid_hids[i]))\n",
    "\n",
    "        return hids\n",
    "    \n",
    "    def forward_sequence(self, input: Sequence[Sequence[Var]], use_stored_hid = False) -> Sequence[Sequence[Var]]:\n",
    "        out = []\n",
    "        if use_stored_hid:\n",
    "            hid = self.stored_hid\n",
    "        else:\n",
    "            hid = self.initial_hid\n",
    "        # Takes a sequence and loops over each character in the sequence. Note that each character has dimension equal to the embedding dimension\n",
    "        for i in range(len(input)):\n",
    "            # Compute h_t based on x_t and h_{t-1}\n",
    "            hid = self.forward_step(input[i], hid)\n",
    "            # here, the hid argument is\n",
    "            #   -> either the initial hidden state (if use_stored_hid is False)\n",
    "            #   -> or the stored hidden state h_{t-1} (if use_stored_hid is True)\n",
    "            out.append(hid)\n",
    "        self.stored_hid = hid\n",
    "        return out"
   ]
  },
  {
   "cell_type": "markdown",
   "metadata": {
    "id": "VgAU6qPHKJFr"
   },
   "source": [
    "Now we can define a network and pass some data through it."
   ]
  },
  {
   "cell_type": "code",
   "execution_count": 84,
   "metadata": {
    "id": "MFkZ5gNG6d7c"
   },
   "outputs": [
    {
     "name": "stdout",
     "output_type": "stream",
     "text": [
      "Feed-forward: Weights: [[Var(v=-0.1625, grad=0.0000), Var(v=0.0657, grad=0.0000), Var(v=-0.0411, grad=0.0000), Var(v=-0.1830, grad=0.0000), Var(v=-0.0810, grad=0.0000)]] Biases: [Var(v=0.0000, grad=0.0000), Var(v=0.0000, grad=0.0000), Var(v=0.0000, grad=0.0000), Var(v=0.0000, grad=0.0000), Var(v=0.0000, grad=0.0000)] Recurrent: Weights: [[Var(v=0.0923, grad=0.0000), Var(v=-0.0551, grad=0.0000), Var(v=-0.1619, grad=0.0000), Var(v=0.1118, grad=0.0000), Var(v=-0.1450, grad=0.0000)], [Var(v=0.1174, grad=0.0000), Var(v=-0.2412, grad=0.0000), Var(v=-0.0603, grad=0.0000), Var(v=-0.0671, grad=0.0000), Var(v=-0.0048, grad=0.0000)], [Var(v=0.1312, grad=0.0000), Var(v=-0.1133, grad=0.0000), Var(v=0.0761, grad=0.0000), Var(v=0.2973, grad=0.0000), Var(v=-0.0517, grad=0.0000)], [Var(v=-0.1333, grad=0.0000), Var(v=0.0690, grad=0.0000), Var(v=-0.0595, grad=0.0000), Var(v=-0.1210, grad=0.0000), Var(v=-0.0158, grad=0.0000)], [Var(v=0.0827, grad=0.0000), Var(v=-0.1023, grad=0.0000), Var(v=-0.0270, grad=0.0000), Var(v=-0.0959, grad=0.0000), Var(v=0.0363, grad=0.0000)]] Initial hidden: [Var(v=0.0000, grad=0.0000), Var(v=0.0000, grad=0.0000), Var(v=0.0000, grad=0.0000), Var(v=0.0000, grad=0.0000), Var(v=0.0000, grad=0.0000)]\n",
      "[[[Var(v=-0.0269, grad=1.0000)], [Var(v=-0.0524, grad=0.0000)], [Var(v=-0.0749, grad=0.0000)]], [[Var(v=-0.0269, grad=0.0000)], [Var(v=-0.0524, grad=0.0000)], [Var(v=-0.0749, grad=0.0000)]]]\n",
      "These are the outputs for each batch, sequence, and feature:\n",
      "Batch 0:\n",
      "  Sequence 0:\n",
      "    Feature 0: -0.026900039467467184 (grad: 1.0)\n",
      "  Sequence 1:\n",
      "    Feature 0: -0.052446833210239935 (grad: 0.0)\n",
      "  Sequence 2:\n",
      "    Feature 0: -0.07488990877730095 (grad: 0.0)\n",
      "Batch 1:\n",
      "  Sequence 0:\n",
      "    Feature 0: -0.026900039467467184 (grad: 0.0)\n",
      "  Sequence 1:\n",
      "    Feature 0: -0.052446833210239935 (grad: 0.0)\n",
      "  Sequence 2:\n",
      "    Feature 0: -0.07488990877730095 (grad: 0.0)\n"
     ]
    }
   ],
   "source": [
    "NN = [\n",
    "    RNNLayer(1, 5, lambda x: x.tanh()),\n",
    "    DenseLayer(5, 1, lambda x: x.identity())\n",
    "]\n",
    "\n",
    "def forward_batch(input: Sequence[Sequence[Sequence[Var]]], network, use_stored_hid=False):\n",
    "\n",
    "  # use_stored_hid is always False during training to prevent infinite cycles\n",
    "  #   and to make sure that each minibatch treats each sequence independently\n",
    "  #\n",
    "  #     but\n",
    "  #\n",
    "  # you could use it during inference/generation to maintain context accross batches\n",
    "\n",
    "  def forward_single_sequence(x, network, use_stored_hid):\n",
    "    for layer in network:\n",
    "        if isinstance(layer, RNNLayer):\n",
    "            x = layer.forward_sequence(x, use_stored_hid) \n",
    "        else:\n",
    "            x = layer.forward_sequence(x)\n",
    "    return x\n",
    "\n",
    "  output = [ forward_single_sequence(input[n], network, use_stored_hid) for n in range(len(input))]\n",
    "  return output\n",
    "\n",
    "print(NN[0])\n",
    "x_train =[\n",
    "          [\n",
    "              [Var(1.0)], [Var(2.0)], [Var(3.0)] # sequence 1 in batch 1\n",
    "          ], # batch 1\n",
    "          [\n",
    "              [Var(1.0)], [Var(2.0)], [Var(3.0)] # sequence 1 in batch 2\n",
    "          ]  # batch 2\n",
    "          ]\n",
    "\n",
    "output_train = forward_batch(x_train, NN)    \n",
    "# -> first dimension  = batch\n",
    "# -> second dimension = sequence\n",
    "# -> third dimension  = feature\n",
    "output_train[0][0][0].backward()\n",
    "\n",
    "print(output_train)\n",
    "\n",
    "# Print the output in an interpretable format with comments\n",
    "print(\"These are the outputs for each batch, sequence, and feature:\")\n",
    "for i, batch in enumerate(output_train):\n",
    "    print(f\"Batch {i}:\")\n",
    "    for j, seq in enumerate(batch):\n",
    "        print(f\"  Sequence {j}:\")\n",
    "        for k, var in enumerate(seq):\n",
    "            print(f\"    Feature {k}: {var.v} (grad: {var.grad})\")"
   ]
  },
  {
   "cell_type": "markdown",
   "metadata": {
    "id": "yolo5dKrk2hR"
   },
   "source": [
    "## Exercise c) Unit test\n",
    "\n",
    "Make unit tests to make sure that the output and the backward method work as it should.\n",
    "\n",
    "NOTE: The .backward() call above simply backpropagates a value in the output (and not a loss). Below, we will extend our loss functions to be able to handle backpropagation through time.\n",
    "\n",
    "Recycling code from [Week 2](https://github.com/DeepLearningDTU/02456-2025/tree/master/Week2%20Feedforward%20Python) is fine. "
   ]
  },
  {
   "cell_type": "code",
   "execution_count": 85,
   "metadata": {
    "id": "GhCB1ASwK3X7"
   },
   "outputs": [
    {
     "name": "stdout",
     "output_type": "stream",
     "text": [
      "✓ RNN forward pass test passed\n",
      "✓ RNN backward pass test passed - 10 parameters have gradients\n",
      "✓ Sequence loss tests passed\n",
      "\n",
      "✓ All unit tests passed successfully!\n"
     ]
    }
   ],
   "source": [
    "# Unit tests for RNN implementation\n",
    "\n",
    "def test_rnn_forward():\n",
    "    \"\"\"Test that RNN forward pass produces correct shapes and basic functionality\"\"\"\n",
    "    \n",
    "    # Create a simple RNN\n",
    "    rnn = RNNLayer(2, 3, lambda x: x.tanh())  # 2 input features, 3 hidden units\n",
    "    \n",
    "    # Test single step forward\n",
    "    input_step = [Var(1.0), Var(0.5)]\n",
    "    hidden_step = [Var(0.0), Var(0.0), Var(0.0)]\n",
    "    \n",
    "    output_step = rnn.forward_step(input_step, hidden_step)\n",
    "    \n",
    "    # Check output shape\n",
    "    assert len(output_step) == 3, f\"Expected 3 hidden units, got {len(output_step)}\"\n",
    "    \n",
    "    # Test sequence forward\n",
    "    input_sequence = [\n",
    "        [Var(1.0), Var(0.5)],\n",
    "        [Var(0.5), Var(1.0)],\n",
    "        [Var(0.0), Var(0.5)]\n",
    "    ]\n",
    "    \n",
    "    output_sequence = rnn.forward_sequence(input_sequence)\n",
    "    \n",
    "    # Check sequence output shape\n",
    "    assert len(output_sequence) == 3, f\"Expected sequence length 3, got {len(output_sequence)}\"\n",
    "    assert len(output_sequence[0]) == 3, f\"Expected 3 hidden units per step, got {len(output_sequence[0])}\"\n",
    "    \n",
    "    print(\"✓ RNN forward pass test passed\")\n",
    "\n",
    "def test_rnn_backward():\n",
    "    \"\"\"Test that backward pass works and gradients are computed\"\"\"\n",
    "    \n",
    "    # Create simple RNN and data\n",
    "    rnn = RNNLayer(1, 2, lambda x: x.tanh())\n",
    "    input_seq = [[Var(1.0)], [Var(0.5)]]\n",
    "    \n",
    "    # Forward pass\n",
    "    output = rnn.forward_sequence(input_seq)\n",
    "    \n",
    "    # Compute a simple loss (sum of all outputs)\n",
    "    loss = Var(0.0)\n",
    "    for step in output:\n",
    "        for unit in step:\n",
    "            loss += unit\n",
    "    \n",
    "    # Backward pass\n",
    "    loss.backward()\n",
    "    \n",
    "    # Check that gradients exist\n",
    "    params = rnn.parameters()\n",
    "    gradient_count = 0\n",
    "    for param in params:\n",
    "        if param.grad is not None:\n",
    "            gradient_count += 1\n",
    "    \n",
    "    assert gradient_count > 0, \"No gradients computed during backward pass\"\n",
    "    print(f\"✓ RNN backward pass test passed - {gradient_count} parameters have gradients\")\n",
    "\n",
    "def test_sequence_loss():\n",
    "    \"\"\"Test sequence loss functions\"\"\"\n",
    "    \n",
    "    # Create simple target and prediction sequences (list of (target, prediction) pairs)\n",
    "    target = [\n",
    "        [[Var(1.0), Var(0.0)], [Var(0.0), Var(1.0)]],  # sequence 1\n",
    "        [[Var(0.0), Var(1.0)], [Var(1.0), Var(0.0)]]   # sequence 2\n",
    "    ]\n",
    "    \n",
    "    prediction = [\n",
    "        [[Var(0.8), Var(0.2)], [Var(0.1), Var(0.9)]],  # sequence 1\n",
    "        [[Var(0.3), Var(0.7)], [Var(0.6), Var(0.4)]]   # sequence 2\n",
    "    ]\n",
    "    \n",
    "    # Test squared loss\n",
    "    sq_loss = squared_loss_sequence(target, prediction)\n",
    "    assert sq_loss.v > 0, \"Squared loss should be positive\"\n",
    "    \n",
    "    # Test cross entropy loss\n",
    "    ce_loss = cross_entropy_loss_sequence(target, prediction)\n",
    "    assert ce_loss.v > 0, \"Cross entropy loss should be positive\"\n",
    "    \n",
    "    print(\"✓ Sequence loss tests passed\")\n",
    "\n",
    "# Run the tests\n",
    "test_rnn_forward()\n",
    "test_rnn_backward()\n",
    "test_sequence_loss()\n",
    "\n",
    "print(\"\\n✓ All unit tests passed successfully!\")"
   ]
  },
  {
   "cell_type": "markdown",
   "metadata": {
    "id": "4d4_2b6mK5jH"
   },
   "source": [
    "## Exercise d) Advanced initialization\n",
    "\n",
    "How can we use He initialization for the recurrent layer?\n",
    "\n",
    "Hint: the sum of two unit variance stochastic variables have variance 2.\n",
    "\n",
    "Insert code for He initialization of the recurrent layer. Again, recycling code from Lab 2 is fine. "
   ]
  },
  {
   "cell_type": "code",
   "execution_count": 86,
   "metadata": {
    "id": "oRn3mDnzLxu2"
   },
   "outputs": [],
   "source": [
    "## He\n",
    "def DenseLayer_He_tanh(n_in: int, n_out: int):\n",
    "    # For tanh activation, He initialization uses sqrt(2/n_in)\n",
    "    # But for RNN, we need to account for the sum of input and recurrent contributions\n",
    "    # Since we have both input and hidden contributions, and they have unit variance,\n",
    "    # their sum has variance 2, so we use sqrt(1/n_in) to compensate\n",
    "    std = (1.0 / n_in) ** 0.5  # He initialization for tanh with recurrent considerations\n",
    "    return DenseLayer(n_in, n_out, lambda x: x.tanh(), initializer = NormalInitializer(std))"
   ]
  },
  {
   "cell_type": "markdown",
   "metadata": {
    "id": "ozNN9xXML0yc"
   },
   "source": [
    "## Exercise e) Sequence loss function\n",
    "\n",
    "We want to solve a **sequence to sequence** (encoder-decoder) problem. So you need a **sequence loss function.**\n",
    "\n",
    "Implement the function such that the sequence loss can \n",
    "- take flexible input dimensions \n",
    "- take any loss as an argument, such as squared loss and cross entropy. (We recommend using cross entropy below)\n",
    "\n",
    "We have provided a bit of code to try it out.\n",
    "\n",
    "Hints: You can get inspiration from the forward_sequence method above. You can copy and paste squared loss and cross entropy from Lab 2. "
   ]
  },
  {
   "cell_type": "code",
   "execution_count": 87,
   "metadata": {
    "id": "bYpEnbeMP4yL"
   },
   "outputs": [
    {
     "name": "stdout",
     "output_type": "stream",
     "text": [
      "[[[Var(v=0.0103, grad=0.0000), Var(v=0.0171, grad=0.0000), Var(v=0.0019, grad=0.0000), Var(v=-0.0302, grad=0.0000)], [Var(v=0.0100, grad=0.0000), Var(v=0.0217, grad=0.0000), Var(v=0.0035, grad=0.0000), Var(v=-0.0332, grad=0.0000)], [Var(v=0.0097, grad=0.0000), Var(v=0.0225, grad=0.0000), Var(v=0.0038, grad=0.0000), Var(v=-0.0333, grad=0.0000)], [Var(v=-0.0119, grad=0.0000), Var(v=-0.0010, grad=0.0000), Var(v=0.0040, grad=0.0000), Var(v=0.0207, grad=0.0000)], [Var(v=-0.0123, grad=0.0000), Var(v=-0.0084, grad=0.0000), Var(v=0.0017, grad=0.0000), Var(v=0.0270, grad=0.0000)], [Var(v=-0.0118, grad=0.0000), Var(v=-0.0099, grad=0.0000), Var(v=0.0011, grad=0.0000), Var(v=0.0272, grad=0.0000)]], [[Var(v=0.0103, grad=0.0000), Var(v=0.0171, grad=0.0000), Var(v=0.0019, grad=0.0000), Var(v=-0.0302, grad=0.0000)], [Var(v=-0.0115, grad=0.0000), Var(v=-0.0019, grad=0.0000), Var(v=0.0036, grad=0.0000), Var(v=0.0207, grad=0.0000)]], [[Var(v=0.0103, grad=0.0000), Var(v=0.0171, grad=0.0000), Var(v=0.0019, grad=0.0000), Var(v=-0.0302, grad=0.0000)], [Var(v=0.0100, grad=0.0000), Var(v=0.0217, grad=0.0000), Var(v=0.0035, grad=0.0000), Var(v=-0.0332, grad=0.0000)], [Var(v=0.0097, grad=0.0000), Var(v=0.0225, grad=0.0000), Var(v=0.0038, grad=0.0000), Var(v=-0.0333, grad=0.0000)], [Var(v=-0.0119, grad=0.0000), Var(v=-0.0010, grad=0.0000), Var(v=0.0040, grad=0.0000), Var(v=0.0207, grad=0.0000)], [Var(v=-0.0123, grad=0.0000), Var(v=-0.0084, grad=0.0000), Var(v=0.0017, grad=0.0000), Var(v=0.0270, grad=0.0000)], [Var(v=-0.0118, grad=0.0000), Var(v=-0.0099, grad=0.0000), Var(v=0.0011, grad=0.0000), Var(v=0.0272, grad=0.0000)]]]\n",
      "Loss: Var(v=51.0284, grad=0.0000)\n"
     ]
    }
   ],
   "source": [
    "# Sequence loss functions\n",
    "\n",
    "def squared_loss_sequence(t, y):\n",
    "    \n",
    "    # t: target sequences\n",
    "    # y: predicted sequences\n",
    "\n",
    "    # Both should be of shape [batch_size][sequence_length][features]\n",
    "    \n",
    "    # add check that sizes agree\n",
    "    assert len(t) == len(y), \"Target and prediction batch sizes must match\"\n",
    "    \n",
    "    def squared_loss_single(t_seq, y_seq):\n",
    "        \n",
    "        # t_seq: single target sequence\n",
    "        # y_seq: single predicted sequence\n",
    "\n",
    "        # add check that sizes agree\n",
    "        assert len(t_seq) == len(y_seq), \"Target and prediction sequence lengths must match\"\n",
    "        \n",
    "        Loss = Var(0.0)\n",
    "        \n",
    "        # Loop over all time steps in the sequence\n",
    "        for i in range(len(t_seq)):\n",
    "            assert len(t_seq[i]) == len(y_seq[i]), \"Feature dimensions must match\"\n",
    "            # Loop over all features in the current time step\n",
    "            for j in range(len(t_seq[i])):\n",
    "                diff = t_seq[i][j] - y_seq[i][j]\n",
    "                Loss += diff * diff\n",
    "        \n",
    "        return Loss\n",
    "\n",
    "    Loss = Var(0.0)\n",
    "    \n",
    "    # Loop over all sequences in the batch\n",
    "    for i in range(len(t)):\n",
    "        Loss += squared_loss_single(t[i], y[i])\n",
    "\n",
    "    return Loss\n",
    "\n",
    "def cross_entropy_loss_sequence(t, y):\n",
    "    # t: target sequences (one-hot)\n",
    "    # y: predicted sequences \n",
    "    #     = logits\n",
    "    #     = outputs of last layer\n",
    "    #     -> we will apply softmax inside the loss function\n",
    "\n",
    "    # Check that the batch sizes agree\n",
    "    assert len(t) == len(y), \"Target and prediction batch sizes must match\"\n",
    "\n",
    "    def cross_entropy_loss_single(t_seq, y_seq):\n",
    "        \n",
    "        # softmax_i = exp(logit_i) / sum_j exp(logits_j)\n",
    "        # cross_entropy = - sum_i t_i * log(softmax_i)\n",
    "        \n",
    "        # t_seq: single target sequence\n",
    "        # y_seq: single predicted sequence\n",
    "\n",
    "        # add check that sizes agree\n",
    "        assert len(t_seq) == len(y_seq), \"Target and prediction sequence lengths must match\"\n",
    "\n",
    "        Loss = Var(0.0)\n",
    "        \n",
    "        # Loop over all time steps in the sequence\n",
    "        for i in range(len(t_seq)):\n",
    "            assert len(t_seq[i]) == len(y_seq[i]), \"Feature dimensions must match\"\n",
    "            \n",
    "            # Compute softmax denominator for current time step\n",
    "            denominator = Var(0.0)\n",
    "\n",
    "            for j in range(len(y_seq[i])):\n",
    "                denominator += y_seq[i][j].exp()\n",
    "            \n",
    "            # Compute cross-entropy loss for current time step\n",
    "            # Loop over all features in the current time step\n",
    "            for j in range(len(t_seq[i])):\n",
    "                # Only compute loss for true class (one-hot encoding)\n",
    "                if t_seq[i][j].v > 0:  \n",
    "                    Loss += -(y_seq[i][j] - denominator.log())\n",
    "        return Loss\n",
    "\n",
    "    Loss = Var(0.0)\n",
    "    \n",
    "    for i in range(len(t)):\n",
    "        Loss += cross_entropy_loss_single(t[i], y[i])\n",
    "\n",
    "    return Loss\n",
    "\n",
    "def sequence_loss(t: Sequence[Sequence[Var]], y: Sequence[Sequence[Var]], loss_fn=cross_entropy_loss_sequence) -> Var:\n",
    "    assert len(t) == len(y)\n",
    "    return loss_fn(t, y)\n",
    "\n",
    "\n",
    "# Test of loss func\n",
    "NN = [\n",
    "    RNNLayer(4, 2, lambda x: x.tanh()),\n",
    "    DenseLayer(2, 4, lambda x: x.identity())\n",
    "]\n",
    "\n",
    "output_train = forward_batch(encoded_training_set_x[:3], NN)\n",
    "print(output_train)       \n",
    "loss = sequence_loss(output_train, encoded_training_set_y[:3], cross_entropy_loss_sequence)\n",
    "print(\"Loss:\", loss)"
   ]
  },
  {
   "cell_type": "markdown",
   "metadata": {
    "id": "ezSRiVJzk2h5"
   },
   "source": [
    "# Backpropagation through time \n",
    "\n",
    "Since we have **automatic differentiation** we don't have to code the backpropagation rule by hand. Just to give you a bit of appreciation for have much bookkeeping is necessary we have given the derivation belwo.\n",
    "\n",
    "We need to compute the partial derivatives\n",
    "$\n",
    "\\frac{\\partial E}{\\partial W},~\\frac{\\partial E}{\\partial U},~\\frac{\\partial E}{\\partial V}\n",
    "$. \n",
    "We repeat the definition of the RNN forward pass from above:\n",
    "\n",
    "- $h_t = f(U\\,{x_t} + V\\,{h_{t-1}})$, where $f$ usually is an activation function, e.g. $\\mathrm{tanh}$.\n",
    "- $o_t = W\\,{h_t}$\n",
    "- $\\hat{y}_t = \\mathrm{softmax}(o_{t})$\n",
    "\n",
    "where\n",
    "- $U$ is a weight matrix applied to the given input sample,\n",
    "- $V$ is a weight matrix used for the recurrent computation in order to pass memory along the sequence,\n",
    "- $W$ is a weight matrix used to compute the output of the every timestep (given that every timestep requires an output), and\n",
    "- $h$ is the hidden state (the network's memory) for a given time step.\n",
    "\n",
    "---\n",
    "\n",
    "Recall though, that RNNs are **recurrent** and the **weights** **$W,~U,~V$ are shared across time**, i.e. **we do not have separate weights for each time step**. \n",
    "\n",
    "---\n",
    "\n",
    "We define a loss function\n",
    "\n",
    "- $E = \\sum_t E_t  = \\sum_t E_t(y_t ,\\hat{y}_t ) \\ , $\n",
    "\n",
    "where $E_t(y_t ,\\hat{y}_t )$ is the cross-entropy function:\n",
    "\n",
    "$$\n",
    "\\begin{aligned}\n",
    "E_t(y_t ,\\hat{y}_t ) &= - \\sum_{i=1}^{c} y_{t,i} \\log(\\hat{y}_{t,i}) \\\\\n",
    "&= - \\sum_{i=1}^{c} y_{t,i} \\log\\left(\\frac{\\exp(o_{t,i})}{\\sum_{j=1}^{c} \\exp(o_{t,j})}\\right) \\\\\n",
    "&= - \\sum_{i=1}^{c} y_{t,i} \\left(o_{t,i} - \\log \\left(\\sum_{j=1}^{c} \\exp(o_{t,j})\\right)\\right) \\\\\n",
    "&= - \\sum_{i=1}^{c} y_{t,i} o_{t,i} + \\log\\left(\\sum_{j=1}^{c} \\exp(o_{t,j})\\right)\n",
    "\\end{aligned}\n",
    "$$\n",
    "\n",
    "---\n",
    "\n",
    "Therefore, to compute e.g. the partial derivative $\\frac{\\partial E}{\\partial W}$, we need to 1) sum up across time, and 2) apply the chain rule:\n",
    "\n",
    "$$\\frac{\\partial E}{\\partial W} = \\sum_{t} \\frac{\\partial E}{\\partial o_{t}} \\frac{\\partial o_{t}}{\\partial W}\\,.$$\n",
    "\n",
    "To compute $\\frac{\\partial o_{t}}{\\partial W}$ we use the definition of $o_t$ above.\n",
    "From week 1 (exercise i) we have that\n",
    "$$\\boxed{\\delta_{o,t} \\equiv \\frac{\\partial E}{\\partial o_{t}}} = \\frac{\\partial E_t}{\\partial o_{t}} = \\hat{y}_{t} - y_{t}\\,,$$\n",
    "where $\\hat{y}_{t}$ is a softmax distribution over model outputs $o_{t}$ at time $t$, and $y_{t}$ is the target label at time $t$. \n",
    "\n",
    "Why is $\\frac{\\partial E_t}{\\partial o_{t}} = \\hat{y}_{t} - y_{t}$?\n",
    "$$\n",
    "\\begin{aligned}\n",
    "\\frac{\\partial E_t}{\\partial o_{t,i}} &= - \\sum_{k=1}^{c} y_{t,k} \\frac{\\partial o_{t,k}}{\\partial o_{t,i}} + \\frac{1}{\\sum_{j=1}^{c} \\exp(o_{t,j})} \\sum_{j=1}^{c} \\exp(o_{t,j}) \\frac{\\partial o_{t,j}}{\\partial o_{t,i}} \\\\\n",
    "&= - y_{t,i} + \\frac{\\exp(o_{t,i})}{\\sum_{j=1}^{c} \\exp(o_{t,j})} \\\\\n",
    "&= \\hat{y}_{t,i} - y_{t,i} \\ .\n",
    "\\end{aligned}\n",
    "$$\n",
    "\n",
    "To compute $\\frac{\\partial E}{\\partial U}$ and $\\frac{\\partial E}{\\partial V}$ we again sum over time and use the chain rule:\n",
    "$$\n",
    "\\frac{\\partial E}{\\partial U} = \\sum_{t} \\frac{\\partial E}{\\partial h_{t}} \\frac{\\partial h_{t}}{\\partial U} \\ . \n",
    "$$\n",
    "This leads us to introduce\n",
    "$$\n",
    "\\delta_{h,t} \\equiv \\frac{\\partial E}{\\partial h_{t}} \\ .\n",
    "$$\n",
    "The backpropagation through time recursion is derived by realising that a variation of $h_t$ affects 1) the loss at time step $t$ through the feed-forward connection to the output and 2) the future losses through the $h_{t+1}$ dependence of $h_t$. Mathematically, we write this through the chain rule:\n",
    "\n",
    "$$\n",
    "\\delta_{h,t} \\equiv \\frac{\\partial E}{\\partial h_{t}} =  \\frac{\\partial E}{\\partial o_{t}} \\frac{\\partial o_t}{\\partial h_{t}} + \\frac{\\partial E}{\\partial h_{t+1}}\n",
    "\\frac{\\partial h_{t+1}}{\\partial h_{t}} = \\delta_{o,t} \\frac{\\partial o_t}{\\partial h_{t}} + \\delta_{h,t+1}\n",
    "\\frac{\\partial h_{t+1}}{\\partial h_{t}} \\ . \n",
    "$$\n",
    "\n",
    "Like above we can compute $\\frac{\\partial h_{t+1}}{\\partial h_{t}}$ using the definition of the network (shifted one time step). In the code the intermediate steps to compute the $\\delta$ recursions have been precomputed for you. \n",
    "\n",
    "For more information on backpropagation through time see the [Goodfellow book section 10.2.2](https://www.deeplearningbook.org/contents/rnn.html).\n"
   ]
  },
  {
   "cell_type": "markdown",
   "metadata": {
    "id": "XIy3OZaQSrVL"
   },
   "source": [
    "# Exercise f) Complete the training loop\n",
    "\n",
    "Complete the training loop above and run the training. You can leave the hyper-parameters and network size unchanged.\n",
    "\n",
    "Note that despite the small size of the network and dataset, training still takes quite a while. This is an issue with the recurrent structure of Nanograd. Using PyTorch, we would be able to use much larger datasets and models. We will attempt that in the bottom of the notebook. For now, you should get a feel of the recurrent structure of the RNN under the hood."
   ]
  },
  {
   "cell_type": "code",
   "execution_count": 88,
   "metadata": {
    "id": "MkaqbWmroncY"
   },
   "outputs": [],
   "source": [
    "# Initialize training hyperparameters\n",
    "EPOCHS = 200\n",
    "LR = 1e-2 \n",
    "LR_DECAY = 0.995"
   ]
  },
  {
   "cell_type": "code",
   "execution_count": 89,
   "metadata": {},
   "outputs": [],
   "source": [
    "# Helper functions for training\n",
    "def parameters(network):\n",
    "    \"\"\"Extract all parameters from a network\"\"\"\n",
    "    params = []\n",
    "    for layer in network:\n",
    "        params.extend(layer.parameters())\n",
    "    return params\n",
    "\n",
    "def update_parameters(params, learning_rate=0.01):\n",
    "    \"\"\"Update parameters using gradient descent\"\"\"\n",
    "    for param in params:\n",
    "        param.v -= learning_rate * param.grad\n",
    "\n",
    "def zero_gradients(params):\n",
    "    \"\"\"Zero out all gradients\"\"\"\n",
    "    for param in params:\n",
    "        param.grad = 0.0"
   ]
  },
  {
   "cell_type": "code",
   "execution_count": 90,
   "metadata": {
    "id": "-JtM_IQjonfK"
   },
   "outputs": [
    {
     "name": "stdout",
     "output_type": "stream",
     "text": [
      "   0 ( 0.00%) Train loss: 5.169 \t Validation loss: 4.228\n",
      "   5 ( 2.50%) Train loss: 4.254 \t Validation loss: 3.520\n",
      "  10 ( 5.00%) Train loss: 3.472 \t Validation loss: 2.948\n",
      "  15 ( 7.50%) Train loss: 3.049 \t Validation loss: 2.719\n",
      "  20 (10.00%) Train loss: 2.866 \t Validation loss: 2.663\n",
      "  25 (12.50%) Train loss: 2.738 \t Validation loss: 2.597\n",
      "  30 (15.00%) Train loss: 2.480 \t Validation loss: 2.294\n",
      "  35 (17.50%) Train loss: 2.222 \t Validation loss: 1.995\n",
      "  40 (20.00%) Train loss: 2.550 \t Validation loss: 2.786\n",
      "  45 (22.50%) Train loss: 2.021 \t Validation loss: 1.888\n",
      "  50 (25.00%) Train loss: 2.532 \t Validation loss: 2.499\n",
      "  55 (27.50%) Train loss: 1.782 \t Validation loss: 1.849\n",
      "  60 (30.00%) Train loss: 2.083 \t Validation loss: 1.843\n",
      "  65 (32.50%) Train loss: 2.121 \t Validation loss: 1.903\n",
      "  70 (35.00%) Train loss: 2.042 \t Validation loss: 1.786\n",
      "  75 (37.50%) Train loss: 1.912 \t Validation loss: 1.739\n",
      "  80 (40.00%) Train loss: 1.993 \t Validation loss: 1.757\n",
      "  85 (42.50%) Train loss: 1.638 \t Validation loss: 1.646\n",
      "  90 (45.00%) Train loss: 1.945 \t Validation loss: 1.720\n",
      "  95 (47.50%) Train loss: 1.498 \t Validation loss: 1.623\n",
      " 100 (50.00%) Train loss: 1.805 \t Validation loss: 1.660\n",
      " 105 (52.50%) Train loss: 1.673 \t Validation loss: 1.625\n",
      " 110 (55.00%) Train loss: 1.665 \t Validation loss: 1.611\n",
      " 115 (57.50%) Train loss: 1.637 \t Validation loss: 1.595\n",
      " 120 (60.00%) Train loss: 1.614 \t Validation loss: 1.582\n",
      " 125 (62.50%) Train loss: 1.592 \t Validation loss: 1.570\n",
      " 130 (65.00%) Train loss: 1.570 \t Validation loss: 1.559\n",
      " 135 (67.50%) Train loss: 1.550 \t Validation loss: 1.548\n",
      " 140 (70.00%) Train loss: 1.530 \t Validation loss: 1.538\n",
      " 145 (72.50%) Train loss: 1.511 \t Validation loss: 1.529\n",
      " 150 (75.00%) Train loss: 1.492 \t Validation loss: 1.521\n",
      " 155 (77.50%) Train loss: 1.474 \t Validation loss: 1.512\n",
      " 160 (80.00%) Train loss: 1.457 \t Validation loss: 1.505\n",
      " 165 (82.50%) Train loss: 1.441 \t Validation loss: 1.497\n",
      " 170 (85.00%) Train loss: 1.425 \t Validation loss: 1.490\n",
      " 175 (87.50%) Train loss: 1.411 \t Validation loss: 1.484\n",
      " 180 (90.00%) Train loss: 1.398 \t Validation loss: 1.477\n",
      " 185 (92.50%) Train loss: 1.385 \t Validation loss: 1.471\n",
      " 190 (95.00%) Train loss: 1.374 \t Validation loss: 1.466\n",
      " 195 (97.50%) Train loss: 1.363 \t Validation loss: 1.461\n"
     ]
    },
    {
     "data": {
      "image/png": "[encoded data removed]",
      "text/plain": [
       "<Figure size 640x480 with 1 Axes>"
      ]
     },
     "metadata": {},
     "output_type": "display_data"
    }
   ],
   "source": [
    "train_loss = []\n",
    "val_loss = []\n",
    "\n",
    "batch_size = 8\n",
    "\n",
    "for e in range(EPOCHS):\n",
    "    for b in range(int(np.ceil(len(encoded_training_set_x)/batch_size))):\n",
    "        # Forward pass and loss computation\n",
    "\n",
    "        start = b*batch_size\n",
    "        end = min((b+1)*batch_size, len(encoded_training_set_x))\n",
    "        # Here we use mini-batches of size `batch_size`\n",
    "        # Also, we use the stored hidden state\n",
    "        output = forward_batch(encoded_training_set_x[start:end], NN, use_stored_hid=False)\n",
    "        Loss = sequence_loss(encoded_training_set_y[start:end], output, cross_entropy_loss_sequence)\n",
    "        \n",
    "        # Backward pass\n",
    "        Loss.backward()\n",
    "        \n",
    "        # gradient descent update\n",
    "        update_parameters(parameters(NN), LR)\n",
    "        zero_gradients(parameters(NN))\n",
    "      \n",
    "    LR = LR * LR_DECAY\n",
    "\n",
    "    # Training loss\n",
    "    # Here, we use the entire training set to compute the training loss\n",
    "    # (not mini-batches as above)\n",
    "    # Also, we don't use the stored hidden state\n",
    "    # (we want to compute the loss over the entire sequences)\n",
    "    output = forward_batch(encoded_training_set_x, NN, use_stored_hid=False)\n",
    "    Loss = sequence_loss(encoded_training_set_y, output, cross_entropy_loss_sequence)\n",
    "    train_loss.append(Loss.v/len(encoded_training_set_y))\n",
    "        \n",
    "    # Validation loss\n",
    "    Loss_validation = Var(0.0)\n",
    "    output = forward_batch(encoded_validation_set_x, NN, use_stored_hid=False)\n",
    "    Loss_validation = sequence_loss(encoded_validation_set_y, output, cross_entropy_loss_sequence)\n",
    "    val_loss.append(Loss_validation.v/len(encoded_validation_set_y))\n",
    "    \n",
    "    if e%5==0:\n",
    "        print(\"{:4d}\".format(e),\n",
    "              \"({:5.2f}%)\".format(e/EPOCHS*100), \n",
    "              \"Train loss: {:4.3f} \\t Validation loss: {:4.3f}\".format(train_loss[-1], val_loss[-1]))\n",
    "        \n",
    "# Plot training and validation loss\n",
    "import matplotlib.pyplot as plt\n",
    "%matplotlib inline\n",
    "epoch = np.arange(len(train_loss))\n",
    "plt.figure()\n",
    "plt.plot(epoch, train_loss, 'r', label='Training loss',)\n",
    "plt.plot(epoch, val_loss, 'b', label='Validation loss')\n",
    "plt.legend()\n",
    "plt.xlabel('Epoch'), plt.ylabel('NLL')\n",
    "plt.show()"
   ]
  },
  {
   "cell_type": "code",
   "execution_count": 91,
   "metadata": {
    "id": "nAI_D6g25pTQ"
   },
   "outputs": [
    {
     "name": "stdout",
     "output_type": "stream",
     "text": [
      "Input sentence:\n",
      "['a', 'a', 'a', 'b', 'b', 'b']\n",
      "\n",
      "Target sequence:\n",
      "['a', 'a', 'b', 'b', 'b', 'EOS']\n",
      "\n",
      "Predicted sequence:\n",
      "['a', 'b', 'b', 'b', 'b', 'EOS']\n"
     ]
    },
    {
     "name": "stderr",
     "output_type": "stream",
     "text": [
      "/var/folders/dn/qw26xkk51853rtytqd9ns_5r0000gn/T/ipykernel_54123/161328427.py:10: DeprecationWarning: Conversion of an array with ndim > 0 to a scalar is deprecated, and will error in future. Ensure you extract a single element from your array before performing this operation. (Deprecated NumPy 1.25.)\n",
      "  y = [[Var(float(x[i,j])) for j in range(x.shape[1])] for i in range(x.shape[0])]\n"
     ]
    }
   ],
   "source": [
    "# Get first sentence in test set\n",
    "inputs, targets = test_set[0]\n",
    "\n",
    "# One-hot encode input and target sequence\n",
    "inputs_one_hot = one_hot_encode_sequence(inputs, vocab_size)\n",
    "targets_one_hot = one_hot_encode_sequence(targets, vocab_size)\n",
    "\n",
    "# Forward pass\n",
    "outputs = forward_batch(encoded_test_set_x[:1], NN)\n",
    "\n",
    "output_sentence = [idx_to_word[np.argmax(output)] for output in Var_to_nparray(outputs[0])]\n",
    "\n",
    "print('Input sentence:')\n",
    "print(inputs)\n",
    "\n",
    "print('\\nTarget sequence:')\n",
    "print(targets)\n",
    "\n",
    "print('\\nPredicted sequence:')\n",
    "print([idx_to_word[np.argmax(output)] for output in Var_to_nparray(outputs[0])])"
   ]
  },
  {
   "cell_type": "markdown",
   "metadata": {
    "id": "Nn7QpUZXk2iH"
   },
   "source": [
    "## Exercise g) Extrapolation\n",
    "\n",
    "Now that we have trained an RNN, it's time to put it to test. We will provide the network with a starting sentence and let it `freestyle` from there!\n",
    "\n",
    "How well does your RNN extrapolate -- does it work as expected? Are there any imperfections? If yes, why could that be?"
   ]
  },
  {
   "cell_type": "code",
   "execution_count": 92,
   "metadata": {
    "id": "4GNsD6HEJ-Gn"
   },
   "outputs": [
    {
     "name": "stdout",
     "output_type": "stream",
     "text": [
      "Example 0: a a b\n",
      "Predicted sequence: ['a', 'a', 'b', 'b', 'EOS']\n",
      "\n",
      "Example 1: a a a a b\n",
      "Predicted sequence: ['a', 'a', 'a', 'a', 'b', 'b', 'EOS']\n",
      "\n",
      "Example 2: a a a a a a b\n",
      "Predicted sequence: ['a', 'a', 'a', 'a', 'a', 'a', 'b', 'b', 'EOS']\n",
      "\n",
      "Example 3: a\n",
      "Predicted sequence: ['a', 'a', 'a', 'a', 'a', 'a', 'a', 'a', 'a', 'a', 'a']\n",
      "\n",
      "Example 4: r n n\n",
      "Predicted sequence: ['r', 'n', 'n', 'b', 'EOS']\n",
      "\n"
     ]
    },
    {
     "name": "stderr",
     "output_type": "stream",
     "text": [
      "/var/folders/dn/qw26xkk51853rtytqd9ns_5r0000gn/T/ipykernel_54123/161328427.py:10: DeprecationWarning: Conversion of an array with ndim > 0 to a scalar is deprecated, and will error in future. Ensure you extract a single element from your array before performing this operation. (Deprecated NumPy 1.25.)\n",
      "  y = [[Var(float(x[i,j])) for j in range(x.shape[1])] for i in range(x.shape[0])]\n"
     ]
    }
   ],
   "source": [
    "def freestyle(NN, sentence='', num_generate=10):\n",
    "    \"\"\"\n",
    "    Takes in a sentence as a string and outputs a sequence\n",
    "    based on the predictions of the RNN.\n",
    "    \n",
    "    Args:\n",
    "     `params`: the parameters of the network\n",
    "     `sentence`: string with whitespace-separated tokens\n",
    "     `num_generate`: the number of tokens to generate\n",
    "    \"\"\"\n",
    "    sentence = sentence.split(' ')\n",
    "    output_sentence = sentence\n",
    "    sentence_one_hot = one_hot_encode_sequence(sentence, vocab_size)\n",
    "\n",
    "    # Begin predicting\n",
    "    outputs = forward_batch([sentence_one_hot], NN, use_stored_hid=False)\n",
    "    output_words = [idx_to_word[np.argmax(output)] for output in Var_to_nparray(outputs[0])]\n",
    "    word = output_words[-1]\n",
    "\n",
    "    # Append first prediction\n",
    "    output_sentence.append(word)\n",
    "\n",
    "    # Forward pass - Insert code here!\n",
    "    if word != 'EOS':\n",
    "      for i in range(num_generate-1):\n",
    "          sentence_one_hot = one_hot_encode_sequence([word], vocab_size)\n",
    "          outputs = forward_batch([sentence_one_hot], NN, use_stored_hid=False)\n",
    "          output_words = [idx_to_word[np.argmax(output)] for output in Var_to_nparray(outputs[0])]\n",
    "          word = output_words[-1]\n",
    "          output_sentence.append(word)\n",
    "          if word == 'EOS':\n",
    "              break\n",
    "          \n",
    "    return output_sentence\n",
    "\n",
    "\n",
    "# Perform freestyle (extrapolation)\n",
    "test_examples = ['a a b', 'a a a a b', 'a a a a a a b', 'a', 'r n n']\n",
    "for i, test_example in enumerate(test_examples):\n",
    "    print(f'Example {i}:', test_example)\n",
    "    print('Predicted sequence:', freestyle(NN, sentence=test_example), end='\\n\\n')"
   ]
  },
  {
   "cell_type": "markdown",
   "metadata": {
    "id": "X44hQ653vNCj"
   },
   "source": [
    "# Introduction to the Long Short-Term Memory (LSTM) Cell\n",
    "\n",
    "Reading material: [Christopher Olah's walk-through](http://colah.github.io/posts/2015-08-Understanding-LSTMs/).\n",
    "\n",
    "___\n",
    "\n",
    "\n",
    "A vanilla RNN suffers from [the vanishing gradients problem](http://neuralnetworksanddeeplearning.com/chap5.html#the_vanishing_gradient_problem) which gives challenges in saving memory over longer sequences. To combat these issues the gated hidden units were created. The two most prominent gated hidden units are the Long Short-Term Memory (LSTM) cell and the Gated Recurrent Unit (GRU), both of which have shown increased performance in saving and reusing memory in later timesteps. In this exercise, we will focus on LSTM but you would easily be able to go ahead and implement the GRU as well based on the principles that you learn here.\n",
    "\n",
    "Below is a figure of the LSTM cell:"
   ]
  },
  {
   "cell_type": "markdown",
   "metadata": {
    "id": "5Rgc-g3zwV9f"
   },
   "source": [
    "![lstm](https://i.imgur.com/3VkmUCe.png)\n",
    "![lstm2](../static_files/lstm.webp)\n",
    "Source: https://arxiv.org/abs/1412.7828"
   ]
  },
  {
   "cell_type": "markdown",
   "metadata": {
    "id": "ytasZ5cqw4W1"
   },
   "source": [
    "\n",
    "The LSTM cell contains three gates, input, forget, output gates and a memory cell.\n",
    "The output of the LSTM unit is computed with the following functions, where $\\sigma = \\mathrm{sigmoid}$.\n",
    "We have input gate $i$, forget gate $f$, and output gate $o$ defines as\n",
    "\n",
    "$$\\begin{aligned}\n",
    "f &= \\sigma ( W^f [h_{t-1},x_t]) \\in [0,1] && \\text{ determines percentage that is remembered from long-term memory}\\\\\n",
    "i &= \\sigma ( W^i [h_{t-1}, x_t]) \\in [0,1] && \\text{ determines percentage that is taken from the candidate } \\tilde{C}_t\\\\\n",
    "o &= \\sigma ( W^o [h_{t-1},x_t]) \\in [0,1] && \\text{ determines percentage of the cell's memory that is outputted}\\\\\n",
    "\\end{aligned}$$\n",
    "\n",
    "where $W^i, W^f, W^o$ are weight matrices applied to a concatenated $h_{t-1}$ (hidden state vector) and $x_t$ (input vector)  for each respective gate.\n",
    "\n",
    "The hidden state $h_{t-1}$ from the previous time step, along with the current input $x_t$ are used to compute the a candidate $g = \\tilde{c}_t$:\n",
    "$$g = \\tilde{c}_t = \\mathrm{tanh}( W^g [h_{t-1}, x_t])$$\n",
    "\n",
    "The value of the cell's memory, $c_t$, is updated as\n",
    "$$c_t = (c_{t-1} \\circ f) + (g \\circ i)$$\n",
    "where $c_{t-1}$ is the previous memory, and $\\circ$ refers to element-wise multiplication (hint: element-wise multiplication is computed with the `*` operator in numpy).\n",
    "\n",
    "The output, $h_t$, is computed as the memory, $c_t \\in [-1,1]$, filtered by the output gate, $o \\in [0,1]$:\n",
    "$$h_t = \\mathrm{tanh}(c_t) \\circ o$$\n",
    "\n",
    "and it is used for both the timestep's output and the next timestep, whereas $c_t$ is exclusively sent to the next timestep.\n",
    "This makes $c_t$ a memory feature, and is not used directly to compute the output of the timestep."
   ]
  },
  {
   "cell_type": "markdown",
   "metadata": {
    "id": "m8_4RWp3k2iQ"
   },
   "source": [
    "## Exercise h) Make the LSTMLayer class\n",
    "\n",
    "Make the LSTM class."
   ]
  },
  {
   "cell_type": "code",
   "execution_count": 101,
   "metadata": {
    "id": "qdU0yMXQU7d0"
   },
   "outputs": [],
   "source": [
    "# Insert code here\n",
    "\n",
    "class LSTMLayer:\n",
    "    def __init__(self, n_in: int, n_hid: int, act_fn, initializer = NormalInitializer(), initializer_hid = NormalInitializer()):\n",
    "        self.n_in = n_in\n",
    "        self.n_hid = n_hid\n",
    "        self.g_layer = DenseLayer(n_hid + n_in, n_hid, act_fn, initializer)                 # candidate\n",
    "        self.i_layer = DenseLayer(n_hid + n_in, n_hid, lambda x: x.sigmoid(), initializer)  # input gate\n",
    "        self.f_layer = DenseLayer(n_hid + n_in, n_hid, lambda x: x.sigmoid(), initializer)  # forget gate\n",
    "        self.o_layer = DenseLayer(n_hid + n_in, n_hid, lambda x: x.sigmoid(), initializer)  # output gate\n",
    "        self.initial_hid = [Var(0.0) for _ in range(n_hid)]\n",
    "        self.stored_hid = [Var(0.0) for _ in range(n_hid)]\n",
    "        self.initial_c = [Var(0.0) for _ in range(n_hid)]\n",
    "        self.stored_c = [Var(0.0) for _ in range(n_hid)]\n",
    "        self.act_fn = act_fn\n",
    "    \n",
    "    def __repr__(self):    \n",
    "        return 'Feed-forward: ' + '\\nCandidate: ' + repr(self.g_layer) + '\\n i gate ' + repr(self.i_layer) + '\\n f gate ' + repr(self.f_layer) + '\\n o gate ' + repr(self.o_layer) + '\\n Initial hidden: ' + repr(self.initial_hid)\n",
    "\n",
    "    def parameters(self) -> Sequence[Var]:      \n",
    "      return self.g_layer.parameters() + self.i_layer.parameters() + self.f_layer.parameters() + self.o_layer.parameters() + self.initial_hid\n",
    "\n",
    "    def forward_step(self, input: Sequence[Var], input_hid: Sequence[Var], input_c: Sequence[Var]) -> Sequence[Var]:\n",
    "        hids = []\n",
    "        cs = []\n",
    "        concatenated_input = []\n",
    "        for val in input_hid:\n",
    "          concatenated_input.append(val)\n",
    "        for val in input:\n",
    "          concatenated_input.append(val)\n",
    "\n",
    "        # code\n",
    "        g = self.g_layer.forward(concatenated_input)  # candidate\n",
    "        i = self.i_layer.forward(concatenated_input)  # input gate\n",
    "        f = self.f_layer.forward(concatenated_input)  # forget gate\n",
    "        o = self.o_layer.forward(concatenated_input)  # output gate\n",
    "\n",
    "        # pointwise operations\n",
    "        for j in range(self.n_hid):\n",
    "          c = (f[j] * input_c[j]) + (i[j] * g[j])       # new cell state\n",
    "          h = o[j] * c.tanh()                           # new hidden state\n",
    "          cs.append(c)\n",
    "          hids.append(h)\n",
    "        # end code\n",
    "\n",
    "        return hids, cs\n",
    "    \n",
    "    def forward_sequence(self, input: Sequence[Sequence[Var]], use_stored_hid = False) -> Sequence[Sequence[Var]]:\n",
    "        out = []\n",
    "        if use_stored_hid:\n",
    "            hid = self.stored_hid\n",
    "            c = self.stored_c\n",
    "        else:\n",
    "            hid = self.initial_hid\n",
    "            c = self.initial_c\n",
    "        # Takes a sequence and loops over each character in the sequence. Note that each character has dimenson equal to the embeddng dimenson\n",
    "        for i in range(len(input)):\n",
    "            hid, c = self.forward_step(input[i], hid, c)\n",
    "            # here, the hid argument is\n",
    "            #   -> either the initial hidden state (if use_stored_hid is False)\n",
    "            #   -> or the stored hidden state h_{t-1} (if use_stored_hid is True)\n",
    "            out.append(hid)\n",
    "        self.stored_hid = hid\n",
    "        self.stored_c = c\n",
    "        return out"
   ]
  },
  {
   "cell_type": "markdown",
   "metadata": {
    "id": "gKu-bfhzk2iY"
   },
   "source": [
    "Here is a bit of code to test it out:"
   ]
  },
  {
   "cell_type": "code",
   "execution_count": 102,
   "metadata": {
    "id": "u4AYroqSVRSv"
   },
   "outputs": [
    {
     "name": "stdout",
     "output_type": "stream",
     "text": [
      "Feed-forward: \n",
      "Candidate: Weights: [[Var(v=0.0499, grad=0.0000), Var(v=0.0871, grad=0.0000), Var(v=0.0499, grad=0.0000), Var(v=-0.0096, grad=0.0000), Var(v=0.0355, grad=0.0000)], [Var(v=0.1702, grad=0.0000), Var(v=0.0706, grad=0.0000), Var(v=0.0812, grad=0.0000), Var(v=-0.1722, grad=0.0000), Var(v=0.0672, grad=0.0000)], [Var(v=0.1564, grad=0.0000), Var(v=-0.1053, grad=0.0000), Var(v=0.0594, grad=0.0000), Var(v=-0.0420, grad=0.0000), Var(v=-0.1004, grad=0.0000)], [Var(v=-0.1528, grad=0.0000), Var(v=0.1048, grad=0.0000), Var(v=0.1370, grad=0.0000), Var(v=0.0710, grad=0.0000), Var(v=0.1068, grad=0.0000)], [Var(v=-0.0251, grad=0.0000), Var(v=-0.0502, grad=0.0000), Var(v=-0.1305, grad=0.0000), Var(v=0.0609, grad=0.0000), Var(v=0.1062, grad=0.0000)], [Var(v=0.2101, grad=0.0000), Var(v=0.0891, grad=0.0000), Var(v=-0.0027, grad=0.0000), Var(v=0.1770, grad=0.0000), Var(v=0.0984, grad=0.0000)]] Biases: [Var(v=0.0000, grad=0.0000), Var(v=0.0000, grad=0.0000), Var(v=0.0000, grad=0.0000), Var(v=0.0000, grad=0.0000), Var(v=0.0000, grad=0.0000)]\n",
      " i gate Weights: [[Var(v=-0.0032, grad=0.0000), Var(v=0.1326, grad=0.0000), Var(v=0.0002, grad=0.0000), Var(v=0.0923, grad=0.0000), Var(v=0.0210, grad=0.0000)], [Var(v=-0.0283, grad=0.0000), Var(v=-0.0672, grad=0.0000), Var(v=0.1309, grad=0.0000), Var(v=-0.1108, grad=0.0000), Var(v=-0.0058, grad=0.0000)], [Var(v=-0.1477, grad=0.0000), Var(v=0.1430, grad=0.0000), Var(v=0.0548, grad=0.0000), Var(v=0.0608, grad=0.0000), Var(v=-0.0313, grad=0.0000)], [Var(v=-0.0302, grad=0.0000), Var(v=-0.0309, grad=0.0000), Var(v=0.0010, grad=0.0000), Var(v=0.0497, grad=0.0000), Var(v=0.0349, grad=0.0000)], [Var(v=-0.0948, grad=0.0000), Var(v=0.1163, grad=0.0000), Var(v=-0.0794, grad=0.0000), Var(v=0.0391, grad=0.0000), Var(v=-0.0421, grad=0.0000)], [Var(v=-0.0176, grad=0.0000), Var(v=0.2628, grad=0.0000), Var(v=-0.0184, grad=0.0000), Var(v=-0.1757, grad=0.0000), Var(v=0.1498, grad=0.0000)]] Biases: [Var(v=0.0000, grad=0.0000), Var(v=0.0000, grad=0.0000), Var(v=0.0000, grad=0.0000), Var(v=0.0000, grad=0.0000), Var(v=0.0000, grad=0.0000)]\n",
      " f gate Weights: [[Var(v=-0.0661, grad=0.0000), Var(v=-0.0254, grad=0.0000), Var(v=0.0312, grad=0.0000), Var(v=0.0292, grad=0.0000), Var(v=0.0801, grad=0.0000)], [Var(v=-0.0017, grad=0.0000), Var(v=-0.0279, grad=0.0000), Var(v=0.0205, grad=0.0000), Var(v=0.0709, grad=0.0000), Var(v=-0.1285, grad=0.0000)], [Var(v=-0.0162, grad=0.0000), Var(v=0.0129, grad=0.0000), Var(v=-0.0450, grad=0.0000), Var(v=0.1303, grad=0.0000), Var(v=0.1243, grad=0.0000)], [Var(v=0.0240, grad=0.0000), Var(v=0.0777, grad=0.0000), Var(v=0.0309, grad=0.0000), Var(v=-0.0566, grad=0.0000), Var(v=-0.0886, grad=0.0000)], [Var(v=0.0540, grad=0.0000), Var(v=0.0083, grad=0.0000), Var(v=0.0200, grad=0.0000), Var(v=0.0637, grad=0.0000), Var(v=0.1284, grad=0.0000)], [Var(v=0.0003, grad=0.0000), Var(v=0.1373, grad=0.0000), Var(v=0.0471, grad=0.0000), Var(v=0.0723, grad=0.0000), Var(v=0.0401, grad=0.0000)]] Biases: [Var(v=0.0000, grad=0.0000), Var(v=0.0000, grad=0.0000), Var(v=0.0000, grad=0.0000), Var(v=0.0000, grad=0.0000), Var(v=0.0000, grad=0.0000)]\n",
      " o gate Weights: [[Var(v=0.0533, grad=0.0000), Var(v=0.0664, grad=0.0000), Var(v=-0.0152, grad=0.0000), Var(v=-0.0643, grad=0.0000), Var(v=-0.0452, grad=0.0000)], [Var(v=-0.0843, grad=0.0000), Var(v=0.0099, grad=0.0000), Var(v=-0.1291, grad=0.0000), Var(v=-0.0375, grad=0.0000), Var(v=0.0594, grad=0.0000)], [Var(v=-0.1005, grad=0.0000), Var(v=-0.0946, grad=0.0000), Var(v=0.0673, grad=0.0000), Var(v=0.0229, grad=0.0000), Var(v=-0.0147, grad=0.0000)], [Var(v=0.0689, grad=0.0000), Var(v=-0.0875, grad=0.0000), Var(v=0.1491, grad=0.0000), Var(v=0.1244, grad=0.0000), Var(v=0.0516, grad=0.0000)], [Var(v=-0.0868, grad=0.0000), Var(v=0.2584, grad=0.0000), Var(v=-0.1334, grad=0.0000), Var(v=0.1859, grad=0.0000), Var(v=-0.0692, grad=0.0000)], [Var(v=0.1561, grad=0.0000), Var(v=-0.1394, grad=0.0000), Var(v=0.1219, grad=0.0000), Var(v=0.0817, grad=0.0000), Var(v=-0.0111, grad=0.0000)]] Biases: [Var(v=0.0000, grad=0.0000), Var(v=0.0000, grad=0.0000), Var(v=0.0000, grad=0.0000), Var(v=0.0000, grad=0.0000), Var(v=0.0000, grad=0.0000)]\n",
      " Initial hidden: [Var(v=0.0000, grad=0.0000), Var(v=0.0000, grad=0.0000), Var(v=0.0000, grad=0.0000), Var(v=0.0000, grad=0.0000), Var(v=0.0000, grad=0.0000)]\n",
      "[[[Var(v=-0.0107, grad=1.0000)], [Var(v=-0.0276, grad=0.0000)], [Var(v=-0.0472, grad=0.0000)]], [[Var(v=-0.0107, grad=0.0000)], [Var(v=-0.0276, grad=0.0000)], [Var(v=-0.0472, grad=0.0000)]]]\n"
     ]
    }
   ],
   "source": [
    "NN = [\n",
    "    LSTMLayer(1, 5, lambda x: x.tanh()),\n",
    "    DenseLayer(5, 1, lambda x: x.identity())\n",
    "]\n",
    "\n",
    "print(NN[0])\n",
    "x_train =[[[Var(1.0)], [Var(2.0)], [Var(3.0)]],\n",
    "          [[Var(1.0)], [Var(2.0)], [Var(3.0)]]]\n",
    "\n",
    "output_train = forward_batch(x_train, NN)          \n",
    "output_train[0][0][0].backward()\n",
    "\n",
    "print(output_train)"
   ]
  },
  {
   "cell_type": "markdown",
   "metadata": {
    "id": "z4r4mgFsk2ik"
   },
   "source": [
    "## Exercise i) LSTM training\n",
    "\n",
    "Complete the LSTM training loop\n",
    "\n",
    "Run the training loop. Training time in Nanograd will likely be long, but see if you can find settings to compare your LSTM learning curve (NLL = 'Negative Log Likelihood' and number of epochs) to the vanilla RNN from earlier. Do you observe any improvements? Motivate your answer.\n",
    "\n",
    "Finally, below we will implement LSTM in PyTorch. You will notice it is much, much faster!"
   ]
  },
  {
   "cell_type": "code",
   "execution_count": 112,
   "metadata": {
    "id": "MOAmppJD66tJ"
   },
   "outputs": [],
   "source": [
    "# Initialize training hyperparameters\n",
    "EPOCHS = 100\n",
    "LR = 0.01\n",
    "LR_DECAY = 0.99"
   ]
  },
  {
   "cell_type": "code",
   "execution_count": 113,
   "metadata": {
    "id": "tiotu2ab66w-"
   },
   "outputs": [
    {
     "name": "stdout",
     "output_type": "stream",
     "text": [
      "   0 ( 0.00%) Train loss: 5.579 \t Validation loss: 4.562\n",
      "   5 ( 5.00%) Train loss: 5.272 \t Validation loss: 4.326\n",
      "  10 (10.00%) Train loss: 5.075 \t Validation loss: 4.178\n",
      "  15 (15.00%) Train loss: 4.944 \t Validation loss: 4.081\n",
      "  20 (20.00%) Train loss: 4.855 \t Validation loss: 4.016\n",
      "  25 (25.00%) Train loss: 4.791 \t Validation loss: 3.971\n",
      "  30 (30.00%) Train loss: 4.743 \t Validation loss: 3.938\n",
      "  35 (35.00%) Train loss: 4.707 \t Validation loss: 3.913\n",
      "  40 (40.00%) Train loss: 4.679 \t Validation loss: 3.894\n",
      "  45 (45.00%) Train loss: 4.656 \t Validation loss: 3.878\n",
      "  50 (50.00%) Train loss: 4.637 \t Validation loss: 3.866\n",
      "  55 (55.00%) Train loss: 4.621 \t Validation loss: 3.855\n",
      "  60 (60.00%) Train loss: 4.607 \t Validation loss: 3.846\n",
      "  65 (65.00%) Train loss: 4.596 \t Validation loss: 3.838\n",
      "  70 (70.00%) Train loss: 4.585 \t Validation loss: 3.832\n",
      "  75 (75.00%) Train loss: 4.576 \t Validation loss: 3.825\n",
      "  80 (80.00%) Train loss: 4.568 \t Validation loss: 3.820\n",
      "  85 (85.00%) Train loss: 4.561 \t Validation loss: 3.815\n",
      "  90 (90.00%) Train loss: 4.555 \t Validation loss: 3.811\n",
      "  95 (95.00%) Train loss: 4.549 \t Validation loss: 3.807\n"
     ]
    },
    {
     "data": {
      "image/png": "[encoded data removed]",
      "text/plain": [
       "<Figure size 640x480 with 1 Axes>"
      ]
     },
     "metadata": {},
     "output_type": "display_data"
    }
   ],
   "source": [
    "NN = [\n",
    "    LSTMLayer(4, 1, lambda x: x.tanh()),\n",
    "    DenseLayer(1, 4, lambda x: x.identity())\n",
    "]\n",
    "\n",
    "train_loss = []\n",
    "val_loss = []\n",
    "\n",
    "batch_size = 8\n",
    "\n",
    "for e in range(EPOCHS):\n",
    "    for b in range(int(np.ceil(len(encoded_training_set_x)/batch_size))):\n",
    "        # Forward pass and loss computation\n",
    "        \n",
    "        x_batch = encoded_test_set_x[b*batch_size:(b+1)*batch_size]\n",
    "        y_batch = encoded_test_set_y[b*batch_size:(b+1)*batch_size]\n",
    "\n",
    "        output = forward_batch(x_batch, NN, use_stored_hid=False)\n",
    "        Loss = sequence_loss(y_batch, output, cross_entropy_loss_sequence)\n",
    "\n",
    "        # Backward pass\n",
    "        Loss.backward()\n",
    "        \n",
    "        # gradient descent update\n",
    "        update_parameters(parameters(NN), LR)\n",
    "        zero_gradients(parameters(NN)) # zero gradients -> this makes sure that we don't accumulate gradients across batches\n",
    "      \n",
    "    LR = LR * LR_DECAY\n",
    "\n",
    "    # Training loss\n",
    "    Loss = sequence_loss(encoded_training_set_y, forward_batch(encoded_training_set_x, NN, use_stored_hid=False), cross_entropy_loss_sequence)\n",
    "    train_loss.append(Loss.v/len(encoded_training_set_y))\n",
    "        \n",
    "    # Validation loss\n",
    "    Loss_validation = sequence_loss(encoded_validation_set_y, forward_batch(encoded_validation_set_x, NN, use_stored_hid=False), cross_entropy_loss_sequence)\n",
    "    val_loss.append(Loss_validation.v/len(encoded_validation_set_y))\n",
    "    \n",
    "    if e%5==0:\n",
    "        print(\"{:4d}\".format(e),\n",
    "              \"({:5.2f}%)\".format(e/EPOCHS*100), \n",
    "              \"Train loss: {:4.3f} \\t Validation loss: {:4.3f}\".format(train_loss[-1], val_loss[-1]))\n",
    "        \n",
    "# Plot training and validation loss\n",
    "import matplotlib.pyplot as plt\n",
    "%matplotlib inline\n",
    "epoch = np.arange(len(train_loss))\n",
    "plt.figure()\n",
    "plt.plot(epoch, train_loss, 'r', label='Training loss',)\n",
    "plt.plot(epoch, val_loss, 'b', label='Validation loss')\n",
    "plt.legend()\n",
    "plt.xlabel('Epoch'), plt.ylabel('NLL')\n",
    "plt.show()"
   ]
  },
  {
   "cell_type": "code",
   "execution_count": 114,
   "metadata": {},
   "outputs": [
    {
     "name": "stdout",
     "output_type": "stream",
     "text": [
      "Input sentence:\n",
      "['a', 'a', 'a', 'b', 'b', 'b']\n",
      "\n",
      "Target sequence:\n",
      "['a', 'a', 'b', 'b', 'b', 'EOS']\n",
      "\n",
      "Predicted sequence:\n",
      "['b', 'b', 'b', 'b', 'b', 'b']\n"
     ]
    },
    {
     "name": "stderr",
     "output_type": "stream",
     "text": [
      "/var/folders/dn/qw26xkk51853rtytqd9ns_5r0000gn/T/ipykernel_54123/161328427.py:10: DeprecationWarning: Conversion of an array with ndim > 0 to a scalar is deprecated, and will error in future. Ensure you extract a single element from your array before performing this operation. (Deprecated NumPy 1.25.)\n",
      "  y = [[Var(float(x[i,j])) for j in range(x.shape[1])] for i in range(x.shape[0])]\n"
     ]
    }
   ],
   "source": [
    "# Test of LSTM implementation\n",
    "\n",
    "# Get first sentence in test set\n",
    "inputs, targets = test_set[0]\n",
    "\n",
    "# One-hot encode input and target sequence\n",
    "inputs_one_hot = one_hot_encode_sequence(inputs, vocab_size)\n",
    "targets_one_hot = one_hot_encode_sequence(targets, vocab_size)\n",
    "\n",
    "# Forward pass\n",
    "outputs = forward_batch(encoded_test_set_x[:1], NN)\n",
    "\n",
    "output_sentence = [idx_to_word[np.argmax(output)] for output in Var_to_nparray(outputs[0])]\n",
    "\n",
    "print('Input sentence:')\n",
    "print(inputs)\n",
    "\n",
    "print('\\nTarget sequence:')\n",
    "print(targets)\n",
    "\n",
    "print('\\nPredicted sequence:')\n",
    "print([idx_to_word[np.argmax(output)] for output in Var_to_nparray(outputs[0])])"
   ]
  },
  {
   "cell_type": "markdown",
   "metadata": {
    "id": "gi51eWgKxyOk"
   },
   "source": [
    "## PyTorch implementation of the LSTM\n",
    "\n",
    "Now that we know how the LSTM cell works, let's see how easy it is to use in PyTorch!"
   ]
  },
  {
   "cell_type": "markdown",
   "metadata": {
    "id": "O6HDdJLuk2ip"
   },
   "source": [
    "Definition of our LSTM network. We define a LSTM layer using the [nn.LSTM](https://pytorch.org/docs/stable/nn.html#lstm) class. The LSTM layer takes as argument the size of the input and the size of the hidden state like in our Nanograd implementation."
   ]
  },
  {
   "cell_type": "code",
   "execution_count": 115,
   "metadata": {
    "id": "8UGrvknfk2ip"
   },
   "outputs": [
    {
     "name": "stdout",
     "output_type": "stream",
     "text": [
      "MyRecurrentNet(\n",
      "  (lstm): LSTM(4, 50, batch_first=True)\n",
      "  (l_out): Linear(in_features=50, out_features=4, bias=False)\n",
      ")\n"
     ]
    }
   ],
   "source": [
    "import torch\n",
    "import torch.nn as nn\n",
    "import torch.nn.functional as F\n",
    "\n",
    "class MyRecurrentNet(nn.Module):\n",
    "    def __init__(self):\n",
    "        super(MyRecurrentNet, self).__init__()\n",
    "        \n",
    "        # Recurrent layer\n",
    "        # YOUR CODE HERE!\n",
    "        self.lstm = nn.LSTM(input_size=vocab_size,\n",
    "                            hidden_size=50,         # number of features in hidden state\n",
    "                            num_layers=1,           \n",
    "                            batch_first=True)       # input & output tensors are provided as (batch, seq, feature)\n",
    "        \n",
    "        # Output layer\n",
    "        self.l_out = nn.Linear(in_features=50,      # must match hidden_size above\n",
    "                            out_features=vocab_size,# must match number of classes\n",
    "                            bias=False)             # no bias needed here as we have a bias in the LSTM layer\n",
    "        \n",
    "    def forward(self, x):\n",
    "        # RNN returns output and last hidden state\n",
    "        x, (h, c) = self.lstm(x)\n",
    "        # x = output features from the last layer of the LSTM, for each timestep\n",
    "        #       -> shape (batch_size, seq_length, hidden_size)\n",
    "        # h = hidden state for t=seq_length\n",
    "        # c = cell state for t=seq_length\n",
    "        \n",
    "        # Flatten output for feed-forward layer\n",
    "        x = x.view(-1, self.lstm.hidden_size)\n",
    "        # view takes 2 arguments: (num_rows, num_columns)\n",
    "        #   -> -1 means \"infer this dimension based on the other one\"\n",
    "        \n",
    "        # Now, x has shape (batch_size*seq_length, hidden_size)\n",
    "        \n",
    "        # Output layer\n",
    "        x = self.l_out(x)\n",
    "\n",
    "        # l_out returns a 2D tensor of shape (batch_size*seq_length, vocab_size)\n",
    "        # and contains the logits for each class (word in vocabulary)\n",
    "        \n",
    "        return x\n",
    "\n",
    "net = MyRecurrentNet()\n",
    "print(net)"
   ]
  },
  {
   "cell_type": "markdown",
   "metadata": {
    "id": "J6r3bPwYk2is"
   },
   "source": [
    "## Exercise j) Train in PyTorch\n",
    "\n",
    "Define an LSTM for our recurrent neural network `MyRecurrentNet` above. A single LSTM layer is sufficient. What should the input size and hidden size be? Hint: use the PyTorch documentation.\n",
    "\n",
    "It's time for us to train our network. In the section below, you will get to put your deep learning skills to use and create your own training loop. You may want to consult previous exercises if you cannot recall how to define the training loop."
   ]
  },
  {
   "cell_type": "code",
   "execution_count": 116,
   "metadata": {},
   "outputs": [
    {
     "name": "stdout",
     "output_type": "stream",
     "text": [
      "Our one-hot encoding of 'a' has shape (1, 4).\n",
      "Our one-hot encoding of 'a b' has shape torch.Size([2, 4, 1]).\n",
      "[[1. 0. 0. 0.]]\n",
      "tensor([[[1.],\n",
      "         [0.],\n",
      "         [0.],\n",
      "         [0.]],\n",
      "\n",
      "        [[0.],\n",
      "         [1.],\n",
      "         [0.],\n",
      "         [0.]]])\n"
     ]
    }
   ],
   "source": [
    "# lets redefine the one_hot_encode() and one_hot_encode_sequence() functions\n",
    "# to work now with torch.Tensor variables instead of Var.\n",
    "def one_hot_encode(idx, vocab_size):\n",
    "    \"\"\"\n",
    "    One-hot encodes a single word given its index and the size of the vocabulary.\n",
    "    \n",
    "    Args:\n",
    "     `idx`: the index of the given word\n",
    "     `vocab_size`: the size of the vocabulary\n",
    "    \n",
    "    Returns a 1-D numpy array of length `vocab_size`.\n",
    "    \"\"\"\n",
    "    # Initialize the encoded array\n",
    "    one_hot = np.array([np.zeros(vocab_size)])\n",
    "    \n",
    "    # Set the appropriate element to one\n",
    "    one_hot[0][idx] = 1.0\n",
    "    return one_hot\n",
    "\n",
    "\n",
    "def one_hot_encode_sequence(sequence, vocab_size):\n",
    "    \"\"\"\n",
    "    One-hot encodes a sequence of words given a fixed vocabulary size.\n",
    "    \n",
    "    Args:\n",
    "     `sentence`: a list of words to encode\n",
    "     `vocab_size`: the size of the vocabulary\n",
    "     \n",
    "    Returns a 3-D torch.Tensor of shape (num words, vocab size, 1).\n",
    "    \"\"\"\n",
    "    # Encode each word in the sentence\n",
    "    encoding = np.array([one_hot_encode(word_to_idx[word], vocab_size) for word in sequence])\n",
    "\n",
    "    # Reshape encoding s.t. it has shape (num words, vocab size, 1)\n",
    "    encoding = encoding.reshape(encoding.shape[0], encoding.shape[2], 1)\n",
    "    return torch.Tensor(encoding)\n",
    "\n",
    "# lets test it\n",
    "test_word = one_hot_encode(word_to_idx['a'], vocab_size)\n",
    "print(f'Our one-hot encoding of \\'a\\' has shape {test_word.shape}.')\n",
    "\n",
    "test_sentence = one_hot_encode_sequence(['a', 'b'], vocab_size)\n",
    "print(f'Our one-hot encoding of \\'a b\\' has shape {test_sentence.shape}.')\n",
    "\n",
    "print(test_word)\n",
    "print(test_sentence)"
   ]
  },
  {
   "cell_type": "code",
   "execution_count": 119,
   "metadata": {
    "id": "2URKsyFDx8xG"
   },
   "outputs": [
    {
     "name": "stdout",
     "output_type": "stream",
     "text": [
      "Epoch 0, training loss: 1.3647352457046509, validation loss: 1.3838295936584473\n",
      "Epoch 10, training loss: 0.7577769756317139, validation loss: 0.6894440054893494\n",
      "Epoch 20, training loss: 0.6941185593605042, validation loss: 0.6198038458824158\n",
      "Epoch 30, training loss: 0.6846403479576111, validation loss: 0.6107481122016907\n",
      "Epoch 40, training loss: 0.6812818050384521, validation loss: 0.6076553463935852\n",
      "Epoch 50, training loss: 0.6796362996101379, validation loss: 0.6061652302742004\n",
      "Epoch 60, training loss: 0.6786830425262451, validation loss: 0.60531085729599\n",
      "Epoch 70, training loss: 0.678071141242981, validation loss: 0.6047665476799011\n",
      "Epoch 80, training loss: 0.6776500940322876, validation loss: 0.604394793510437\n",
      "Epoch 90, training loss: 0.6773454546928406, validation loss: 0.6041278839111328\n",
      "Epoch 100, training loss: 0.6771166324615479, validation loss: 0.603928804397583\n",
      "Epoch 110, training loss: 0.676939845085144, validation loss: 0.6037759780883789\n",
      "Epoch 120, training loss: 0.6767997741699219, validation loss: 0.6036557555198669\n",
      "Epoch 130, training loss: 0.676686704158783, validation loss: 0.6035594940185547\n",
      "Epoch 140, training loss: 0.6765939593315125, validation loss: 0.603480875492096\n",
      "Epoch 150, training loss: 0.6765167117118835, validation loss: 0.6034157276153564\n",
      "Epoch 160, training loss: 0.6764518022537231, validation loss: 0.6033609509468079\n",
      "Epoch 170, training loss: 0.6763964891433716, validation loss: 0.6033144593238831\n",
      "Epoch 180, training loss: 0.6763490438461304, validation loss: 0.6032746434211731\n",
      "Epoch 190, training loss: 0.676307737827301, validation loss: 0.6032402515411377\n",
      "\n",
      "Input sequence:\n",
      "['a', 'a', 'b', 'b']\n",
      "\n",
      "Target sequence:\n",
      "['a', 'b', 'b', 'EOS']\n",
      "\n",
      "Predicted sequence:\n",
      "['b', 'b', 'EOS', 'EOS']\n"
     ]
    },
    {
     "data": {
      "image/png": "[encoded data removed]",
      "text/plain": [
       "<Figure size 640x480 with 1 Axes>"
      ]
     },
     "metadata": {},
     "output_type": "display_data"
    }
   ],
   "source": [
    "# Hyper-parameters\n",
    "num_epochs = 200\n",
    "\n",
    "# Initialize a new network\n",
    "net = MyRecurrentNet()\n",
    "\n",
    "# Define a loss function and optimizer for this problem\n",
    "# YOUR CODE HERE!\n",
    "criterion = nn.CrossEntropyLoss()\n",
    "optimizer = torch.optim.Adam(net.parameters(), lr=0.001)\n",
    "\n",
    "# Track loss\n",
    "training_loss, validation_loss = [], []\n",
    "\n",
    "# For each epoch\n",
    "for i in range(num_epochs):\n",
    "    \n",
    "    # Track loss\n",
    "    epoch_training_loss = 0\n",
    "    epoch_validation_loss = 0\n",
    "    \n",
    "    net.eval()\n",
    "        \n",
    "    # For each sentence in validation set\n",
    "    for inputs, targets in validation_set:\n",
    "        \n",
    "        # One-hot encode input and target sequence\n",
    "        inputs_one_hot = one_hot_encode_sequence(inputs, vocab_size)\n",
    "        targets_idx = [word_to_idx[word] for word in targets]\n",
    "        \n",
    "        # Convert input to tensor\n",
    "        inputs_one_hot = torch.Tensor(inputs_one_hot)\n",
    "        inputs_one_hot = inputs_one_hot.permute(0, 2, 1)\n",
    "        \n",
    "        # Convert target to tensor\n",
    "        targets_idx = torch.LongTensor(targets_idx)\n",
    "        \n",
    "        # Forward pass\n",
    "        # YOUR CODE HERE!\n",
    "        outputs = net.forward(inputs_one_hot)\n",
    "        \n",
    "        # Compute loss\n",
    "        # YOUR CODE HERE!\n",
    "        loss = criterion(outputs, targets_idx)\n",
    "\n",
    "        # Update loss\n",
    "        epoch_validation_loss += loss.detach().numpy()\n",
    "    \n",
    "    net.train()\n",
    "    \n",
    "    # For each sentence in training set\n",
    "    for inputs, targets in training_set:\n",
    "        \n",
    "        # One-hot encode input and target sequence\n",
    "        inputs_one_hot = one_hot_encode_sequence(inputs, vocab_size)\n",
    "        targets_idx = [word_to_idx[word] for word in targets]\n",
    "        \n",
    "        # Convert input to tensor\n",
    "        inputs_one_hot = torch.Tensor(inputs_one_hot)\n",
    "        inputs_one_hot = inputs_one_hot.permute(0, 2, 1)\n",
    "        \n",
    "        # Convert target to tensor\n",
    "        targets_idx = torch.LongTensor(targets_idx)\n",
    "        \n",
    "        # Forward pass\n",
    "        # YOUR CODE HERE!\n",
    "        outputs = net.forward(inputs_one_hot)\n",
    "        \n",
    "        # Compute loss\n",
    "        # YOUR CODE HERE!\n",
    "        loss = criterion(outputs, targets_idx)\n",
    "\n",
    "        # Backward pass\n",
    "        # YOUR CODE HERE!\n",
    "        optimizer.zero_grad()\n",
    "        loss.backward()\n",
    "        optimizer.step()\n",
    "\n",
    "        # Update loss\n",
    "        epoch_training_loss += loss.detach().numpy()\n",
    "        \n",
    "    # Save loss for plot\n",
    "    training_loss.append(epoch_training_loss/len(training_set))\n",
    "    validation_loss.append(epoch_validation_loss/len(validation_set))\n",
    "\n",
    "    # Print loss every 10 epochs\n",
    "    if i % 10 == 0:\n",
    "        print(f'Epoch {i}, training loss: {training_loss[-1]}, validation loss: {validation_loss[-1]}')\n",
    "\n",
    "        \n",
    "# Get first sentence in test set\n",
    "inputs, targets = test_set[1]\n",
    "\n",
    "# One-hot encode input and target sequence\n",
    "inputs_one_hot = one_hot_encode_sequence(inputs, vocab_size)\n",
    "targets_idx = [word_to_idx[word] for word in targets]\n",
    "\n",
    "# Convert input to tensor\n",
    "inputs_one_hot = torch.Tensor(inputs_one_hot)\n",
    "inputs_one_hot = inputs_one_hot.permute(0, 2, 1)\n",
    "\n",
    "# Convert target to tensor\n",
    "targets_idx = torch.LongTensor(targets_idx)\n",
    "\n",
    "# Forward pass\n",
    "outputs = net.forward(inputs_one_hot).data.numpy()\n",
    "\n",
    "print('\\nInput sequence:')\n",
    "print(inputs)\n",
    "\n",
    "print('\\nTarget sequence:')\n",
    "print(targets)\n",
    "\n",
    "print('\\nPredicted sequence:')\n",
    "print([idx_to_word[np.argmax(output)] for output in outputs])\n",
    "\n",
    "# Plot training and validation loss\n",
    "epoch = np.arange(len(training_loss))\n",
    "plt.figure()\n",
    "plt.plot(epoch, training_loss, 'r', label='Training loss',)\n",
    "plt.plot(epoch, validation_loss, 'b', label='Validation loss')\n",
    "plt.legend()\n",
    "plt.xlabel('Epoch'), plt.ylabel('NLL')\n",
    "plt.show()"
   ]
  },
  {
   "cell_type": "markdown",
   "metadata": {
    "id": "ydr7Czg_k2iw"
   },
   "source": [
    "# Exercise k) Compare PyTorch and Nanograd implementations\n",
    "\n",
    "Compare the two implementations (in terms of predictive performance, training speed, etc.). Are they similar? How do they differ?\n",
    "\n",
    "\n",
    "Try to play around with the choice of hyper-parameters, optimizer, and hidden dimensions. How much can you improve the negative log-likelihood by these simple changes?"
   ]
  },
  {
   "cell_type": "markdown",
   "metadata": {
    "id": "M93ORx95k2ix"
   },
   "source": [
    "## Exercise l) Other RNN cells (optional)\n",
    "\n",
    "Aside from the LSTM cell, various other RNN cells exist. The gated recurrent unit (GRU) is a variation of the LSTM cell that uses less gating mechanisms. Try to look it up in the [PyTorch documentation](https://pytorch.org/docs/stable/nn.html#gru) and switch out the LSTM cell in the code above. What do you notice in terms of performance and convergence speed?"
   ]
  },
  {
   "cell_type": "markdown",
   "metadata": {
    "id": "juN400Ekk2iz"
   },
   "source": [
    "## Exercise m) More complex tasks (optional)\n",
    "\n",
    "Go back and generate a more complex patterned dataset to learn from. Do you see any significant differences between a vanilla RNN and LSTM (implemented in e.g. PyTorch) when you increase the difficulty of the task?"
   ]
  },
  {
   "cell_type": "markdown",
   "metadata": {
    "id": "v68YEkEBk2iz"
   },
   "source": [
    "# It works, now what?"
   ]
  },
  {
   "cell_type": "markdown",
   "metadata": {
    "id": "NjpqSrSuk2i0"
   },
   "source": [
    "In this notebook you have learned how to use embeddings, recurrent neural networks, and the LSTM cell in particular.\n",
    "\n",
    "As we have already seen, RNNs are excellent for sequential data such as language. But what do we do if we're modelling data with strong dependency in both directions? Like in many things deep learning, we can build powerful models by stacking layers on top of each other; *bi-directional* RNNs consist of two LSTM cells, one for each direction. A sequence is first fed into the forward LSTM cell and the reversed sequence is then used as input to the backward LSTM cell together with the last hidden state from the forward LSTM cell. Follow [this link](https://pdfs.semanticscholar.org/4b80/89bc9b49f84de43acc2eb8900035f7d492b2.pdf) for the original paper from 1997(!).\n",
    "\n",
    "For even deeper representations, multiple layers of both uni-directional and bi-directional RNNs can be stacked ontop of each other, just like feed-forward and convolutional layers. For more information on this, check out the [LSTM PyTorch documentation](https://pytorch.org/docs/stable/nn.html#lstm). Next week we will also explore ways to combine RNNs with other types of layers for even more expressive function approximators."
   ]
  }
 ],
 "metadata": {
  "colab": {
   "collapsed_sections": [
    "bdA4LPsFiACe",
    "cGSoDRgHk2g1",
    "Dzmryk72k2g-",
    "M93ORx95k2ix"
   ],
   "name": "5_2_Recurrent_Neural_Networks_Nanograd.ipynb",
   "provenance": []
  },
  "kernelspec": {
   "display_name": "DTU_deep-learning",
   "language": "python",
   "name": "python3"
  },
  "language_info": {
   "codemirror_mode": {
    "name": "ipython",
    "version": 3
   },
   "file_extension": ".py",
   "mimetype": "text/x-python",
   "name": "python",
   "nbconvert_exporter": "python",
   "pygments_lexer": "ipython3",
   "version": "3.13.5"
  }
 },
 "nbformat": 4,
 "nbformat_minor": 1
}
