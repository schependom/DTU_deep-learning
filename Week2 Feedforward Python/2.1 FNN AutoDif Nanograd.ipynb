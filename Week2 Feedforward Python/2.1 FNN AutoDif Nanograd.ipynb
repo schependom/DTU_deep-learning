{
 "cells": [
  {
   "cell_type": "markdown",
   "metadata": {
    "id": "HAva8TnYFtFu"
   },
   "source": [
    "# Contents and why we need this lab\n",
    "\n",
    "This lab is about implementing neural networks yourself before we start using other frameworks that hide some computation from you. It builds on the first lab, where you derived the equations for neural network forward and backward propagation and gradient descent parameter updates. \n",
    "\n",
    "All the frameworks for deep learning you will meet from now on use automatic differentiation (autodiff), so you do not have to code the backward step yourself. In this version of this lab, you will develop your own autodif implementation. We also have an optional [version](https://github.com/DeepLearningDTU/02456-deep-learning-with-PyTorch/blob/master/2_Feedforward_Python/2.2-FNN-NumPy.ipynb) of this lab where you have to code the backward pass explicitly in NumPy."
   ]
  },
  {
   "cell_type": "markdown",
   "metadata": {
    "id": "sCa7HzwpFtFy"
   },
   "source": [
    "# External sources of information\n",
    "\n",
    "1. Jupyter notebook. You can find more information about Jupyter notebooks [here](https://jupyter.org/). It will come as part of the [Anaconda](https://www.anaconda.com/) Python installation. \n",
    "2. [NumPy](https://numpy.org/). Part of Anaconda distribution.  If you already know how to program, most things about Python and NumPy can be found with Google searches.\n",
    "3. [Nanograd](https://github.com/rasmusbergpalm/nanograd) is a minimalistic version of autodiff developed by [Rasmus Berg Palm](https://rasmusbergpalm.github.io) that we use for our framework.\n"
   ]
  },
  {
   "cell_type": "markdown",
   "metadata": {
    "id": "1SjiIp-TFtF0"
   },
   "source": [
    "# This notebook will follow the next steps:\n",
    "\n",
    "1. Nanograd automatic differentiation framework\n",
    "2. Finite difference method\n",
    "3. Data generation\n",
    "4. Defining and initializing the network\n",
    "5. Forward pass\n",
    "6. Training loop \n",
    "7. Testing your model\n",
    "8. Further extensions"
   ]
  },
  {
   "cell_type": "markdown",
   "metadata": {
    "id": "OyXeAA-HuT7s"
   },
   "source": [
    "# Nanograd automatic differention framework"
   ]
  },
  {
   "cell_type": "markdown",
   "metadata": {
    "id": "k6UWKCLKubgA"
   },
   "source": [
    "The [Nanograd](https://github.com/rasmusbergpalm/nanograd) framework defines a class `Var` which both holds a value and gradient value that we can use to **store the intermediate values** when we apply the chain rule of differentiation."
   ]
  },
  {
   "cell_type": "code",
   "execution_count": 259,
   "metadata": {
    "id": "Jd4CoEBNzNWS"
   },
   "outputs": [],
   "source": [
    "# Copy and pasted from https://github.com/rasmusbergpalm/nanograd/blob/3a1bf9e9e724da813bfccf91a6f309abdade9f39/nanograd.py\n",
    "\n",
    "from math import exp, log\n",
    "\n",
    "class Var:\n",
    "    \"\"\"\n",
    "    A variable which holds a float and enables gradient computations.\n",
    "    \"\"\"\n",
    "\n",
    "    def __init__(self, val: float, grad_fn=lambda: []):\n",
    "        # grad_fn is a function which returns a list of (input, local_grad) pairs\n",
    "        #   so that d output / d input = local_grad\n",
    "        #\n",
    "        # e.g. for z = x + y, grad_fn = lambda: [(x, 1.0), (y, 1.0)]\n",
    "        # e.g. for ReLU(x), grad_fn = lambda: [(x, 1.0 if x.v > 0 else 0.0)]\n",
    "        assert type(val) == float\n",
    "        self.v = val\n",
    "        self.grad_fn = grad_fn\n",
    "        self.grad = 0.0\n",
    "\n",
    "    def backprop(self, bp):\n",
    "        self.grad += bp\n",
    "        for input, grad in self.grad_fn():\n",
    "            input.backprop(grad * bp)\n",
    "\n",
    "    def backward(self):\n",
    "        self.backprop(1.0)\n",
    "\n",
    "    def __add__(self: 'Var', other: 'Var') -> 'Var':\n",
    "        return Var(self.v + other.v, lambda: [(self, 1.0), (other, 1.0)])\n",
    "\n",
    "    def __mul__(self: 'Var', other: 'Var') -> 'Var':\n",
    "        return Var(self.v * other.v, lambda: [(self, other.v), (other, self.v)])\n",
    "\n",
    "    def __pow__(self, power):\n",
    "        assert type(power) in {float, int}, \"power must be float or int\"\n",
    "        return Var(self.v ** power, lambda: [(self, power * self.v ** (power - 1))])\n",
    "\n",
    "    def __neg__(self: 'Var') -> 'Var':\n",
    "        return Var(-1.0) * self\n",
    "\n",
    "    def __sub__(self: 'Var', other: 'Var') -> 'Var': \n",
    "        return self + (-other)\n",
    "\n",
    "    def __truediv__(self: 'Var', other: 'Var') -> 'Var':\n",
    "        return self * other ** -1\n",
    "\n",
    "    def __repr__(self):\n",
    "        return \"Var(v=%.4f, grad=%.4f)\" % (self.v, self.grad)\n",
    "    \n",
    "    def exp(self):\n",
    "        return Var(exp(self.v), lambda: [(self, exp(self.v))])\n",
    "    \n",
    "    def log(self):\n",
    "        return Var(log(self.v), lambda: [(self, self.v ** -1)])\n",
    "\n",
    "    def relu(self):\n",
    "        # return a Var with \n",
    "        #   -> value v=max(0,v) \n",
    "        #   -> gradient 1.0 if v>0 else 0.0 (with respect to input)\n",
    "        return Var(self.v if self.v > 0.0 else 0.0, lambda: [(self, 1.0 if self.v > 0.0 else 0.0)])\n",
    "    \n",
    "    def identity(self):\n",
    "        # return a Var with\n",
    "        #   -> value v=v\n",
    "        #   -> gradient 1.0 (with respect to input: dv/dv=1)\n",
    "        return Var(self.v, lambda: [(self, 1.0)])\n",
    "        # return self\n",
    "    \n",
    "    def sigmoid(self):\n",
    "        sig = 1 / (1 + exp(-self.v))\n",
    "        # return a Var with\n",
    "        #   -> value v=sigmoid(v)\n",
    "        #   -> gradient sig*(1-sig) (with respect to input: d(sigmoid)/dv=sig*(1-sig))\n",
    "        return Var(sig, lambda: [(self, sig * (1 - sig))])\n",
    "    \n",
    "    def tanh(self):\n",
    "        t = (exp(self.v) - exp(-self.v)) / (exp(self.v) + exp(-self.v))\n",
    "        # return a Var with\n",
    "        #   -> value v=tanh(v)\n",
    "        #   -> gradient 1-t^2 (with respect to input: d(tanh)/dv=1-t^2)\n",
    "        return Var(t, lambda: [(self, 1 - t ** 2)])"
   ]
  },
  {
   "cell_type": "markdown",
   "metadata": {
    "id": "yDX67D6jzcte"
   },
   "source": [
    "A few examples illustrate how we can use this:"
   ]
  },
  {
   "cell_type": "code",
   "execution_count": 230,
   "metadata": {
    "colab": {
     "base_uri": "https://localhost:8080/"
    },
    "id": "xk6PeLc3zwPT",
    "outputId": "47e431b2-07ba-4cb1-ea21-997769641c67"
   },
   "outputs": [
    {
     "name": "stdout",
     "output_type": "stream",
     "text": [
      "Var(v=3.0000, grad=5.0000)\n",
      "Var(v=5.0000, grad=3.0000)\n",
      "Var(v=15.0000, grad=1.0000)\n"
     ]
    }
   ],
   "source": [
    "a = Var(3.0) # value 3.0\n",
    "b = Var(5.0) # value 5.0\n",
    "f = a * b\n",
    "\n",
    "f.backward() # compute gradients of f w.r.t. a and b\n",
    "\n",
    "for v in [a, b, f]:\n",
    "    # f = a*b \n",
    "    # => df/da = b \n",
    "    # => df/db = a\n",
    "    # => df/df = 1\n",
    "    print(v) "
   ]
  },
  {
   "cell_type": "code",
   "execution_count": 231,
   "metadata": {
    "colab": {
     "base_uri": "https://localhost:8080/"
    },
    "id": "JmKhYgsY0g_o",
    "outputId": "06c1b1df-c33c-40d3-922a-624612a591c7"
   },
   "outputs": [
    {
     "name": "stdout",
     "output_type": "stream",
     "text": [
      "Var(v=3.0000, grad=14.0000)\n",
      "Var(v=5.0000, grad=3.0000)\n",
      "Var(v=15.0000, grad=1.0000)\n",
      "Var(v=9.0000, grad=3.0000)\n",
      "Var(v=27.0000, grad=1.0000)\n",
      "Var(v=42.0000, grad=1.0000)\n"
     ]
    }
   ],
   "source": [
    "a = Var(3.0)\n",
    "b = Var(5.0)\n",
    "c = a * b\n",
    "d = Var(9.0)\n",
    "e = a * d\n",
    "f = c + e\n",
    "\n",
    "f.backward()\n",
    "\n",
    "# c = a*b => dc/da = b = 5.0, dc/db = a = 3.0\n",
    "# dc/dc = 1.0\n",
    "# e = a*d => de/da = d = 9.0, de/dd = a = 3.0\n",
    "# de/de = 1.0\n",
    "\n",
    "# df/da = dc/da + de/da = b + d = 5.0 + 9.0 = 14.0\n",
    "# df/db = dc/db = a = 3.0\n",
    "# df/dc = 1.0\n",
    "\n",
    "for v in [a, b, c, d, e, f]:\n",
    "    print(v)"
   ]
  },
  {
   "cell_type": "markdown",
   "metadata": {
    "id": "Fe3B6uEH140p"
   },
   "source": [
    "## Exercise a) What is being calculated?\n",
    "\n",
    "Explain briefly the output of the code? What is the expression we differentiate and with respect to what variables?"
   ]
  },
  {
   "cell_type": "markdown",
   "metadata": {
    "id": "q8_Q0t2I3Ruj"
   },
   "source": [
    "## Exercise b) How does the backward function work?\n",
    "\n",
    "You need to understand how the backward function calculates the gradients. We can use the two examples above to help with that.\n",
    "\n",
    "Go through the following four steps and answer the questions on the way:\n",
    "\n",
    "1. We represent the two expressions as graphs as shown below. Fill in the missing expressions for the different derivatives.\n",
    "\n",
    "2. In the remainder, consider the first expression. Make a schematic of the data structure generated when we define the expression for f (e.g., write a list of which objects are created and the corresponding values of their member variables).\n",
    "\n",
    "3. Then execute the backward function by hand to convince yourself that it indeed calculates the gradients with respect to the variables. \n",
    "\n",
    "4. Write down the sequence of calls to backprop."
   ]
  },
  {
   "cell_type": "code",
   "execution_count": 232,
   "metadata": {
    "id": "idGr71jYXl26"
   },
   "outputs": [],
   "source": [
    "# If you have not installed networkx and matplotlib, you can install them by running\n",
    "# !pip install networkx matplotlib\n",
    "\n",
    "import networkx as nx\n",
    "import matplotlib.pyplot as plt"
   ]
  },
  {
   "cell_type": "code",
   "execution_count": 233,
   "metadata": {},
   "outputs": [
    {
     "data": {
      "image/png": "[encoded data removed]",
      "text/plain": [
       "<Figure size 640x480 with 1 Axes>"
      ]
     },
     "metadata": {},
     "output_type": "display_data"
    }
   ],
   "source": [
    "# Create a directed graph\n",
    "G = nx.DiGraph()\n",
    "\n",
    "# Add edges with labels\n",
    "G.add_edge('a', 'f', label='df/da=5')\n",
    "G.add_edge('b', 'f', label='df/db=3')\n",
    "\n",
    "# Manually define positions for a tree layout\n",
    "pos = {\n",
    "    'a': (0, 1),\n",
    "    'b': (0, -1),\n",
    "    'f': (1, 0),\n",
    "}\n",
    "# Draw the graph nodes and edges\n",
    "nx.draw(G, pos, with_labels=True, node_shape='o', node_size=3000, node_color='lightblue', arrows=True)\n",
    "\n",
    "# Draw edge labels\n",
    "edge_labels = nx.get_edge_attributes(G, 'label')\n",
    "nx.draw_networkx_edge_labels(G, pos, edge_labels=edge_labels)\n",
    "\n",
    "# Show the plot\n",
    "plt.show()"
   ]
  },
  {
   "cell_type": "code",
   "execution_count": 234,
   "metadata": {
    "colab": {
     "base_uri": "https://localhost:8080/",
     "height": 232
    },
    "id": "0nittR-mZFeX",
    "outputId": "fa3656a3-732c-4abe-8084-98a492b0d6be"
   },
   "outputs": [
    {
     "data": {
      "image/png": "[encoded data removed]",
      "text/plain": [
       "<Figure size 640x480 with 1 Axes>"
      ]
     },
     "metadata": {},
     "output_type": "display_data"
    }
   ],
   "source": [
    "# Create a directed graph\n",
    "G = nx.DiGraph()\n",
    "\n",
    "# Add edges with labels\n",
    "G.add_edge('a', 'c', label='dc/da=3')\n",
    "G.add_edge('b', 'c', label='dc/db=5')\n",
    "G.add_edge('a', 'e', label='de/da=3')\n",
    "G.add_edge('d', 'e', label='de/dd=9')\n",
    "G.add_edge('c', 'f', label='df/dc=1')\n",
    "G.add_edge('e', 'f', label='df/de=1')\n",
    "\n",
    "# Manually define positions for a tree layout\n",
    "pos = {\n",
    "    'a': (0, 0),\n",
    "    'b': (0, 2),\n",
    "    'c': (1, 1),\n",
    "    'd': (0, -2),\n",
    "    'e': (1, -1),\n",
    "    'f': (2, 0)\n",
    "}\n",
    "\n",
    "# Draw the graph nodes and edges\n",
    "nx.draw(G, pos, with_labels=True, node_shape='o', node_size=3000, node_color='lightblue', arrows=True)\n",
    "\n",
    "# Draw edge labels\n",
    "edge_labels = nx.get_edge_attributes(G, 'label')\n",
    "nx.draw_networkx_edge_labels(G, pos, edge_labels=edge_labels)\n",
    "\n",
    "# Show the plot\n",
    "plt.show()"
   ]
  },
  {
   "cell_type": "markdown",
   "metadata": {
    "id": "A5oi21W4gpeM"
   },
   "source": [
    "## Exercise c) What happens if we run backward again?\n",
    "\n",
    "Try to execute the code below. Explain what happens."
   ]
  },
  {
   "cell_type": "code",
   "execution_count": 235,
   "metadata": {
    "colab": {
     "base_uri": "https://localhost:8080/"
    },
    "id": "DCtpJyr-gyX1",
    "outputId": "d014bcfa-c9ae-49c3-d268-91cc6ca94ea5"
   },
   "outputs": [
    {
     "name": "stdout",
     "output_type": "stream",
     "text": [
      "Var(v=3.0000, grad=28.0000)\n",
      "Var(v=5.0000, grad=6.0000)\n",
      "Var(v=15.0000, grad=2.0000)\n",
      "Var(v=9.0000, grad=6.0000)\n",
      "Var(v=27.0000, grad=2.0000)\n",
      "Var(v=42.0000, grad=2.0000)\n"
     ]
    }
   ],
   "source": [
    "f.backward()\n",
    "\n",
    "for v in [a, b, c, d, e, f]:\n",
    "    print(v)"
   ]
  },
  {
   "cell_type": "markdown",
   "metadata": {
    "id": "e8bPVq2VhsP-"
   },
   "source": [
    "## Exercise d) Zero gradient\n",
    "\n",
    "We can zero the gradient by backpropagating a -1.0 as is shown in the example below. (If you have run backward multiple time then you also have to run the cell below an equal amount of times.) Explain what is going on."
   ]
  },
  {
   "cell_type": "code",
   "execution_count": 236,
   "metadata": {
    "colab": {
     "base_uri": "https://localhost:8080/"
    },
    "id": "OnyPDQx9lJe0",
    "outputId": "7a125fdc-60c4-4340-a580-8b82aea5b0db"
   },
   "outputs": [
    {
     "name": "stdout",
     "output_type": "stream",
     "text": [
      "Var(v=2.0000, grad=0.0000)\n",
      "Var(v=5.0000, grad=6.0000)\n",
      "Var(v=15.0000, grad=2.0000)\n",
      "Var(v=9.0000, grad=6.0000)\n",
      "Var(v=27.0000, grad=2.0000)\n",
      "Var(v=42.0000, grad=2.0000)\n",
      "Var(v=2.0000, grad=0.0000)\n",
      "Var(v=5.0000, grad=3.0000)\n",
      "Var(v=15.0000, grad=1.0000)\n",
      "Var(v=9.0000, grad=3.0000)\n",
      "Var(v=27.0000, grad=1.0000)\n",
      "Var(v=42.0000, grad=1.0000)\n"
     ]
    }
   ],
   "source": [
    "a = Var(2.0)\n",
    "\n",
    "for v in [a, b, c, d, e, f]:\n",
    "    print(v)\n",
    "\n",
    "f.backprop(-1.0)\n",
    "\n",
    "for v in [a, b, c, d, e, f]:\n",
    "    print(v)"
   ]
  },
  {
   "cell_type": "markdown",
   "metadata": {
    "id": "U4057_ljNvWB"
   },
   "source": [
    "## Exercise e) Test correctness of derivatives with the finite difference method\n",
    "\n",
    "Write a small function that uses [the finite difference method](https://en.wikipedia.org/wiki/Finite_difference_method) to numerically test that backpropation implementation is working. In short we will use\n",
    "$$\n",
    "\\frac{\\partial f(a)}{\\partial a} \\approx \\frac{f(a+da)-f(a)}{da}\n",
    "$$\n",
    "for $da \\ll 1$.\n",
    "\n",
    "As an example, we could approximate the derivative of the function $f(a)=a^2$ in e.g. the value $a=4$ using the finite difference method. This amounts to inserting the relevant values and approximating the gradient $f'(4)$ with the fraction above. \n"
   ]
  },
  {
   "cell_type": "code",
   "execution_count": 237,
   "metadata": {
    "colab": {
     "base_uri": "https://localhost:8080/"
    },
    "id": "9TGil92lSXDN",
    "outputId": "7ef5489b-b525-4132-ab08-0b1109c07f4d"
   },
   "outputs": [
    {
     "name": "stdout",
     "output_type": "stream",
     "text": [
      "Var(v=3.0000, grad=5.0000)\n",
      "Var(v=5.0000, grad=3.0000)\n",
      "Var(v=15.0000, grad=1.0000)\n",
      "5.000000413701855\n"
     ]
    }
   ],
   "source": [
    "# f function - try to change the code to test other types of functions as well (such as different polynomials etc.)\n",
    "def f_function(a):\n",
    "  a = Var(a)\n",
    "  b = Var(5.0)\n",
    "  f = a * b\n",
    "  f.backward()\n",
    "  return a,b,f\n",
    "\n",
    "for v in f_function(3.0):\n",
    "  print(v)\n",
    "  # a = 3.0, df/da = 5\n",
    "  # b = 5.0, df/db = 3\n",
    "  # f(3) = 3 * 5 = 15, df/df = 1\n",
    "\n",
    "# Insert your finite difference code here\n",
    "def finite_difference(da=1e-10):\n",
    "    \"\"\"\n",
    "    This function compute the finite difference between\n",
    "    \n",
    "    Input:\n",
    "    da:          The finite difference                           (float)\n",
    "    \n",
    "    Output:\n",
    "    finite_difference: numerical approximation to the derivative (float) \n",
    "    \"\"\"\n",
    "    \n",
    "    # Finite difference approximation to the derivative df/da\n",
    "    # f(a) = a * 5.0\n",
    "    # df/da = 5.0\n",
    "\n",
    "    # fa_da = f_function(3.0 + da)[2]\n",
    "    # fa = f_function(3.0)\n",
    "\n",
    "    fa_da=f_function(3.0 + da)[2].v\n",
    "    fa=f_function(3.0)[2].v\n",
    "\n",
    "    # print(f_function(3.0 + da))       # 3 var objects\n",
    "    # print(f_function(3.0)[2])         # last var object is f\n",
    "    # print(f_function(3.0 + da)[2].v)  # value of f at a+da\n",
    "\n",
    "    finite_difference = (fa_da - fa) / da\n",
    "    \n",
    "    return finite_difference\n",
    "\n",
    "print(finite_difference())"
   ]
  },
  {
   "cell_type": "markdown",
   "metadata": {
    "id": "6pZar5RKaUkg"
   },
   "source": [
    "# Create an artificial dataset to play with\n",
    "\n",
    "We create a non-linear 1d regression task. The generator supports various noise levels and it creates train, validation and test sets. You can modify it yourself if you want more or less challenging tasks."
   ]
  },
  {
   "cell_type": "code",
   "execution_count": 238,
   "metadata": {
    "id": "Y6yfMAQ8aduj"
   },
   "outputs": [],
   "source": [
    "import numpy as np\n",
    "import matplotlib.pyplot as plt\n",
    "\n",
    "np.random.seed(42)"
   ]
  },
  {
   "cell_type": "code",
   "execution_count": 239,
   "metadata": {
    "id": "4YabfD43ajNh"
   },
   "outputs": [],
   "source": [
    "def data_generator(noise=0.1, n_samples=300, D1=True):\n",
    "    # Create covariates and response variable\n",
    "    if D1:\n",
    "        X = np.linspace(-3, 3, num=n_samples).reshape(-1,1) # 1-D\n",
    "        np.random.shuffle(X)\n",
    "        y = np.random.normal((0.5*np.sin(X[:,0]*3) + X[:,0]), noise) # 1-D with trend\n",
    "    else:\n",
    "        X = np.random.multivariate_normal(np.zeros(3), noise*np.eye(3), size = n_samples) # 3-D\n",
    "        np.random.shuffle(X)    \n",
    "        y = np.sin(X[:,0]) - 5*(X[:,1]**2) + 0.5*X[:,2] # 3-D\n",
    "\n",
    "    # Stack them together vertically to split data set\n",
    "    data_set = np.vstack((X.T,y)).T\n",
    "    \n",
    "    train, validation, test = np.split(data_set, [int(0.35*n_samples), int(0.7*n_samples)], axis=0)\n",
    "    \n",
    "    # Standardization of the data\n",
    "    # Remember we do the standardization with the training set mean and standard deviation\n",
    "    train_mu = np.mean(train, axis=0)\n",
    "    train_sigma = np.std(train, axis=0)\n",
    "    \n",
    "    train = (train-train_mu)/train_sigma\n",
    "    validation = (validation-train_mu)/train_sigma\n",
    "    test = (test-train_mu)/train_sigma\n",
    "    \n",
    "    x_train, x_validation, x_test = train[:,:-1], validation[:,:-1], test[:,:-1]\n",
    "    y_train, y_validation, y_test = train[:,-1], validation[:,-1], test[:,-1]\n",
    "\n",
    "    return x_train, y_train,  x_validation, y_validation, x_test, y_test"
   ]
  },
  {
   "cell_type": "code",
   "execution_count": 240,
   "metadata": {
    "id": "u1oDngHLapIz"
   },
   "outputs": [],
   "source": [
    "D1 = True\n",
    "x_train, y_train,  x_validation, y_validation, x_test, y_test = data_generator(noise=0.5, D1=D1)"
   ]
  },
  {
   "cell_type": "code",
   "execution_count": 241,
   "metadata": {
    "colab": {
     "base_uri": "https://localhost:8080/",
     "height": 265
    },
    "id": "Ysfa3FsBavlm",
    "outputId": "399e5382-ae7d-48f6-9774-7ea4c73e7d95"
   },
   "outputs": [
    {
     "data": {
      "image/png": "[encoded data removed]",
      "text/plain": [
       "<Figure size 640x480 with 1 Axes>"
      ]
     },
     "metadata": {},
     "output_type": "display_data"
    }
   ],
   "source": [
    "if D1:\n",
    "    plt.scatter(x_train[:,0], y_train);\n",
    "    plt.scatter(x_validation[:,0], y_validation);\n",
    "    plt.scatter(x_test[:,0], y_test);\n",
    "else:\n",
    "    plt.scatter(x_train[:,1], y_train);\n",
    "    plt.scatter(x_validation[:,1], y_validation);\n",
    "    plt.scatter(x_test[:,1], y_test);\n",
    "plt.show()"
   ]
  },
  {
   "cell_type": "code",
   "execution_count": 242,
   "metadata": {
    "id": "zac2HHNlgbpm"
   },
   "outputs": [],
   "source": [
    "# convert from nparray to Var\n",
    "def nparray_to_Var(x):\n",
    "  if x.ndim==1:\n",
    "    y = [[Var(float(x[i]))] for i in range(x.shape[0])] # always work with list of list\n",
    "  else:\n",
    "    y = [[Var(float(x[i,j])) for j in range(x.shape[1])] for i in range(x.shape[0])]\n",
    "  return y\n",
    "   \n",
    "x_train = nparray_to_Var(x_train)\n",
    "y_train = nparray_to_Var(y_train)\n",
    "x_validation = nparray_to_Var(x_validation)\n",
    "y_validation = nparray_to_Var(y_validation)\n",
    "x_test = nparray_to_Var(x_test)\n",
    "y_test = nparray_to_Var(y_test)\n"
   ]
  },
  {
   "cell_type": "markdown",
   "metadata": {
    "id": "VbjrqcpVFtGe"
   },
   "source": [
    "# Defining and initializing the network\n",
    "\n",
    "The steps to create a feed forward neural network are the following:\n",
    "\n",
    "1. **Number of hidden layer and hidden units**. \n",
    "    - We have to define the number of hidden units in each layer. \n",
    "    - The number of features in X and the output dimensionality (the size of Y) are given but the numbers in between are set by the researcher. \n",
    "    - Remember that for each unit in each layer beside in the input has a bias term.\n",
    "2. **Activation functions** for each hidden layer. \n",
    "    - Each hidden layer in your list must have an activation function (it can also be the linear activation which is equivalent to identity function). \n",
    "    - The power of neural networks comes from non-linear activation functions that learn representations (features) from the data allowing us to learn from it. \n",
    "3. **Parameter initialization**. \n",
    "    - We will initialize the weights to have random values. This is done in practice by drawing pseudo random numbers from a Gaussian or uniform distribution. \n",
    "    - **It turns out that for deeper models we have to be careful about how we scale the random numbers**. This will be the topic of the exercise below. For now we will just use unit variance Gaussians.  \n",
    "\n",
    "In order to make life easier for ourselves we define a DenseLayer class that takes care of initialization and the forward pass. We can also extend it later with print and advanced initialization capabilities. For the latter we have introduced a Initializer class.\n",
    "\n",
    "Note that we use `Sequence` in the code below. **A Sequence is an ordered list. This means the order we insert and access items are the same.**"
   ]
  },
  {
   "cell_type": "code",
   "execution_count": 243,
   "metadata": {
    "id": "ij_ieRsAt7Xt"
   },
   "outputs": [],
   "source": [
    "import random\n",
    "\n",
    "class Initializer:\n",
    "\n",
    "    def init_weights(self, n_in, n_out):\n",
    "        raise NotImplementedError # overwritten\n",
    "\n",
    "    def init_bias(self, n_out):\n",
    "        raise NotImplementedError # overwritten"
   ]
  },
  {
   "cell_type": "code",
   "execution_count": 244,
   "metadata": {
    "id": "eb18N5phuIha"
   },
   "outputs": [],
   "source": [
    "import random\n",
    "\n",
    "class NormalInitializer(Initializer):\n",
    "\n",
    "  def __init__(self, mean=0, std=0.1):\n",
    "    self.mean = mean\n",
    "    self.std = std\n",
    "\n",
    "  def init_weights(self, n_in, n_out):\n",
    "    return [[Var(random.gauss(self.mean, self.std)) for _ in range(n_out)] for _ in range(n_in)]\n",
    "\n",
    "  def init_bias(self, n_out):\n",
    "    return [Var(0.0) for _ in range(n_out)]\n",
    "\n",
    "class ConstantInitializer(Initializer):\n",
    "\n",
    "  def __init__(self, weight=1.0, bias=0.0):\n",
    "    self.weight = weight\n",
    "    self.bias = bias\n",
    "\n",
    "  def init_weights(self, n_in, n_out):\n",
    "    return [[Var(self.weight) for _ in range(n_out)] for _ in range(n_in)]\n",
    "\n",
    "  def init_bias(self, n_out):\n",
    "    return [Var(self.bias) for _ in range(n_out)]"
   ]
  },
  {
   "cell_type": "code",
   "execution_count": 245,
   "metadata": {
    "id": "jOLYGnZKuM6W"
   },
   "outputs": [],
   "source": [
    "from typing import Sequence\n",
    "\n",
    "class DenseLayer:\n",
    "    def __init__(self, n_in: int, n_out: int, act_fn, initializer = NormalInitializer()):\n",
    "        self.weights = initializer.init_weights(n_in, n_out) # n_in x n_out matrix\n",
    "        self.bias = initializer.init_bias(n_out) # n_out vector\n",
    "        self.act_fn = act_fn\n",
    "    \n",
    "    def __repr__(self):    \n",
    "        return 'Weights: ' + repr(self.weights) + ' Biases: ' + repr(self.bias)\n",
    "\n",
    "    def parameters(self) -> Sequence[Var]:\n",
    "      params = []\n",
    "      for r in self.weights:\n",
    "        params += r\n",
    "\n",
    "      return params + self.bias\n",
    "\n",
    "    def forward(self, single_input: Sequence[Var]) -> Sequence[Var]:\n",
    "        # self.weights is a matrix with dimension n_in x n_out. We check that the dimensionality of the input \n",
    "        # to the current layer matches the number of nodes in the current layer\n",
    "        assert len(self.weights) == len(single_input), \"weights and single_input must match in first dimension\"\n",
    "        weights = self.weights\n",
    "        out = []\n",
    "        # For some given data point single_input, we now want to calculate the resulting value in each node in the current layer\n",
    "        # We therefore loop over the (number of) nodes in the current layer:\n",
    "        for j in range(len(weights[0])):  # len(weights[0]) is the number of nodes in the current layer\n",
    "            # Initialize the node value depending on its corresponding parameters.\n",
    "            node = self.bias[j]\n",
    "            # We now finish the linear transformation corresponding to the parameters of the currently considered node.\n",
    "            for i in range(len(single_input)):\n",
    "                node += single_input[i] * weights[i][j]\n",
    "            node = self.act_fn(node)\n",
    "            out.append(node)\n",
    "\n",
    "        return out"
   ]
  },
  {
   "cell_type": "markdown",
   "metadata": {
    "id": "jpIZPBpNI0pO"
   },
   "source": [
    "## Exercise f) Add more activation functions\n",
    "\n",
    "To have a full definition of the neural network, we must define an **activation function for every layer**. Several activation functions have been proposed and have different characteristics. In the `Var` class we have already defined the rectified linear init (relu). \n",
    " \n",
    "Implement the following activation functions in the Var class:\n",
    "\n",
    "* Identity: $$\\mathrm{identity}(x) = x$$\n",
    "* Hyperbolic tangent: $$\\tanh(x)$$\n",
    "* Sigmoid (or logistic function): $$\\mathrm{sigmoid}(x) = \\frac{1}{1.0 + \\exp(-x ) }$$  Hint: $\\mathrm{sigmoid}'(x)= \\mathrm{sigmoid}(x)(1-\\mathrm{sigmoid}(x))$.  \n",
    "\n",
    "Hint: You can seek inspiration in the relu method in the Var class."
   ]
  },
  {
   "cell_type": "markdown",
   "metadata": {
    "id": "p_8n_SKnIW2F"
   },
   "source": [
    "## Exercise g) Complete the forward pass\n",
    "\n",
    "In the code below we initialize a 1-5-1 network and pass the training set through it. *The forward method in DenseLayer is **not** complete*. It just outputs zeros right now. The method forward should perform an [affine transformation](https://en.wikipedia.org/wiki/Affine_transformation) on the input followed by an application of the activation function."
   ]
  },
  {
   "cell_type": "code",
   "execution_count": 246,
   "metadata": {
    "colab": {
     "base_uri": "https://localhost:8080/",
     "height": 337
    },
    "id": "xDEjtePxE7Mv",
    "outputId": "753406cd-d8a1-4282-ce03-25ad959b0e11"
   },
   "outputs": [
    {
     "name": "stdout",
     "output_type": "stream",
     "text": [
      "[[Var(v=0.0031, grad=0.0000)], [Var(v=0.0061, grad=0.0000)], [Var(v=0.0006, grad=0.0000)], [Var(v=-0.0143, grad=0.0000)], [Var(v=0.0045, grad=0.0000)], [Var(v=0.0042, grad=0.0000)], [Var(v=0.0027, grad=0.0000)], [Var(v=-0.0034, grad=0.0000)], [Var(v=-0.0148, grad=0.0000)], [Var(v=0.0017, grad=0.0000)], [Var(v=0.0047, grad=0.0000)], [Var(v=-0.0091, grad=0.0000)], [Var(v=0.0038, grad=0.0000)], [Var(v=-0.0104, grad=0.0000)], [Var(v=0.0020, grad=0.0000)], [Var(v=0.0039, grad=0.0000)], [Var(v=0.0073, grad=0.0000)], [Var(v=0.0034, grad=0.0000)], [Var(v=0.0004, grad=0.0000)], [Var(v=0.0012, grad=0.0000)], [Var(v=-0.0068, grad=0.0000)], [Var(v=-0.0030, grad=0.0000)], [Var(v=0.0053, grad=0.0000)], [Var(v=0.0054, grad=0.0000)], [Var(v=-0.0040, grad=0.0000)], [Var(v=-0.0107, grad=0.0000)], [Var(v=0.0069, grad=0.0000)], [Var(v=0.0076, grad=0.0000)], [Var(v=0.0008, grad=0.0000)], [Var(v=0.0048, grad=0.0000)], [Var(v=-0.0135, grad=0.0000)], [Var(v=0.0011, grad=0.0000)], [Var(v=-0.0117, grad=0.0000)], [Var(v=-0.0127, grad=0.0000)], [Var(v=0.0036, grad=0.0000)], [Var(v=-0.0024, grad=0.0000)], [Var(v=-0.0145, grad=0.0000)], [Var(v=-0.0055, grad=0.0000)], [Var(v=-0.0103, grad=0.0000)], [Var(v=-0.0074, grad=0.0000)], [Var(v=-0.0052, grad=0.0000)], [Var(v=-0.0070, grad=0.0000)], [Var(v=0.0071, grad=0.0000)], [Var(v=-0.0088, grad=0.0000)], [Var(v=-0.0069, grad=0.0000)], [Var(v=-0.0084, grad=0.0000)], [Var(v=0.0046, grad=0.0000)], [Var(v=0.0043, grad=0.0000)], [Var(v=-0.0032, grad=0.0000)], [Var(v=0.0044, grad=0.0000)], [Var(v=0.0019, grad=0.0000)], [Var(v=0.0002, grad=0.0000)], [Var(v=0.0048, grad=0.0000)], [Var(v=-0.0071, grad=0.0000)], [Var(v=0.0077, grad=0.0000)], [Var(v=0.0067, grad=0.0000)], [Var(v=-0.0047, grad=0.0000)], [Var(v=-0.0053, grad=0.0000)], [Var(v=0.0025, grad=0.0000)], [Var(v=-0.0126, grad=0.0000)], [Var(v=0.0045, grad=0.0000)], [Var(v=-0.0089, grad=0.0000)], [Var(v=-0.0146, grad=0.0000)], [Var(v=0.0022, grad=0.0000)], [Var(v=0.0016, grad=0.0000)], [Var(v=-0.0120, grad=0.0000)], [Var(v=-0.0129, grad=0.0000)], [Var(v=0.0057, grad=0.0000)], [Var(v=-0.0092, grad=0.0000)], [Var(v=0.0022, grad=0.0000)], [Var(v=-0.0035, grad=0.0000)], [Var(v=-0.0016, grad=0.0000)], [Var(v=0.0044, grad=0.0000)], [Var(v=0.0026, grad=0.0000)], [Var(v=-0.0013, grad=0.0000)], [Var(v=0.0069, grad=0.0000)], [Var(v=-0.0064, grad=0.0000)], [Var(v=-0.0062, grad=0.0000)], [Var(v=-0.0081, grad=0.0000)], [Var(v=0.0072, grad=0.0000)], [Var(v=0.0011, grad=0.0000)], [Var(v=0.0007, grad=0.0000)], [Var(v=-0.0132, grad=0.0000)], [Var(v=-0.0018, grad=0.0000)], [Var(v=-0.0067, grad=0.0000)], [Var(v=-0.0029, grad=0.0000)], [Var(v=-0.0025, grad=0.0000)], [Var(v=-0.0075, grad=0.0000)], [Var(v=-0.0137, grad=0.0000)], [Var(v=-0.0142, grad=0.0000)], [Var(v=0.0026, grad=0.0000)], [Var(v=-0.0043, grad=0.0000)], [Var(v=-0.0079, grad=0.0000)], [Var(v=0.0041, grad=0.0000)], [Var(v=-0.0113, grad=0.0000)], [Var(v=-0.0136, grad=0.0000)], [Var(v=0.0019, grad=0.0000)], [Var(v=0.0003, grad=0.0000)], [Var(v=0.0065, grad=0.0000)], [Var(v=-0.0080, grad=0.0000)], [Var(v=0.0043, grad=0.0000)], [Var(v=-0.0078, grad=0.0000)], [Var(v=-0.0119, grad=0.0000)], [Var(v=0.0021, grad=0.0000)], [Var(v=0.0061, grad=0.0000)]]\n"
     ]
    }
   ],
   "source": [
    "NN = [\n",
    "    DenseLayer(1, 5, lambda x: x.relu()),\n",
    "    DenseLayer(5, 1, lambda x: x.identity())\n",
    "]\n",
    "\n",
    "def forward(input, network):\n",
    "\n",
    "  def forward_single(x, network):\n",
    "    for layer in network:\n",
    "        x = layer.forward(x)\n",
    "    return x\n",
    "\n",
    "  output = [ forward_single(input[n], network) for n in range(len(input))]\n",
    "  return output\n",
    "\n",
    "print(forward(x_train, NN))\n"
   ]
  },
  {
   "cell_type": "markdown",
   "metadata": {
    "id": "oLrGJytZFtGm"
   },
   "source": [
    "## Exercise h) Print all network parameters\n",
    "\n",
    "Make a function that prints all the parameters of the network (weights and biases) with information about in which layer the appear. In the object oriented spirit you should introduce a method in the DenseLayer class to print the parameters of a layer. Hint: You can take inspiration from the corresponding method in Var. "
   ]
  },
  {
   "cell_type": "code",
   "execution_count": 247,
   "metadata": {
    "id": "iac-VwYGFtGm"
   },
   "outputs": [
    {
     "name": "stdout",
     "output_type": "stream",
     "text": [
      "Weights: [[Var(v=-0.0583, grad=0.0000), Var(v=0.1170, grad=0.0000), Var(v=0.0723, grad=0.0000), Var(v=-0.0411, grad=0.0000), Var(v=0.0132, grad=0.0000)]] Biases: [Var(v=0.0000, grad=0.0000), Var(v=0.0000, grad=0.0000), Var(v=0.0000, grad=0.0000), Var(v=0.0000, grad=0.0000), Var(v=0.0000, grad=0.0000)]\n",
      "Weights: [[Var(v=-0.0761, grad=0.0000)], [Var(v=0.0820, grad=0.0000)], [Var(v=-0.0628, grad=0.0000)], [Var(v=-0.1210, grad=0.0000)], [Var(v=-0.0618, grad=0.0000)]] Biases: [Var(v=0.0000, grad=0.0000)]\n"
     ]
    }
   ],
   "source": [
    "# Insert code here and in the DenseLayer class\n",
    "def print_all_params(network):\n",
    "    \"\"\"\n",
    "    This function prints all parameters in the network\n",
    "    \n",
    "    Input:\n",
    "    network: The neural network (list of DenseLayer objects)\n",
    "    \n",
    "    Output:\n",
    "    None\n",
    "    \"\"\"\n",
    "    for layer in network:\n",
    "        print(layer) # prints the weights and biases of the layer\n",
    "\n",
    "print_all_params(NN)"
   ]
  },
  {
   "cell_type": "markdown",
   "metadata": {
    "id": "_79HOAXrFtHK"
   },
   "source": [
    "## Visualization\n",
    "\n",
    "Now that we have defined our activation functions we can visualize them to see what they look like:"
   ]
  },
  {
   "cell_type": "code",
   "execution_count": 248,
   "metadata": {
    "id": "1FcylHqLTl-Z"
   },
   "outputs": [
    {
     "data": {
      "text/plain": [
       "[<matplotlib.lines.Line2D at 0x1144d7e50>]"
      ]
     },
     "execution_count": 248,
     "metadata": {},
     "output_type": "execute_result"
    },
    {
     "data": {
      "image/png": "[encoded data removed]",
      "text/plain": [
       "<Figure size 640x480 with 1 Axes>"
      ]
     },
     "metadata": {},
     "output_type": "display_data"
    }
   ],
   "source": [
    "x = np.linspace(-6, 6, 100)\n",
    "\n",
    "# convert from Var to ndarray  \n",
    "def Var_to_nparray(x):\n",
    "  y = np.zeros((len(x),len(x[0])))\n",
    "  for i in range(len(x)):\n",
    "    for j in range(len(x[0])):\n",
    "      y[i,j] = x[i][j].v\n",
    "  return y\n",
    "\n",
    "# define 1-1 network with weight = 1 and relu activation \n",
    "NN = [ DenseLayer(1, 1, lambda x: x.relu(), initializer = ConstantInitializer(1.0)) ] \n",
    "y = Var_to_nparray(forward(nparray_to_Var(x), NN))\n",
    "\n",
    "#y = Var_to_nparray(relu(nparray_to_Var(x)))\n",
    "plt.plot(x,y)"
   ]
  },
  {
   "cell_type": "code",
   "execution_count": 249,
   "metadata": {
    "id": "oOL2UolJFtHL"
   },
   "outputs": [
    {
     "data": {
      "image/png": "[encoded data removed]",
      "text/plain": [
       "<Figure size 500x500 with 1 Axes>"
      ]
     },
     "metadata": {},
     "output_type": "display_data"
    }
   ],
   "source": [
    "# Testing all activation layers\n",
    "\n",
    "x = np.linspace(-6, 6, 100)\n",
    "units = {\n",
    "    \"identity\": lambda x: x.identity(),\n",
    "    \"sigmoid\": lambda x: x.sigmoid(),\n",
    "    \"relu\": lambda x: x.relu(),\n",
    "    \"tanh\": lambda x: x.tanh()\n",
    "}\n",
    "\n",
    "plt.figure(figsize=(5, 5))\n",
    "[plt.plot(x, Var_to_nparray(forward(nparray_to_Var(x), [DenseLayer(1, 1, unit, initializer = ConstantInitializer(1.0))]) ), label=unit_name, lw=2) for unit_name, unit in units.items()] # unit(nparray_to_Var(x))), label=unit_name, lw=2) for unit_name, unit in units.items()]\n",
    "plt.legend(loc=2, fontsize=16)\n",
    "plt.title('Our activation functions', fontsize=20)\n",
    "plt.ylim([-2, 5])\n",
    "plt.xlim([-6, 6])\n",
    "plt.show()"
   ]
  },
  {
   "cell_type": "markdown",
   "metadata": {
    "id": "b-jdEl-7FtGs"
   },
   "source": [
    "# Advanced initialization schemes\n",
    "\n",
    "If we are not careful with initialization, the **signals we propagate forward** ($a^{(l)}$, $l=1,\\ldots,L$) and backward ($\\delta^l$, $l=L,L-1,\\ldots,1$) **can blow up or shrink to zero**. A statistical analysis of the variance of the signals for different activation functions can be found in these two papers: [Glorot initialization](http://proceedings.mlr.press/v9/glorot10a/glorot10a.pdf) and [He initialization](https://arxiv.org/pdf/1502.01852v1.pdf). \n",
    "\n",
    "The result of the analyses are proposals for how to make the initialization such that the **variance of the signals** (forward and backward) **are kept approxmimatly constant** when propagating from layer to layer. The **exact expressions depend upon the non-linear activation function used**. In Glorot initialization, the aim is to keep both the forward and backward variances constant whereas He only aims at keeping the variance in the forward pass constant.\n",
    "\n",
    "We define $n_{in}$ and $n_{out}$ as the number of input units and output units of a particular layer. \n",
    "\n",
    "The Glorot initialization has the form: \n",
    "\n",
    "$$w_{ij} \\sim N \\bigg( 0, \\, \\frac{2 \\alpha }{n_{in} + n_{out}} \\bigg) \\ . $$\n",
    "\n",
    "where $N(\\mu,\\sigma^2)$ is a Gaussian distribution with mean $\\mu$ and variance $\\sigma^2$ and $\\alpha$ is a parameter that depends upon the activation function used. For $\\tanh$, $\\alpha=1$ and for Rectified Linear Unit (ReLU) activations, $\\alpha=2$. (It is also possible to use a uniform distribution for initialization, see [this blog post](https://mmuratarat.github.io/2019-02-25/xavier-glorot-he-weight-init).) \n",
    "\n",
    "The He initialization is very similar\n",
    "\n",
    "$$w_{ij} \\sim N \\bigg( 0, \\, \\frac{\\alpha}{n_{in}} \\bigg) \\ . $$"
   ]
  },
  {
   "cell_type": "markdown",
   "metadata": {
    "id": "mqeyab9qFtGs"
   },
   "source": [
    "## Exercise i) Glorot and He initialization\n",
    " \n",
    "Using the Initializer class, implement functions that implement Glorot and He \n",
    "\n",
    "Explain briefly how you would test numerically that these initializations have the sought after property. Hint: See plots in Glorot paper.\n",
    "\n",
    "Comment: If you want to be more advanced then try to make a universal initializer taking both the activation function and type (Glorot or He) as argument."
   ]
  },
  {
   "cell_type": "code",
   "execution_count": 250,
   "metadata": {
    "id": "Qyk01CgaFtGt"
   },
   "outputs": [],
   "source": [
    "## Glorot\n",
    "def DenseLayer_Glorot_tanh(n_in: int, n_out: int):\n",
    "  alpha = 1 # use 2 for relu\n",
    "  std = (2*alpha)/(n_in+n_out)\n",
    "  return DenseLayer(n_in, n_out, lambda x: x.tanh(), initializer = NormalInitializer(std))\n",
    "\n",
    "## He\n",
    "def DenseLayer_He_relu(n_in: int, n_out: int):\n",
    "  alpha = 2 # use 1 for tanh\n",
    "  std = alpha/n_in\n",
    "  return DenseLayer(n_in, n_out, lambda x: x.relu(), initializer = NormalInitializer(std))"
   ]
  },
  {
   "cell_type": "markdown",
   "metadata": {
    "id": "-XyXBD37FtHk"
   },
   "source": [
    "## Exercise j) Forward pass unit test\n",
    "\n",
    "Write a bit of code to make a unit test that the forward pass works. This can be done by defining a simple network with for example all weights equal to one (using the ConstantInitializer method) and identity activation functions. \n",
    "\n",
    "Hints: Use the [assert](https://www.w3schools.com/python/ref_keyword_assert.asp), the nparray_to_Var and the Var_to_nparray commands. "
   ]
  },
  {
   "cell_type": "code",
   "execution_count": null,
   "metadata": {
    "id": "k0miqRUAFtHl"
   },
   "outputs": [
    {
     "name": "stdout",
     "output_type": "stream",
     "text": [
      "[[Var(v=5.0000, grad=0.0000)]]\n",
      "Weights: [[Var(v=1.0000, grad=0.0000), Var(v=1.0000, grad=0.0000), Var(v=1.0000, grad=0.0000), Var(v=1.0000, grad=0.0000), Var(v=1.0000, grad=0.0000)]] Biases: [Var(v=0.0000, grad=0.0000), Var(v=0.0000, grad=0.0000), Var(v=0.0000, grad=0.0000), Var(v=0.0000, grad=0.0000), Var(v=0.0000, grad=0.0000)]\n",
      "Weights: [[Var(v=1.0000, grad=0.0000)], [Var(v=1.0000, grad=0.0000)], [Var(v=1.0000, grad=0.0000)], [Var(v=1.0000, grad=0.0000)], [Var(v=1.0000, grad=0.0000)]] Biases: [Var(v=0.0000, grad=0.0000)]\n"
     ]
    }
   ],
   "source": [
    "NN = [\n",
    "    DenseLayer(n_in=1, n_out=5, act_fn=lambda x: x.identity(), initializer=ConstantInitializer()),\n",
    "    DenseLayer(n_in=5, n_out=1, act_fn=lambda x: x.identity(), initializer=ConstantInitializer())\n",
    "]\n",
    "\n",
    "def forward(input, network):\n",
    "\n",
    "  def forward_single(x, network):\n",
    "    for layer in network:\n",
    "        x = layer.forward(x)\n",
    "    return x\n",
    "\n",
    "  output = [ forward_single(input[n], network) for n in range(len(input))]\n",
    "  return output\n",
    "\n",
    "# We give 1's to the input\n",
    "#\n",
    "# Due to the identity activation function and all weights equal to one,\n",
    "# our output should be one as well.\n",
    "#\n",
    "# print(forward(nparray_to_Var(np.array([1.0])), NN))\n",
    "print(forward([[Var(float(1))]], NN))\n",
    "\n",
    "print_all_params(NN)\n",
    "\n",
    "# TODO check why it is 5 instead of 1\n"
   ]
  },
  {
   "cell_type": "markdown",
   "metadata": {
    "id": "faCxhfFnFtHp"
   },
   "source": [
    "# Loss functions\n",
    "\n",
    "We are only missing a loss function to we need to define a loss function and its derivative with respect to the output of the neural network $y$"
   ]
  },
  {
   "cell_type": "code",
   "execution_count": 258,
   "metadata": {
    "id": "I2eDYKvAFtHq"
   },
   "outputs": [],
   "source": [
    "def squared_loss(t, y):\n",
    "  \n",
    "  # add check that sizes agree\n",
    "  assert len(t) == len(y)\n",
    "  \n",
    "  def squared_loss_single(t, y):\n",
    "    Loss = Var(0.0)\n",
    "    for i in range(len(t)): # sum over outputs\n",
    "      Loss += (t[i]-y[i]) ** 2\n",
    "    return Loss\n",
    "\n",
    "  Loss = Var(0.0)\n",
    "  for n in range(len(t)): # sum over training data\n",
    "    Loss += squared_loss_single(t[n],y[n])\n",
    "  return Loss"
   ]
  },
  {
   "cell_type": "markdown",
   "metadata": {
    "id": "SrwSJ2UWFtHu"
   },
   "source": [
    "## Exercise k) Implement cross entropy loss\n",
    "\n",
    "Insert code below to implement cross-entropy loss for general dimensionality of $t$. Use a logits formulation:\n",
    "$$\n",
    "\\rm{Loss} = - \\sum_i t_i \\, log \\, p_i \n",
    "$$\n",
    "with $p$ given by the the softmax function in terms of the logits $h$:\n",
    "$$\n",
    "p_i = \\frac{\\exp(h_i)}{\\sum_{i'} \\exp(h_{i'})} .\n",
    "$$\n",
    "Inserting $p$ in the expression for the loss gives\n",
    "$$\n",
    "\\rm{Loss} = - \\sum_i t_i h_i + \\rm{LogSumExp}(h) \\ ,\n",
    "$$\n",
    "where \n",
    "$$\n",
    "\\rm{LogSumExp}(h) = \\log \\sum_i \\exp h_i \\ .\n",
    "$$\n",
    "This is true for **$t$ being a one-hot vector**. \n",
    "\n",
    "Call the function to convince yourself it works. \n",
    "\n",
    "In practice you want to implement a [numerically stable](https://leimao.github.io/blog/LogSumExp/) version of LogSumExp. But we will not bother about that here.\n",
    "\n",
    "Help: You can add these methods in the Var class:\n",
    "\n",
    "    def exp(self):\n",
    "        return Var(exp(self.v), lambda: [(self, exp(self.v))])\n",
    "    \n",
    "    def log(self):\n",
    "        return Var(log(self.v), lambda: [(self, self.v ** -1)])"
   ]
  },
  {
   "cell_type": "code",
   "execution_count": 260,
   "metadata": {
    "id": "6nMuxyfzFtHv"
   },
   "outputs": [],
   "source": [
    "def cross_entropy_loss(t, h):\n",
    "     \n",
    "    loss = Var(0.0)\n",
    "\n",
    "    def logSumExp(h):\n",
    "        sum = 0\n",
    "        for hi in h:\n",
    "            sum += exp(hi)\n",
    "        return log(sum)\n",
    "\n",
    "    # Main loss loop\n",
    "    for i in range(len(t)):\n",
    "        loss -= t[i]*h[i] + logSumExp(h)\n",
    "\n",
    "    return loss"
   ]
  },
  {
   "cell_type": "markdown",
   "metadata": {
    "id": "8fAF5ew4FtHy"
   },
   "source": [
    "# Backward pass\n",
    "\n",
    "Now the magic happens! We get the calculation of the gradients for free. Just do:"
   ]
  },
  {
   "cell_type": "code",
   "execution_count": 261,
   "metadata": {
    "id": "iHyfPPI9Qqwu"
   },
   "outputs": [],
   "source": [
    "NN = [\n",
    "    DenseLayer(1, 5, lambda x: x.relu()),\n",
    "    DenseLayer(5, 1, lambda x: x.identity())\n",
    "]\n",
    "\n",
    "output = forward(x_train, NN)\n",
    "\n",
    "Loss = squared_loss(y_train,output)\n",
    "Loss.backward()"
   ]
  },
  {
   "cell_type": "markdown",
   "metadata": {
    "id": "49biIAYKQ1oG"
   },
   "source": [
    "and the gradients will be calculated:"
   ]
  },
  {
   "cell_type": "code",
   "execution_count": 262,
   "metadata": {
    "id": "_rGt1bq_Q7uk"
   },
   "outputs": [
    {
     "name": "stdout",
     "output_type": "stream",
     "text": [
      "Layer 0 \n",
      " Weights: [[Var(v=-0.0465, grad=-1.5386), Var(v=-0.1546, grad=-3.8106), Var(v=0.0353, grad=14.9540), Var(v=0.0319, grad=-10.1510), Var(v=-0.0126, grad=0.7495)]] Biases: [Var(v=0.0000, grad=1.3987), Var(v=0.0000, grad=3.4641), Var(v=0.0000, grad=12.8450), Var(v=0.0000, grad=-8.7193), Var(v=0.0000, grad=-0.6814)]\n",
      "Layer 1 \n",
      " Weights: [[Var(v=0.0159, grad=4.4960)], [Var(v=0.0394, grad=14.9437)], [Var(v=-0.1469, grad=-3.5925)], [Var(v=0.0997, grad=-3.2494)], [Var(v=-0.0078, grad=1.2196)]] Biases: [Var(v=0.0000, grad=0.4384)]\n"
     ]
    },
    {
     "data": {
      "text/plain": [
       "[None, None]"
      ]
     },
     "execution_count": 262,
     "metadata": {},
     "output_type": "execute_result"
    }
   ],
   "source": [
    "[print('Layer', i, '\\n', NN[i]) for i in range(len(NN))] "
   ]
  },
  {
   "cell_type": "markdown",
   "metadata": {
    "id": "D7d7qK0uFtH9"
   },
   "source": [
    "# Backward pass unit test\n",
    "\n",
    "Above we used finite differences to test that Nanograd is actually doing what it is supposed to do. We can in principle try the same for the neural network. But we will trust that the test above is enough."
   ]
  },
  {
   "cell_type": "markdown",
   "metadata": {
    "id": "WgBi8GOSFtIN"
   },
   "source": [
    "# Training and validation\n",
    "\n",
    "We are ready to train some neural networks!\n",
    "\n",
    "We initialize again:"
   ]
  },
  {
   "cell_type": "code",
   "execution_count": 263,
   "metadata": {
    "id": "01ePmzBzRtdh"
   },
   "outputs": [],
   "source": [
    "NN = [\n",
    "    DenseLayer(1, 15, lambda x: x.relu()),\n",
    "    DenseLayer(15, 50, lambda x: x.relu()),\n",
    "    DenseLayer(50, 1, lambda x: x.identity())\n",
    "]\n",
    "\n",
    "output = forward(x_train, NN)\n",
    "\n",
    "Loss = squared_loss(y_train,output)\n",
    "Loss.backward()"
   ]
  },
  {
   "cell_type": "markdown",
   "metadata": {
    "id": "10iRPiQ1ISHw"
   },
   "source": [
    "and make an update:\n",
    "\n",
    "We introduce a help function parameters to have a handle in all parameters in the network."
   ]
  },
  {
   "cell_type": "code",
   "execution_count": 264,
   "metadata": {
    "id": "dhAI7eyeznia"
   },
   "outputs": [
    {
     "name": "stdout",
     "output_type": "stream",
     "text": [
      "Network before update:\n",
      "Layer 0 \n",
      " Weights: [[Var(v=-0.0747, grad=-0.7028), Var(v=0.1036, grad=3.4493), Var(v=0.0823, grad=-2.1221), Var(v=0.1009, grad=2.9569), Var(v=0.0755, grad=0.4087), Var(v=0.0829, grad=1.8529), Var(v=0.0195, grad=-6.3502), Var(v=-0.1964, grad=-1.0982), Var(v=0.1532, grad=1.8514), Var(v=0.1090, grad=2.2275), Var(v=-0.0123, grad=2.7124), Var(v=0.1006, grad=-4.5064), Var(v=-0.0099, grad=-2.2188), Var(v=0.1454, grad=-5.2193), Var(v=-0.1542, grad=-1.1705)]] Biases: [Var(v=0.0000, grad=0.6388), Var(v=0.0000, grad=2.9630), Var(v=0.0000, grad=-1.8229), Var(v=0.0000, grad=2.5401), Var(v=0.0000, grad=0.3511), Var(v=0.0000, grad=1.5917), Var(v=0.0000, grad=-5.4550), Var(v=0.0000, grad=0.9983), Var(v=0.0000, grad=1.5904), Var(v=0.0000, grad=1.9134), Var(v=0.0000, grad=-2.4656), Var(v=0.0000, grad=-3.8711), Var(v=0.0000, grad=2.0170), Var(v=0.0000, grad=-4.4835), Var(v=0.0000, grad=1.0640)]\n",
      "Layer 1 \n",
      " Weights: [[Var(v=-0.1433, grad=0.0000), Var(v=-0.0539, grad=-0.4854), Var(v=-0.1167, grad=-0.1709), Var(v=0.0972, grad=0.0000), Var(v=0.1970, grad=0.0000), Var(v=-0.0510, grad=0.0000), Var(v=-0.0185, grad=0.0000), Var(v=0.0563, grad=0.0000), Var(v=0.2173, grad=-0.4914), Var(v=-0.1114, grad=-0.3101), Var(v=-0.2202, grad=0.0000), Var(v=0.1444, grad=0.3407), Var(v=-0.1420, grad=0.0000), Var(v=-0.0083, grad=0.4614), Var(v=0.1050, grad=0.0000), Var(v=0.1637, grad=-0.0067), Var(v=-0.0390, grad=-0.5205), Var(v=0.0226, grad=0.0000), Var(v=-0.0999, grad=0.0000), Var(v=0.1213, grad=-0.3580), Var(v=-0.0326, grad=0.0000), Var(v=0.0878, grad=0.0176), Var(v=-0.0182, grad=0.0000), Var(v=0.0343, grad=0.6727), Var(v=-0.0214, grad=0.0000), Var(v=0.1044, grad=0.0000), Var(v=-0.0611, grad=0.0042), Var(v=0.0221, grad=0.0178), Var(v=-0.0220, grad=-0.1063), Var(v=-0.0835, grad=0.0000), Var(v=-0.0604, grad=0.0000), Var(v=-0.1963, grad=0.0000), Var(v=-0.0312, grad=0.6809), Var(v=-0.1856, grad=0.0000), Var(v=-0.0379, grad=0.0000), Var(v=0.0777, grad=-0.1964), Var(v=0.0654, grad=0.0000), Var(v=0.0570, grad=0.0000), Var(v=-0.1154, grad=0.0000), Var(v=0.0507, grad=0.2681), Var(v=-0.2638, grad=0.0000), Var(v=-0.1034, grad=0.0000), Var(v=-0.1834, grad=0.0000), Var(v=-0.0010, grad=1.2731), Var(v=0.1245, grad=-0.1344), Var(v=0.1277, grad=0.5299), Var(v=-0.0757, grad=-0.0467), Var(v=-0.0446, grad=0.0000), Var(v=-0.1849, grad=0.0000), Var(v=-0.1002, grad=0.0000)], [Var(v=0.1556, grad=0.1107), Var(v=0.1531, grad=0.7081), Var(v=0.0873, grad=0.2493), Var(v=0.2131, grad=1.8781), Var(v=-0.0066, grad=-0.4632), Var(v=-0.1121, grad=0.6119), Var(v=-0.1173, grad=0.0000), Var(v=-0.0361, grad=0.0000), Var(v=0.0500, grad=0.7168), Var(v=-0.0540, grad=0.4524), Var(v=0.0195, grad=0.8896), Var(v=0.0980, grad=0.0000), Var(v=-0.0519, grad=-0.2003), Var(v=0.0411, grad=-0.6731), Var(v=-0.0351, grad=0.0000), Var(v=-0.1410, grad=0.0000), Var(v=-0.0422, grad=0.0000), Var(v=-0.0608, grad=0.0000), Var(v=-0.0616, grad=-0.0769), Var(v=-0.0150, grad=0.0000), Var(v=0.0156, grad=0.1219), Var(v=-0.0812, grad=-0.0257), Var(v=-0.0666, grad=0.0000), Var(v=-0.0137, grad=-0.9813), Var(v=0.0822, grad=0.0000), Var(v=0.0325, grad=0.0000), Var(v=0.1784, grad=0.0000), Var(v=-0.1618, grad=-0.0260), Var(v=0.0147, grad=0.1550), Var(v=-0.0993, grad=0.0000), Var(v=-0.2636, grad=0.0000), Var(v=-0.1095, grad=0.0000), Var(v=-0.0061, grad=-0.9933), Var(v=0.0368, grad=0.0000), Var(v=0.0891, grad=-1.6812), Var(v=0.1162, grad=0.2866), Var(v=0.0306, grad=1.9201), Var(v=0.0493, grad=-1.3312), Var(v=0.0143, grad=0.0000), Var(v=0.1166, grad=-0.3911), Var(v=-0.0145, grad=0.0000), Var(v=-0.1877, grad=0.0000), Var(v=0.0718, grad=0.0000), Var(v=-0.0967, grad=0.0000), Var(v=0.0478, grad=0.0000), Var(v=-0.1240, grad=0.0000), Var(v=0.1189, grad=0.0682), Var(v=-0.0328, grad=0.0000), Var(v=-0.1488, grad=0.6545), Var(v=0.0690, grad=1.2661)], [Var(v=0.0548, grad=0.0879), Var(v=-0.1652, grad=0.5621), Var(v=-0.0416, grad=0.1979), Var(v=0.1166, grad=1.4909), Var(v=-0.1592, grad=-0.3677), Var(v=0.1556, grad=0.4857), Var(v=-0.1086, grad=0.0000), Var(v=-0.0327, grad=0.0000), Var(v=-0.1410, grad=0.5691), Var(v=0.0043, grad=0.3591), Var(v=-0.1006, grad=0.7062), Var(v=-0.2114, grad=0.0000), Var(v=0.0143, grad=-0.1590), Var(v=-0.0144, grad=-0.5344), Var(v=0.0217, grad=0.0000), Var(v=-0.0683, grad=0.0000), Var(v=0.2307, grad=0.0000), Var(v=0.0477, grad=0.0000), Var(v=0.1478, grad=-0.0611), Var(v=0.0933, grad=0.0000), Var(v=-0.0610, grad=0.0968), Var(v=0.0212, grad=-0.0204), Var(v=0.1043, grad=0.0000), Var(v=0.1560, grad=-0.7790), Var(v=0.1081, grad=0.0000), Var(v=0.1232, grad=0.0000), Var(v=0.0108, grad=0.0000), Var(v=0.0215, grad=-0.0206), Var(v=0.1817, grad=0.1231), Var(v=-0.0464, grad=0.0000), Var(v=-0.0430, grad=0.0000), Var(v=-0.0469, grad=0.0000), Var(v=0.0735, grad=-0.7885), Var(v=-0.1165, grad=0.0000), Var(v=0.2996, grad=-1.3346), Var(v=0.0559, grad=0.2275), Var(v=0.0543, grad=1.5243), Var(v=-0.0833, grad=-1.0568), Var(v=0.0222, grad=0.0000), Var(v=-0.1344, grad=-0.3105), Var(v=-0.1254, grad=0.0000), Var(v=0.0731, grad=0.0000), Var(v=-0.0442, grad=0.0000), Var(v=-0.1774, grad=0.0000), Var(v=-0.1190, grad=0.0000), Var(v=-0.1544, grad=0.0000), Var(v=-0.0704, grad=0.0541), Var(v=-0.1000, grad=0.0000), Var(v=0.0716, grad=0.5196), Var(v=0.0719, grad=1.0051)], [Var(v=-0.0257, grad=0.1077), Var(v=0.1478, grad=0.6893), Var(v=0.0612, grad=0.2426), Var(v=-0.0127, grad=1.8280), Var(v=0.0040, grad=-0.4509), Var(v=0.0941, grad=0.5956), Var(v=-0.0033, grad=0.0000), Var(v=-0.1608, grad=0.0000), Var(v=0.0941, grad=0.6977), Var(v=0.0337, grad=0.4403), Var(v=0.1868, grad=0.8659), Var(v=-0.0641, grad=0.0000), Var(v=0.1012, grad=-0.1950), Var(v=-0.0003, grad=-0.6552), Var(v=-0.0941, grad=0.0000), Var(v=0.0846, grad=0.0000), Var(v=-0.0242, grad=0.0000), Var(v=-0.1675, grad=0.0000), Var(v=0.1003, grad=-0.0749), Var(v=-0.0037, grad=0.0000), Var(v=-0.0517, grad=0.1187), Var(v=0.0560, grad=-0.0250), Var(v=-0.1158, grad=0.0000), Var(v=0.0100, grad=-0.9552), Var(v=-0.1425, grad=0.0000), Var(v=-0.0487, grad=0.0000), Var(v=-0.1676, grad=0.0000), Var(v=-0.0186, grad=-0.0253), Var(v=0.1539, grad=0.1509), Var(v=0.0347, grad=0.0000), Var(v=0.0217, grad=0.0000), Var(v=0.1989, grad=0.0000), Var(v=0.1724, grad=-0.9668), Var(v=-0.0333, grad=0.0000), Var(v=-0.0646, grad=-1.6364), Var(v=-0.0373, grad=0.2789), Var(v=0.0623, grad=1.8690), Var(v=0.0056, grad=-1.2957), Var(v=-0.1344, grad=0.0000), Var(v=0.1622, grad=-0.3807), Var(v=0.0873, grad=0.0000), Var(v=-0.0354, grad=0.0000), Var(v=-0.2412, grad=0.0000), Var(v=0.1584, grad=0.0000), Var(v=-0.0576, grad=0.0000), Var(v=0.0365, grad=0.0000), Var(v=-0.1467, grad=0.0663), Var(v=-0.0287, grad=0.0000), Var(v=-0.0709, grad=0.6371), Var(v=0.0084, grad=1.2324)], [Var(v=-0.0067, grad=0.0807), Var(v=-0.0405, grad=0.5163), Var(v=-0.0333, grad=0.1818), Var(v=-0.0799, grad=1.3694), Var(v=-0.0971, grad=-0.3378), Var(v=-0.0648, grad=0.4462), Var(v=0.0268, grad=0.0000), Var(v=-0.1443, grad=0.0000), Var(v=0.1358, grad=0.5227), Var(v=0.0883, grad=0.3299), Var(v=0.0835, grad=0.6487), Var(v=0.1566, grad=0.0000), Var(v=0.2461, grad=-0.1461), Var(v=0.0681, grad=-0.4908), Var(v=0.0355, grad=0.0000), Var(v=0.1016, grad=0.0000), Var(v=-0.1101, grad=0.0000), Var(v=-0.1016, grad=0.0000), Var(v=0.1419, grad=-0.0561), Var(v=-0.1292, grad=0.0000), Var(v=0.0995, grad=0.0889), Var(v=0.2422, grad=-0.0187), Var(v=-0.0033, grad=0.0000), Var(v=-0.1535, grad=-0.7155), Var(v=0.1661, grad=0.0000), Var(v=-0.0901, grad=0.0000), Var(v=-0.1132, grad=0.0000), Var(v=0.0488, grad=-0.0190), Var(v=0.0316, grad=0.1130), Var(v=-0.0915, grad=0.0000), Var(v=-0.0245, grad=0.0000), Var(v=0.1131, grad=0.0000), Var(v=0.0230, grad=-0.7243), Var(v=0.0079, grad=0.0000), Var(v=0.0407, grad=-1.2258), Var(v=-0.0078, grad=0.2090), Var(v=0.0483, grad=1.4001), Var(v=-0.0290, grad=-0.9706), Var(v=-0.0218, grad=0.0000), Var(v=0.0285, grad=-0.2852), Var(v=-0.0636, grad=0.0000), Var(v=0.0320, grad=0.0000), Var(v=-0.0339, grad=0.0000), Var(v=-0.0047, grad=0.0000), Var(v=-0.0823, grad=0.0000), Var(v=0.0552, grad=0.0000), Var(v=-0.0325, grad=0.0497), Var(v=-0.0204, grad=0.0000), Var(v=0.0855, grad=0.4772), Var(v=-0.0957, grad=0.9232)], [Var(v=0.0757, grad=0.0885), Var(v=-0.0492, grad=0.5664), Var(v=-0.0434, grad=0.1994), Var(v=0.0619, grad=1.5022), Var(v=0.0027, grad=-0.3705), Var(v=0.1425, grad=0.4894), Var(v=-0.1347, grad=0.0000), Var(v=-0.1227, grad=0.0000), Var(v=-0.0193, grad=0.5734), Var(v=-0.1093, grad=0.3619), Var(v=0.0717, grad=0.7116), Var(v=-0.0593, grad=0.0000), Var(v=-0.0122, grad=-0.1602), Var(v=-0.0746, grad=-0.5384), Var(v=0.0657, grad=0.0000), Var(v=-0.0507, grad=0.0000), Var(v=0.1511, grad=0.0000), Var(v=0.0943, grad=0.0000), Var(v=0.0716, grad=-0.0615), Var(v=-0.0286, grad=0.0000), Var(v=0.1819, grad=0.0975), Var(v=-0.0487, grad=-0.0206), Var(v=-0.2241, grad=0.0000), Var(v=0.0011, grad=-0.7849), Var(v=0.0802, grad=0.0000), Var(v=0.0187, grad=0.0000), Var(v=-0.0793, grad=0.0000), Var(v=0.1737, grad=-0.0208), Var(v=-0.0612, grad=0.1240), Var(v=0.1411, grad=0.0000), Var(v=-0.0112, grad=0.0000), Var(v=0.0160, grad=0.0000), Var(v=-0.0542, grad=-0.7945), Var(v=0.0070, grad=0.0000), Var(v=-0.0087, grad=-1.3447), Var(v=0.0586, grad=0.2292), Var(v=-0.0266, grad=1.5358), Var(v=0.0315, grad=-1.0647), Var(v=0.0013, grad=0.0000), Var(v=-0.0196, grad=-0.3129), Var(v=0.0608, grad=0.0000), Var(v=-0.0096, grad=0.0000), Var(v=0.1706, grad=0.0000), Var(v=-0.0549, grad=0.0000), Var(v=-0.0055, grad=0.0000), Var(v=-0.1748, grad=0.0000), Var(v=-0.0064, grad=0.0545), Var(v=0.0824, grad=0.0000), Var(v=0.0083, grad=0.5235), Var(v=-0.0269, grad=1.0127)], [Var(v=-0.0867, grad=0.0208), Var(v=-0.0679, grad=0.1331), Var(v=0.0338, grad=0.0468), Var(v=0.0787, grad=0.3529), Var(v=0.0154, grad=-0.0871), Var(v=-0.0607, grad=0.1150), Var(v=-0.0249, grad=0.0000), Var(v=-0.1016, grad=0.0000), Var(v=-0.0711, grad=0.1347), Var(v=-0.0605, grad=0.0850), Var(v=0.0717, grad=0.1672), Var(v=-0.1539, grad=0.0000), Var(v=0.0023, grad=-0.0376), Var(v=0.1138, grad=-0.1265), Var(v=-0.1475, grad=0.0000), Var(v=0.0352, grad=0.0000), Var(v=0.0568, grad=0.0000), Var(v=-0.1331, grad=0.0000), Var(v=0.0856, grad=-0.0145), Var(v=-0.0161, grad=0.0000), Var(v=-0.0226, grad=0.0229), Var(v=0.0730, grad=-0.0048), Var(v=0.1073, grad=0.0000), Var(v=0.0033, grad=-0.1844), Var(v=0.0392, grad=0.0000), Var(v=0.0031, grad=0.0000), Var(v=0.0825, grad=0.0000), Var(v=0.0137, grad=-0.0049), Var(v=0.1077, grad=0.0291), Var(v=0.0297, grad=0.0000), Var(v=0.0048, grad=0.0000), Var(v=-0.0296, grad=0.0000), Var(v=-0.0409, grad=-0.1867), Var(v=-0.0821, grad=0.0000), Var(v=0.1321, grad=-0.3159), Var(v=-0.1467, grad=0.0539), Var(v=-0.0511, grad=0.3608), Var(v=0.1637, grad=-0.2502), Var(v=-0.0103, grad=0.0000), Var(v=-0.0158, grad=-0.0735), Var(v=-0.1198, grad=0.0000), Var(v=0.0675, grad=0.0000), Var(v=0.1476, grad=0.0000), Var(v=0.0973, grad=0.0000), Var(v=-0.0518, grad=0.0000), Var(v=0.0442, grad=0.0000), Var(v=0.1245, grad=0.0128), Var(v=-0.0554, grad=0.0000), Var(v=0.0186, grad=0.1230), Var(v=-0.0869, grad=0.2379)], [Var(v=0.0497, grad=0.0000), Var(v=0.0872, grad=-1.2765), Var(v=0.1410, grad=-0.4493), Var(v=-0.2601, grad=0.0000), Var(v=-0.1373, grad=0.0000), Var(v=-0.0904, grad=0.0000), Var(v=-0.0023, grad=0.0000), Var(v=-0.1059, grad=0.0000), Var(v=0.0305, grad=-1.2922), Var(v=0.0902, grad=-0.8155), Var(v=-0.1059, grad=0.0000), Var(v=0.0678, grad=0.8960), Var(v=-0.0539, grad=0.0000), Var(v=0.0572, grad=1.2134), Var(v=-0.0952, grad=0.0000), Var(v=0.1852, grad=-0.0177), Var(v=0.1963, grad=-1.3687), Var(v=-0.0832, grad=0.0000), Var(v=-0.1009, grad=0.0000), Var(v=-0.0426, grad=-0.9414), Var(v=-0.0929, grad=0.0000), Var(v=0.0601, grad=0.0463), Var(v=-0.1152, grad=0.0000), Var(v=0.0658, grad=1.7689), Var(v=-0.2010, grad=0.0000), Var(v=-0.1083, grad=0.0000), Var(v=0.0930, grad=0.0110), Var(v=0.0437, grad=0.0469), Var(v=0.0269, grad=-0.2794), Var(v=-0.0576, grad=0.0000), Var(v=0.0239, grad=0.0000), Var(v=-0.1008, grad=0.0000), Var(v=0.0919, grad=1.7905), Var(v=-0.0085, grad=0.0000), Var(v=-0.0511, grad=0.0000), Var(v=0.1148, grad=-0.5166), Var(v=-0.1239, grad=0.0000), Var(v=-0.1585, grad=0.0000), Var(v=-0.0754, grad=0.0000), Var(v=-0.0447, grad=0.7051), Var(v=-0.1592, grad=0.0000), Var(v=-0.0774, grad=0.0000), Var(v=0.0144, grad=0.0000), Var(v=0.1064, grad=3.3478), Var(v=0.0066, grad=-0.3533), Var(v=0.0512, grad=1.3934), Var(v=0.0703, grad=-0.1229), Var(v=0.0354, grad=0.0000), Var(v=0.0301, grad=0.0000), Var(v=-0.1495, grad=0.0000)], [Var(v=0.0523, grad=0.1637), Var(v=0.0608, grad=1.0472), Var(v=-0.0684, grad=0.3687), Var(v=0.0612, grad=2.7774), Var(v=0.1220, grad=-0.6851), Var(v=0.1565, grad=0.9049), Var(v=0.0130, grad=0.0000), Var(v=-0.1453, grad=0.0000), Var(v=0.0645, grad=1.0601), Var(v=0.1288, grad=0.6690), Var(v=0.0383, grad=1.3157), Var(v=-0.0835, grad=0.0000), Var(v=-0.0819, grad=-0.2962), Var(v=-0.0074, grad=-0.9955), Var(v=-0.1858, grad=0.0000), Var(v=0.0142, grad=0.0000), Var(v=-0.0918, grad=0.0000), Var(v=-0.0374, grad=0.0000), Var(v=-0.0365, grad=-0.1137), Var(v=-0.0802, grad=0.0000), Var(v=0.0935, grad=0.1803), Var(v=-0.0260, grad=-0.0380), Var(v=-0.1245, grad=0.0000), Var(v=0.0617, grad=-1.4513), Var(v=-0.0701, grad=0.0000), Var(v=-0.0110, grad=0.0000), Var(v=0.0312, grad=0.0000), Var(v=0.1499, grad=-0.0385), Var(v=0.1979, grad=0.2292), Var(v=0.1526, grad=0.0000), Var(v=0.0561, grad=0.0000), Var(v=0.0345, grad=0.0000), Var(v=0.1263, grad=-1.4690), Var(v=-0.0775, grad=0.0000), Var(v=0.1285, grad=-2.4863), Var(v=0.0893, grad=0.4238), Var(v=0.0092, grad=2.8396), Var(v=-0.0376, grad=-1.9687), Var(v=-0.0392, grad=0.0000), Var(v=0.0162, grad=-0.5785), Var(v=0.0464, grad=0.0000), Var(v=0.0540, grad=0.0000), Var(v=-0.2020, grad=0.0000), Var(v=0.0818, grad=0.0000), Var(v=-0.1642, grad=0.0000), Var(v=-0.0884, grad=0.0000), Var(v=-0.0201, grad=0.1008), Var(v=-0.1518, grad=0.0000), Var(v=0.0847, grad=0.9680), Var(v=0.0516, grad=1.8725)], [Var(v=-0.0627, grad=0.1164), Var(v=-0.0772, grad=0.7447), Var(v=0.2243, grad=0.2622), Var(v=-0.0482, grad=1.9751), Var(v=-0.0102, grad=-0.4872), Var(v=0.0301, grad=0.6435), Var(v=0.1355, grad=0.0000), Var(v=0.0759, grad=0.0000), Var(v=0.0753, grad=0.7539), Var(v=-0.0067, grad=0.4758), Var(v=0.0051, grad=0.9356), Var(v=-0.1434, grad=0.0000), Var(v=-0.0388, grad=-0.2107), Var(v=0.2318, grad=-0.7079), Var(v=0.0969, grad=0.0000), Var(v=-0.0511, grad=0.0000), Var(v=-0.0806, grad=0.0000), Var(v=0.0599, grad=0.0000), Var(v=-0.0306, grad=-0.0809), Var(v=0.2024, grad=0.0000), Var(v=0.0567, grad=0.1282), Var(v=0.1904, grad=-0.0270), Var(v=-0.0614, grad=0.0000), Var(v=-0.0425, grad=-1.0320), Var(v=0.1203, grad=0.0000), Var(v=-0.1174, grad=0.0000), Var(v=-0.1590, grad=0.0000), Var(v=0.1249, grad=-0.0274), Var(v=-0.0363, grad=0.1630), Var(v=-0.1101, grad=0.0000), Var(v=0.0230, grad=0.0000), Var(v=-0.0875, grad=0.0000), Var(v=0.1101, grad=-1.0446), Var(v=-0.0815, grad=0.0000), Var(v=-0.0778, grad=-1.7680), Var(v=0.1479, grad=0.3014), Var(v=0.1021, grad=2.0193), Var(v=-0.0351, grad=-1.3999), Var(v=-0.0017, grad=0.0000), Var(v=-0.0039, grad=-0.4113), Var(v=-0.0123, grad=0.0000), Var(v=0.0246, grad=0.0000), Var(v=0.0784, grad=0.0000), Var(v=0.0998, grad=0.0000), Var(v=-0.0030, grad=0.0000), Var(v=0.0307, grad=0.0000), Var(v=0.0666, grad=0.0717), Var(v=0.0096, grad=0.0000), Var(v=-0.0312, grad=0.6883), Var(v=0.0532, grad=1.3315)], [Var(v=-0.1040, grad=0.0000), Var(v=0.1488, grad=-0.0801), Var(v=0.1100, grad=-0.0282), Var(v=0.0746, grad=0.0000), Var(v=0.0416, grad=0.0000), Var(v=-0.0435, grad=0.0000), Var(v=-0.1686, grad=0.0000), Var(v=-0.0801, grad=0.0000), Var(v=0.0520, grad=-0.0811), Var(v=0.0325, grad=-0.0512), Var(v=-0.2518, grad=0.0000), Var(v=-0.0194, grad=0.0562), Var(v=-0.1045, grad=0.0000), Var(v=0.2070, grad=0.0761), Var(v=0.0249, grad=0.0000), Var(v=-0.1450, grad=-0.0011), Var(v=0.0835, grad=-0.0859), Var(v=0.2314, grad=0.0000), Var(v=-0.0970, grad=0.0000), Var(v=-0.1420, grad=-0.0591), Var(v=0.0885, grad=0.0000), Var(v=0.0222, grad=0.0029), Var(v=0.0281, grad=0.0000), Var(v=0.0875, grad=0.1110), Var(v=-0.0791, grad=0.0000), Var(v=0.2628, grad=0.0000), Var(v=0.0704, grad=0.0007), Var(v=-0.0202, grad=0.0029), Var(v=-0.1208, grad=-0.0175), Var(v=-0.0274, grad=0.0000), Var(v=0.1370, grad=0.0000), Var(v=0.1625, grad=0.0000), Var(v=0.0849, grad=0.1123), Var(v=-0.0278, grad=0.0000), Var(v=0.1544, grad=0.0000), Var(v=-0.0667, grad=-0.0324), Var(v=-0.2355, grad=0.0000), Var(v=-0.0590, grad=0.0000), Var(v=-0.0566, grad=0.0000), Var(v=0.0589, grad=0.0442), Var(v=0.0721, grad=0.0000), Var(v=0.0671, grad=0.0000), Var(v=-0.0446, grad=0.0000), Var(v=-0.2012, grad=0.2100), Var(v=0.1114, grad=-0.0222), Var(v=-0.1143, grad=0.0874), Var(v=0.0052, grad=-0.0077), Var(v=0.1030, grad=0.0000), Var(v=-0.0772, grad=0.0000), Var(v=-0.0385, grad=0.0000)], [Var(v=0.1322, grad=0.1075), Var(v=0.0480, grad=0.6875), Var(v=-0.0270, grad=0.2420), Var(v=0.0028, grad=1.8235), Var(v=0.0280, grad=-0.4498), Var(v=-0.0517, grad=0.5941), Var(v=0.0143, grad=0.0000), Var(v=0.1086, grad=0.0000), Var(v=-0.0875, grad=0.6960), Var(v=-0.0205, grad=0.4392), Var(v=-0.0447, grad=0.8638), Var(v=-0.0200, grad=0.0000), Var(v=-0.0719, grad=-0.1945), Var(v=0.0657, grad=-0.6535), Var(v=-0.1015, grad=0.0000), Var(v=-0.0773, grad=0.0000), Var(v=-0.0362, grad=0.0000), Var(v=0.0752, grad=0.0000), Var(v=0.1763, grad=-0.0747), Var(v=-0.0402, grad=0.0000), Var(v=-0.1332, grad=0.1184), Var(v=0.0117, grad=-0.0249), Var(v=-0.0607, grad=0.0000), Var(v=0.0420, grad=-0.9528), Var(v=-0.1299, grad=0.0000), Var(v=-0.1734, grad=0.0000), Var(v=-0.0496, grad=0.0000), Var(v=0.0330, grad=-0.0253), Var(v=0.1552, grad=0.1505), Var(v=-0.0356, grad=0.0000), Var(v=0.0722, grad=0.0000), Var(v=-0.0132, grad=0.0000), Var(v=-0.0571, grad=-0.9644), Var(v=0.1336, grad=0.0000), Var(v=0.0732, grad=-1.6323), Var(v=0.1408, grad=0.2782), Var(v=-0.1310, grad=1.8643), Var(v=-0.0276, grad=-1.2925), Var(v=0.1960, grad=0.0000), Var(v=-0.0404, grad=-0.3798), Var(v=-0.0442, grad=0.0000), Var(v=-0.2301, grad=0.0000), Var(v=-0.0120, grad=0.0000), Var(v=-0.0609, grad=0.0000), Var(v=-0.0388, grad=0.0000), Var(v=-0.0448, grad=0.0000), Var(v=0.0394, grad=0.0662), Var(v=-0.0312, grad=0.0000), Var(v=0.0803, grad=0.6355), Var(v=-0.0869, grad=1.2293)], [Var(v=0.1086, grad=0.0000), Var(v=-0.0949, grad=-0.0642), Var(v=0.0451, grad=-0.0226), Var(v=-0.1056, grad=0.0000), Var(v=0.0085, grad=0.0000), Var(v=0.0509, grad=0.0000), Var(v=0.0853, grad=0.0000), Var(v=-0.0253, grad=0.0000), Var(v=-0.1073, grad=-0.0650), Var(v=-0.1145, grad=-0.0410), Var(v=-0.1572, grad=0.0000), Var(v=-0.0234, grad=0.0450), Var(v=-0.0021, grad=0.0000), Var(v=-0.0419, grad=0.0610), Var(v=0.0149, grad=0.0000), Var(v=0.1210, grad=-0.0009), Var(v=0.0382, grad=-0.0688), Var(v=-0.0004, grad=0.0000), Var(v=-0.0352, grad=0.0000), Var(v=-0.1651, grad=-0.0473), Var(v=0.0904, grad=0.0000), Var(v=-0.0104, grad=0.0023), Var(v=0.0736, grad=0.0000), Var(v=0.0515, grad=0.0889), Var(v=-0.2314, grad=0.0000), Var(v=0.0157, grad=0.0000), Var(v=0.0725, grad=0.0006), Var(v=0.0647, grad=0.0024), Var(v=-0.1391, grad=-0.0140), Var(v=-0.0091, grad=0.0000), Var(v=0.0732, grad=0.0000), Var(v=0.0320, grad=0.0000), Var(v=-0.0738, grad=0.0900), Var(v=0.1116, grad=0.0000), Var(v=0.0233, grad=0.0000), Var(v=0.1397, grad=-0.0260), Var(v=0.0207, grad=0.0000), Var(v=0.0722, grad=0.0000), Var(v=-0.1284, grad=0.0000), Var(v=0.0901, grad=0.0354), Var(v=0.1089, grad=0.0000), Var(v=0.0574, grad=0.0000), Var(v=0.0888, grad=0.0000), Var(v=0.0227, grad=0.1683), Var(v=0.1733, grad=-0.0178), Var(v=0.0458, grad=0.0701), Var(v=-0.0223, grad=-0.0062), Var(v=-0.1302, grad=0.0000), Var(v=-0.0228, grad=0.0000), Var(v=0.1471, grad=0.0000)], [Var(v=0.0721, grad=0.1554), Var(v=0.1196, grad=0.9940), Var(v=-0.0936, grad=0.3499), Var(v=0.0596, grad=2.6363), Var(v=0.1377, grad=-0.6503), Var(v=-0.1188, grad=0.8589), Var(v=-0.0195, grad=0.0000), Var(v=0.1100, grad=0.0000), Var(v=-0.0720, grad=1.0063), Var(v=-0.0477, grad=0.6351), Var(v=0.0544, grad=1.2488), Var(v=-0.0365, grad=0.0000), Var(v=0.0357, grad=-0.2812), Var(v=-0.0499, grad=-0.9449), Var(v=-0.0071, grad=0.0000), Var(v=-0.1898, grad=0.0000), Var(v=0.0580, grad=0.0000), Var(v=-0.0196, grad=0.0000), Var(v=-0.0197, grad=-0.1080), Var(v=-0.1114, grad=0.0000), Var(v=-0.0674, grad=0.1712), Var(v=0.1160, grad=-0.0361), Var(v=-0.0557, grad=0.0000), Var(v=0.1095, grad=-1.3775), Var(v=-0.1659, grad=0.0000), Var(v=-0.1711, grad=0.0000), Var(v=-0.1057, grad=0.0000), Var(v=0.1528, grad=-0.0365), Var(v=-0.0977, grad=0.2176), Var(v=-0.0650, grad=0.0000), Var(v=-0.0295, grad=0.0000), Var(v=-0.1437, grad=0.0000), Var(v=0.1726, grad=-1.3943), Var(v=-0.1178, grad=0.0000), Var(v=0.0860, grad=-2.3599), Var(v=0.0283, grad=0.4023), Var(v=-0.0024, grad=2.6953), Var(v=0.1436, grad=-1.8687), Var(v=-0.0620, grad=0.0000), Var(v=0.0636, grad=-0.5491), Var(v=-0.0922, grad=0.0000), Var(v=0.1577, grad=0.0000), Var(v=0.0321, grad=0.0000), Var(v=-0.0898, grad=0.0000), Var(v=0.1097, grad=0.0000), Var(v=-0.0697, grad=0.0000), Var(v=0.2068, grad=0.0957), Var(v=0.1297, grad=0.0000), Var(v=-0.0370, grad=0.9188), Var(v=0.0694, grad=1.7773)], [Var(v=-0.0312, grad=0.0000), Var(v=-0.0629, grad=-1.0024), Var(v=-0.0394, grad=-0.3529), Var(v=0.0180, grad=0.0000), Var(v=0.0344, grad=0.0000), Var(v=0.1149, grad=0.0000), Var(v=-0.0815, grad=0.0000), Var(v=-0.0062, grad=0.0000), Var(v=-0.0675, grad=-1.0148), Var(v=-0.0454, grad=-0.6404), Var(v=-0.1451, grad=0.0000), Var(v=0.1290, grad=0.7037), Var(v=-0.0484, grad=0.0000), Var(v=0.0264, grad=0.9529), Var(v=-0.1119, grad=0.0000), Var(v=0.1005, grad=-0.0139), Var(v=-0.0174, grad=-1.0749), Var(v=-0.0424, grad=0.0000), Var(v=-0.0097, grad=0.0000), Var(v=0.0645, grad=-0.7393), Var(v=-0.0496, grad=0.0000), Var(v=0.0157, grad=0.0364), Var(v=-0.0052, grad=0.0000), Var(v=-0.0351, grad=1.3892), Var(v=-0.0425, grad=0.0000), Var(v=-0.0073, grad=0.0000), Var(v=0.0304, grad=0.0086), Var(v=0.0659, grad=0.0368), Var(v=0.0236, grad=-0.2194), Var(v=0.0609, grad=0.0000), Var(v=-0.2035, grad=0.0000), Var(v=0.0757, grad=0.0000), Var(v=-0.0624, grad=1.4061), Var(v=0.0542, grad=0.0000), Var(v=0.0658, grad=0.0000), Var(v=-0.0185, grad=-0.4057), Var(v=-0.1273, grad=0.0000), Var(v=0.1351, grad=0.0000), Var(v=-0.0757, grad=0.0000), Var(v=0.0811, grad=0.5537), Var(v=0.0386, grad=0.0000), Var(v=0.0433, grad=0.0000), Var(v=0.0419, grad=0.0000), Var(v=-0.0207, grad=2.6291), Var(v=-0.0482, grad=-0.2775), Var(v=0.0472, grad=1.0942), Var(v=0.0429, grad=-0.0965), Var(v=-0.0868, grad=0.0000), Var(v=-0.0440, grad=0.0000), Var(v=-0.0281, grad=0.0000)]] Biases: [Var(v=0.0000, grad=0.9175), Var(v=0.0000, grad=-0.0372), Var(v=0.0000, grad=-0.0131), Var(v=0.0000, grad=15.5706), Var(v=0.0000, grad=-3.8405), Var(v=0.0000, grad=5.0730), Var(v=0.0000, grad=0.0000), Var(v=0.0000, grad=0.0000), Var(v=0.0000, grad=-0.0376), Var(v=0.0000, grad=-0.0237), Var(v=0.0000, grad=7.3757), Var(v=0.0000, grad=4.1471), Var(v=0.0000, grad=-1.6608), Var(v=0.0000, grad=0.0353), Var(v=0.0000, grad=0.0000), Var(v=0.0000, grad=-0.0817), Var(v=0.0000, grad=-6.3351), Var(v=0.0000, grad=0.0000), Var(v=0.0000, grad=-0.6376), Var(v=0.0000, grad=-4.3571), Var(v=0.0000, grad=1.0110), Var(v=0.0000, grad=0.0013), Var(v=0.0000, grad=0.0000), Var(v=0.0000, grad=0.0515), Var(v=0.0000, grad=0.0000), Var(v=0.0000, grad=0.0000), Var(v=0.0000, grad=0.0509), Var(v=0.0000, grad=0.0014), Var(v=0.0000, grad=-0.0081), Var(v=0.0000, grad=0.0000), Var(v=0.0000, grad=0.0000), Var(v=0.0000, grad=0.0000), Var(v=0.0000, grad=0.0521), Var(v=0.0000, grad=0.0000), Var(v=0.0000, grad=-13.9381), Var(v=0.0000, grad=-0.0150), Var(v=0.0000, grad=15.9191), Var(v=0.0000, grad=-11.0365), Var(v=0.0000, grad=0.0000), Var(v=0.0000, grad=0.0205), Var(v=0.0000, grad=0.0000), Var(v=0.0000, grad=0.0000), Var(v=0.0000, grad=0.0000), Var(v=0.0000, grad=15.4949), Var(v=0.0000, grad=-1.6352), Var(v=0.0000, grad=6.4491), Var(v=0.0000, grad=-0.0036), Var(v=0.0000, grad=0.0000), Var(v=0.0000, grad=5.4264), Var(v=0.0000, grad=10.4972)]\n",
      "Layer 2 \n",
      " Weights: [[Var(v=-0.0105, grad=-4.7768)], [Var(v=-0.0674, grad=-2.8146)], [Var(v=-0.0237, grad=1.0167)], [Var(v=-0.1787, grad=-4.4711)], [Var(v=0.0441, grad=-2.0529)], [Var(v=-0.0582, grad=-2.1487)], [Var(v=-0.0388, grad=0.0000)], [Var(v=-0.0275, grad=0.0000)], [Var(v=-0.0682, grad=0.1697)], [Var(v=-0.0430, grad=-0.3048)], [Var(v=-0.0846, grad=-3.6577)], [Var(v=0.0473, grad=4.1979)], [Var(v=0.0191, grad=-0.4889)], [Var(v=0.0640, grad=-1.1859)], [Var(v=0.0950, grad=0.0000)], [Var(v=-0.0009, grad=6.1272)], [Var(v=-0.0722, grad=3.3140)], [Var(v=-0.1555, grad=0.0000)], [Var(v=0.0073, grad=-4.0722)], [Var(v=-0.0497, grad=0.7000)], [Var(v=-0.0116, grad=-1.0993)], [Var(v=0.0024, grad=-2.9948)], [Var(v=-0.1761, grad=0.0000)], [Var(v=0.0934, grad=-1.5074)], [Var(v=-0.0060, grad=0.0000)], [Var(v=-0.0697, grad=0.0000)], [Var(v=0.0006, grad=1.9267)], [Var(v=0.0025, grad=-4.4470)], [Var(v=-0.0147, grad=-5.5758)], [Var(v=-0.0384, grad=0.0000)], [Var(v=-0.0104, grad=0.0000)], [Var(v=0.0343, grad=0.0000)], [Var(v=0.0945, grad=-6.4780)], [Var(v=0.1480, grad=0.0000)], [Var(v=0.1600, grad=-6.4271)], [Var(v=-0.0273, grad=-3.8127)], [Var(v=-0.1827, grad=-1.3556)], [Var(v=0.1267, grad=-1.1122)], [Var(v=-0.0433, grad=0.0000)], [Var(v=0.0372, grad=-1.6399)], [Var(v=-0.0957, grad=0.0000)], [Var(v=-0.0602, grad=0.0000)], [Var(v=0.2151, grad=0.0000)], [Var(v=0.1767, grad=1.4833)], [Var(v=-0.0186, grad=0.6011)], [Var(v=0.0735, grad=2.5008)], [Var(v=-0.0065, grad=-1.5706)], [Var(v=-0.0160, grad=0.0000)], [Var(v=-0.0623, grad=-0.3172)], [Var(v=-0.1205, grad=-1.8068)]] Biases: [Var(v=0.0000, grad=0.5514)]\n",
      "\n",
      "Network after update:\n",
      "Layer 0 \n",
      " Weights: [[Var(v=-0.0677, grad=-0.7028), Var(v=0.0691, grad=3.4493), Var(v=0.1035, grad=-2.1221), Var(v=0.0713, grad=2.9569), Var(v=0.0715, grad=0.4087), Var(v=0.0643, grad=1.8529), Var(v=0.0830, grad=-6.3502), Var(v=-0.1854, grad=-1.0982), Var(v=0.1347, grad=1.8514), Var(v=0.0867, grad=2.2275), Var(v=-0.0394, grad=2.7124), Var(v=0.1457, grad=-4.5064), Var(v=0.0123, grad=-2.2188), Var(v=0.1976, grad=-5.2193), Var(v=-0.1425, grad=-1.1705)]] Biases: [Var(v=-0.0064, grad=0.6388), Var(v=-0.0296, grad=2.9630), Var(v=0.0182, grad=-1.8229), Var(v=-0.0254, grad=2.5401), Var(v=-0.0035, grad=0.3511), Var(v=-0.0159, grad=1.5917), Var(v=0.0545, grad=-5.4550), Var(v=-0.0100, grad=0.9983), Var(v=-0.0159, grad=1.5904), Var(v=-0.0191, grad=1.9134), Var(v=0.0247, grad=-2.4656), Var(v=0.0387, grad=-3.8711), Var(v=-0.0202, grad=2.0170), Var(v=0.0448, grad=-4.4835), Var(v=-0.0106, grad=1.0640)]\n",
      "Layer 1 \n",
      " Weights: [[Var(v=-0.1433, grad=0.0000), Var(v=-0.0490, grad=-0.4854), Var(v=-0.1150, grad=-0.1709), Var(v=0.0972, grad=0.0000), Var(v=0.1970, grad=0.0000), Var(v=-0.0510, grad=0.0000), Var(v=-0.0185, grad=0.0000), Var(v=0.0563, grad=0.0000), Var(v=0.2223, grad=-0.4914), Var(v=-0.1083, grad=-0.3101), Var(v=-0.2202, grad=0.0000), Var(v=0.1410, grad=0.3407), Var(v=-0.1420, grad=0.0000), Var(v=-0.0129, grad=0.4614), Var(v=0.1050, grad=0.0000), Var(v=0.1638, grad=-0.0067), Var(v=-0.0338, grad=-0.5205), Var(v=0.0226, grad=0.0000), Var(v=-0.0999, grad=0.0000), Var(v=0.1249, grad=-0.3580), Var(v=-0.0326, grad=0.0000), Var(v=0.0877, grad=0.0176), Var(v=-0.0182, grad=0.0000), Var(v=0.0276, grad=0.6727), Var(v=-0.0214, grad=0.0000), Var(v=0.1044, grad=0.0000), Var(v=-0.0611, grad=0.0042), Var(v=0.0219, grad=0.0178), Var(v=-0.0210, grad=-0.1063), Var(v=-0.0835, grad=0.0000), Var(v=-0.0604, grad=0.0000), Var(v=-0.1963, grad=0.0000), Var(v=-0.0380, grad=0.6809), Var(v=-0.1856, grad=0.0000), Var(v=-0.0379, grad=0.0000), Var(v=0.0797, grad=-0.1964), Var(v=0.0654, grad=0.0000), Var(v=0.0570, grad=0.0000), Var(v=-0.1154, grad=0.0000), Var(v=0.0480, grad=0.2681), Var(v=-0.2638, grad=0.0000), Var(v=-0.1034, grad=0.0000), Var(v=-0.1834, grad=0.0000), Var(v=-0.0137, grad=1.2731), Var(v=0.1258, grad=-0.1344), Var(v=0.1224, grad=0.5299), Var(v=-0.0753, grad=-0.0467), Var(v=-0.0446, grad=0.0000), Var(v=-0.1849, grad=0.0000), Var(v=-0.1002, grad=0.0000)], [Var(v=0.1545, grad=0.1107), Var(v=0.1460, grad=0.7081), Var(v=0.0848, grad=0.2493), Var(v=0.1943, grad=1.8781), Var(v=-0.0020, grad=-0.4632), Var(v=-0.1182, grad=0.6119), Var(v=-0.1173, grad=0.0000), Var(v=-0.0361, grad=0.0000), Var(v=0.0429, grad=0.7168), Var(v=-0.0585, grad=0.4524), Var(v=0.0106, grad=0.8896), Var(v=0.0980, grad=0.0000), Var(v=-0.0499, grad=-0.2003), Var(v=0.0479, grad=-0.6731), Var(v=-0.0351, grad=0.0000), Var(v=-0.1410, grad=0.0000), Var(v=-0.0422, grad=0.0000), Var(v=-0.0608, grad=0.0000), Var(v=-0.0609, grad=-0.0769), Var(v=-0.0150, grad=0.0000), Var(v=0.0144, grad=0.1219), Var(v=-0.0809, grad=-0.0257), Var(v=-0.0666, grad=0.0000), Var(v=-0.0039, grad=-0.9813), Var(v=0.0822, grad=0.0000), Var(v=0.0325, grad=0.0000), Var(v=0.1784, grad=0.0000), Var(v=-0.1616, grad=-0.0260), Var(v=0.0131, grad=0.1550), Var(v=-0.0993, grad=0.0000), Var(v=-0.2636, grad=0.0000), Var(v=-0.1095, grad=0.0000), Var(v=0.0038, grad=-0.9933), Var(v=0.0368, grad=0.0000), Var(v=0.1059, grad=-1.6812), Var(v=0.1133, grad=0.2866), Var(v=0.0114, grad=1.9201), Var(v=0.0627, grad=-1.3312), Var(v=0.0143, grad=0.0000), Var(v=0.1205, grad=-0.3911), Var(v=-0.0145, grad=0.0000), Var(v=-0.1877, grad=0.0000), Var(v=0.0718, grad=0.0000), Var(v=-0.0967, grad=0.0000), Var(v=0.0478, grad=0.0000), Var(v=-0.1240, grad=0.0000), Var(v=0.1182, grad=0.0682), Var(v=-0.0328, grad=0.0000), Var(v=-0.1553, grad=0.6545), Var(v=0.0564, grad=1.2661)], [Var(v=0.0539, grad=0.0879), Var(v=-0.1709, grad=0.5621), Var(v=-0.0436, grad=0.1979), Var(v=0.1017, grad=1.4909), Var(v=-0.1555, grad=-0.3677), Var(v=0.1507, grad=0.4857), Var(v=-0.1086, grad=0.0000), Var(v=-0.0327, grad=0.0000), Var(v=-0.1467, grad=0.5691), Var(v=0.0007, grad=0.3591), Var(v=-0.1077, grad=0.7062), Var(v=-0.2114, grad=0.0000), Var(v=0.0159, grad=-0.1590), Var(v=-0.0091, grad=-0.5344), Var(v=0.0217, grad=0.0000), Var(v=-0.0683, grad=0.0000), Var(v=0.2307, grad=0.0000), Var(v=0.0477, grad=0.0000), Var(v=0.1484, grad=-0.0611), Var(v=0.0933, grad=0.0000), Var(v=-0.0620, grad=0.0968), Var(v=0.0214, grad=-0.0204), Var(v=0.1043, grad=0.0000), Var(v=0.1638, grad=-0.7790), Var(v=0.1081, grad=0.0000), Var(v=0.1232, grad=0.0000), Var(v=0.0108, grad=0.0000), Var(v=0.0217, grad=-0.0206), Var(v=0.1805, grad=0.1231), Var(v=-0.0464, grad=0.0000), Var(v=-0.0430, grad=0.0000), Var(v=-0.0469, grad=0.0000), Var(v=0.0814, grad=-0.7885), Var(v=-0.1165, grad=0.0000), Var(v=0.3129, grad=-1.3346), Var(v=0.0536, grad=0.2275), Var(v=0.0391, grad=1.5243), Var(v=-0.0727, grad=-1.0568), Var(v=0.0222, grad=0.0000), Var(v=-0.1313, grad=-0.3105), Var(v=-0.1254, grad=0.0000), Var(v=0.0731, grad=0.0000), Var(v=-0.0442, grad=0.0000), Var(v=-0.1774, grad=0.0000), Var(v=-0.1190, grad=0.0000), Var(v=-0.1544, grad=0.0000), Var(v=-0.0709, grad=0.0541), Var(v=-0.1000, grad=0.0000), Var(v=0.0664, grad=0.5196), Var(v=0.0619, grad=1.0051)], [Var(v=-0.0268, grad=0.1077), Var(v=0.1409, grad=0.6893), Var(v=0.0587, grad=0.2426), Var(v=-0.0310, grad=1.8280), Var(v=0.0085, grad=-0.4509), Var(v=0.0882, grad=0.5956), Var(v=-0.0033, grad=0.0000), Var(v=-0.1608, grad=0.0000), Var(v=0.0871, grad=0.6977), Var(v=0.0293, grad=0.4403), Var(v=0.1782, grad=0.8659), Var(v=-0.0641, grad=0.0000), Var(v=0.1031, grad=-0.1950), Var(v=0.0062, grad=-0.6552), Var(v=-0.0941, grad=0.0000), Var(v=0.0846, grad=0.0000), Var(v=-0.0242, grad=0.0000), Var(v=-0.1675, grad=0.0000), Var(v=0.1011, grad=-0.0749), Var(v=-0.0037, grad=0.0000), Var(v=-0.0529, grad=0.1187), Var(v=0.0562, grad=-0.0250), Var(v=-0.1158, grad=0.0000), Var(v=0.0195, grad=-0.9552), Var(v=-0.1425, grad=0.0000), Var(v=-0.0487, grad=0.0000), Var(v=-0.1676, grad=0.0000), Var(v=-0.0183, grad=-0.0253), Var(v=0.1524, grad=0.1509), Var(v=0.0347, grad=0.0000), Var(v=0.0217, grad=0.0000), Var(v=0.1989, grad=0.0000), Var(v=0.1821, grad=-0.9668), Var(v=-0.0333, grad=0.0000), Var(v=-0.0482, grad=-1.6364), Var(v=-0.0401, grad=0.2789), Var(v=0.0436, grad=1.8690), Var(v=0.0186, grad=-1.2957), Var(v=-0.1344, grad=0.0000), Var(v=0.1660, grad=-0.3807), Var(v=0.0873, grad=0.0000), Var(v=-0.0354, grad=0.0000), Var(v=-0.2412, grad=0.0000), Var(v=0.1584, grad=0.0000), Var(v=-0.0576, grad=0.0000), Var(v=0.0365, grad=0.0000), Var(v=-0.1473, grad=0.0663), Var(v=-0.0287, grad=0.0000), Var(v=-0.0772, grad=0.6371), Var(v=-0.0040, grad=1.2324)], [Var(v=-0.0075, grad=0.0807), Var(v=-0.0457, grad=0.5163), Var(v=-0.0351, grad=0.1818), Var(v=-0.0936, grad=1.3694), Var(v=-0.0937, grad=-0.3378), Var(v=-0.0692, grad=0.4462), Var(v=0.0268, grad=0.0000), Var(v=-0.1443, grad=0.0000), Var(v=0.1305, grad=0.5227), Var(v=0.0850, grad=0.3299), Var(v=0.0771, grad=0.6487), Var(v=0.1566, grad=0.0000), Var(v=0.2475, grad=-0.1461), Var(v=0.0730, grad=-0.4908), Var(v=0.0355, grad=0.0000), Var(v=0.1016, grad=0.0000), Var(v=-0.1101, grad=0.0000), Var(v=-0.1016, grad=0.0000), Var(v=0.1424, grad=-0.0561), Var(v=-0.1292, grad=0.0000), Var(v=0.0986, grad=0.0889), Var(v=0.2423, grad=-0.0187), Var(v=-0.0033, grad=0.0000), Var(v=-0.1463, grad=-0.7155), Var(v=0.1661, grad=0.0000), Var(v=-0.0901, grad=0.0000), Var(v=-0.1132, grad=0.0000), Var(v=0.0490, grad=-0.0190), Var(v=0.0305, grad=0.1130), Var(v=-0.0915, grad=0.0000), Var(v=-0.0245, grad=0.0000), Var(v=0.1131, grad=0.0000), Var(v=0.0302, grad=-0.7243), Var(v=0.0079, grad=0.0000), Var(v=0.0530, grad=-1.2258), Var(v=-0.0098, grad=0.2090), Var(v=0.0343, grad=1.4001), Var(v=-0.0193, grad=-0.9706), Var(v=-0.0218, grad=0.0000), Var(v=0.0314, grad=-0.2852), Var(v=-0.0636, grad=0.0000), Var(v=0.0320, grad=0.0000), Var(v=-0.0339, grad=0.0000), Var(v=-0.0047, grad=0.0000), Var(v=-0.0823, grad=0.0000), Var(v=0.0552, grad=0.0000), Var(v=-0.0330, grad=0.0497), Var(v=-0.0204, grad=0.0000), Var(v=0.0808, grad=0.4772), Var(v=-0.1049, grad=0.9232)], [Var(v=0.0748, grad=0.0885), Var(v=-0.0549, grad=0.5664), Var(v=-0.0454, grad=0.1994), Var(v=0.0469, grad=1.5022), Var(v=0.0064, grad=-0.3705), Var(v=0.1376, grad=0.4894), Var(v=-0.1347, grad=0.0000), Var(v=-0.1227, grad=0.0000), Var(v=-0.0250, grad=0.5734), Var(v=-0.1129, grad=0.3619), Var(v=0.0646, grad=0.7116), Var(v=-0.0593, grad=0.0000), Var(v=-0.0106, grad=-0.1602), Var(v=-0.0692, grad=-0.5384), Var(v=0.0657, grad=0.0000), Var(v=-0.0507, grad=0.0000), Var(v=0.1511, grad=0.0000), Var(v=0.0943, grad=0.0000), Var(v=0.0723, grad=-0.0615), Var(v=-0.0286, grad=0.0000), Var(v=0.1810, grad=0.0975), Var(v=-0.0485, grad=-0.0206), Var(v=-0.2241, grad=0.0000), Var(v=0.0089, grad=-0.7849), Var(v=0.0802, grad=0.0000), Var(v=0.0187, grad=0.0000), Var(v=-0.0793, grad=0.0000), Var(v=0.1739, grad=-0.0208), Var(v=-0.0624, grad=0.1240), Var(v=0.1411, grad=0.0000), Var(v=-0.0112, grad=0.0000), Var(v=0.0160, grad=0.0000), Var(v=-0.0463, grad=-0.7945), Var(v=0.0070, grad=0.0000), Var(v=0.0048, grad=-1.3447), Var(v=0.0563, grad=0.2292), Var(v=-0.0419, grad=1.5358), Var(v=0.0421, grad=-1.0647), Var(v=0.0013, grad=0.0000), Var(v=-0.0165, grad=-0.3129), Var(v=0.0608, grad=0.0000), Var(v=-0.0096, grad=0.0000), Var(v=0.1706, grad=0.0000), Var(v=-0.0549, grad=0.0000), Var(v=-0.0055, grad=0.0000), Var(v=-0.1748, grad=0.0000), Var(v=-0.0069, grad=0.0545), Var(v=0.0824, grad=0.0000), Var(v=0.0031, grad=0.5235), Var(v=-0.0370, grad=1.0127)], [Var(v=-0.0869, grad=0.0208), Var(v=-0.0693, grad=0.1331), Var(v=0.0334, grad=0.0468), Var(v=0.0752, grad=0.3529), Var(v=0.0163, grad=-0.0871), Var(v=-0.0618, grad=0.1150), Var(v=-0.0249, grad=0.0000), Var(v=-0.1016, grad=0.0000), Var(v=-0.0724, grad=0.1347), Var(v=-0.0614, grad=0.0850), Var(v=0.0700, grad=0.1672), Var(v=-0.1539, grad=0.0000), Var(v=0.0026, grad=-0.0376), Var(v=0.1150, grad=-0.1265), Var(v=-0.1475, grad=0.0000), Var(v=0.0352, grad=0.0000), Var(v=0.0568, grad=0.0000), Var(v=-0.1331, grad=0.0000), Var(v=0.0857, grad=-0.0145), Var(v=-0.0161, grad=0.0000), Var(v=-0.0229, grad=0.0229), Var(v=0.0730, grad=-0.0048), Var(v=0.1073, grad=0.0000), Var(v=0.0051, grad=-0.1844), Var(v=0.0392, grad=0.0000), Var(v=0.0031, grad=0.0000), Var(v=0.0825, grad=0.0000), Var(v=0.0138, grad=-0.0049), Var(v=0.1074, grad=0.0291), Var(v=0.0297, grad=0.0000), Var(v=0.0048, grad=0.0000), Var(v=-0.0296, grad=0.0000), Var(v=-0.0391, grad=-0.1867), Var(v=-0.0821, grad=0.0000), Var(v=0.1352, grad=-0.3159), Var(v=-0.1473, grad=0.0539), Var(v=-0.0548, grad=0.3608), Var(v=0.1662, grad=-0.2502), Var(v=-0.0103, grad=0.0000), Var(v=-0.0151, grad=-0.0735), Var(v=-0.1198, grad=0.0000), Var(v=0.0675, grad=0.0000), Var(v=0.1476, grad=0.0000), Var(v=0.0973, grad=0.0000), Var(v=-0.0518, grad=0.0000), Var(v=0.0442, grad=0.0000), Var(v=0.1244, grad=0.0128), Var(v=-0.0554, grad=0.0000), Var(v=0.0174, grad=0.1230), Var(v=-0.0892, grad=0.2379)], [Var(v=0.0497, grad=0.0000), Var(v=0.1000, grad=-1.2765), Var(v=0.1455, grad=-0.4493), Var(v=-0.2601, grad=0.0000), Var(v=-0.1373, grad=0.0000), Var(v=-0.0904, grad=0.0000), Var(v=-0.0023, grad=0.0000), Var(v=-0.1059, grad=0.0000), Var(v=0.0434, grad=-1.2922), Var(v=0.0984, grad=-0.8155), Var(v=-0.1059, grad=0.0000), Var(v=0.0588, grad=0.8960), Var(v=-0.0539, grad=0.0000), Var(v=0.0451, grad=1.2134), Var(v=-0.0952, grad=0.0000), Var(v=0.1854, grad=-0.0177), Var(v=0.2100, grad=-1.3687), Var(v=-0.0832, grad=0.0000), Var(v=-0.1009, grad=0.0000), Var(v=-0.0332, grad=-0.9414), Var(v=-0.0929, grad=0.0000), Var(v=0.0597, grad=0.0463), Var(v=-0.1152, grad=0.0000), Var(v=0.0481, grad=1.7689), Var(v=-0.2010, grad=0.0000), Var(v=-0.1083, grad=0.0000), Var(v=0.0929, grad=0.0110), Var(v=0.0432, grad=0.0469), Var(v=0.0297, grad=-0.2794), Var(v=-0.0576, grad=0.0000), Var(v=0.0239, grad=0.0000), Var(v=-0.1008, grad=0.0000), Var(v=0.0740, grad=1.7905), Var(v=-0.0085, grad=0.0000), Var(v=-0.0511, grad=0.0000), Var(v=0.1200, grad=-0.5166), Var(v=-0.1239, grad=0.0000), Var(v=-0.1585, grad=0.0000), Var(v=-0.0754, grad=0.0000), Var(v=-0.0518, grad=0.7051), Var(v=-0.1592, grad=0.0000), Var(v=-0.0774, grad=0.0000), Var(v=0.0144, grad=0.0000), Var(v=0.0729, grad=3.3478), Var(v=0.0101, grad=-0.3533), Var(v=0.0373, grad=1.3934), Var(v=0.0716, grad=-0.1229), Var(v=0.0354, grad=0.0000), Var(v=0.0301, grad=0.0000), Var(v=-0.1495, grad=0.0000)], [Var(v=0.0507, grad=0.1637), Var(v=0.0503, grad=1.0472), Var(v=-0.0721, grad=0.3687), Var(v=0.0334, grad=2.7774), Var(v=0.1289, grad=-0.6851), Var(v=0.1475, grad=0.9049), Var(v=0.0130, grad=0.0000), Var(v=-0.1453, grad=0.0000), Var(v=0.0539, grad=1.0601), Var(v=0.1221, grad=0.6690), Var(v=0.0251, grad=1.3157), Var(v=-0.0835, grad=0.0000), Var(v=-0.0789, grad=-0.2962), Var(v=0.0025, grad=-0.9955), Var(v=-0.1858, grad=0.0000), Var(v=0.0142, grad=0.0000), Var(v=-0.0918, grad=0.0000), Var(v=-0.0374, grad=0.0000), Var(v=-0.0354, grad=-0.1137), Var(v=-0.0802, grad=0.0000), Var(v=0.0917, grad=0.1803), Var(v=-0.0257, grad=-0.0380), Var(v=-0.1245, grad=0.0000), Var(v=0.0762, grad=-1.4513), Var(v=-0.0701, grad=0.0000), Var(v=-0.0110, grad=0.0000), Var(v=0.0312, grad=0.0000), Var(v=0.1503, grad=-0.0385), Var(v=0.1956, grad=0.2292), Var(v=0.1526, grad=0.0000), Var(v=0.0561, grad=0.0000), Var(v=0.0345, grad=0.0000), Var(v=0.1410, grad=-1.4690), Var(v=-0.0775, grad=0.0000), Var(v=0.1533, grad=-2.4863), Var(v=0.0851, grad=0.4238), Var(v=-0.0192, grad=2.8396), Var(v=-0.0179, grad=-1.9687), Var(v=-0.0392, grad=0.0000), Var(v=0.0220, grad=-0.5785), Var(v=0.0464, grad=0.0000), Var(v=0.0540, grad=0.0000), Var(v=-0.2020, grad=0.0000), Var(v=0.0818, grad=0.0000), Var(v=-0.1642, grad=0.0000), Var(v=-0.0884, grad=0.0000), Var(v=-0.0212, grad=0.1008), Var(v=-0.1518, grad=0.0000), Var(v=0.0751, grad=0.9680), Var(v=0.0329, grad=1.8725)], [Var(v=-0.0638, grad=0.1164), Var(v=-0.0846, grad=0.7447), Var(v=0.2217, grad=0.2622), Var(v=-0.0679, grad=1.9751), Var(v=-0.0053, grad=-0.4872), Var(v=0.0237, grad=0.6435), Var(v=0.1355, grad=0.0000), Var(v=0.0759, grad=0.0000), Var(v=0.0677, grad=0.7539), Var(v=-0.0114, grad=0.4758), Var(v=-0.0042, grad=0.9356), Var(v=-0.1434, grad=0.0000), Var(v=-0.0367, grad=-0.2107), Var(v=0.2388, grad=-0.7079), Var(v=0.0969, grad=0.0000), Var(v=-0.0511, grad=0.0000), Var(v=-0.0806, grad=0.0000), Var(v=0.0599, grad=0.0000), Var(v=-0.0298, grad=-0.0809), Var(v=0.2024, grad=0.0000), Var(v=0.0554, grad=0.1282), Var(v=0.1907, grad=-0.0270), Var(v=-0.0614, grad=0.0000), Var(v=-0.0322, grad=-1.0320), Var(v=0.1203, grad=0.0000), Var(v=-0.1174, grad=0.0000), Var(v=-0.1590, grad=0.0000), Var(v=0.1252, grad=-0.0274), Var(v=-0.0380, grad=0.1630), Var(v=-0.1101, grad=0.0000), Var(v=0.0230, grad=0.0000), Var(v=-0.0875, grad=0.0000), Var(v=0.1206, grad=-1.0446), Var(v=-0.0815, grad=0.0000), Var(v=-0.0601, grad=-1.7680), Var(v=0.1449, grad=0.3014), Var(v=0.0819, grad=2.0193), Var(v=-0.0211, grad=-1.3999), Var(v=-0.0017, grad=0.0000), Var(v=0.0002, grad=-0.4113), Var(v=-0.0123, grad=0.0000), Var(v=0.0246, grad=0.0000), Var(v=0.0784, grad=0.0000), Var(v=0.0998, grad=0.0000), Var(v=-0.0030, grad=0.0000), Var(v=0.0307, grad=0.0000), Var(v=0.0658, grad=0.0717), Var(v=0.0096, grad=0.0000), Var(v=-0.0381, grad=0.6883), Var(v=0.0399, grad=1.3315)], [Var(v=-0.1040, grad=0.0000), Var(v=0.1496, grad=-0.0801), Var(v=0.1103, grad=-0.0282), Var(v=0.0746, grad=0.0000), Var(v=0.0416, grad=0.0000), Var(v=-0.0435, grad=0.0000), Var(v=-0.1686, grad=0.0000), Var(v=-0.0801, grad=0.0000), Var(v=0.0528, grad=-0.0811), Var(v=0.0330, grad=-0.0512), Var(v=-0.2518, grad=0.0000), Var(v=-0.0199, grad=0.0562), Var(v=-0.1045, grad=0.0000), Var(v=0.2062, grad=0.0761), Var(v=0.0249, grad=0.0000), Var(v=-0.1450, grad=-0.0011), Var(v=0.0844, grad=-0.0859), Var(v=0.2314, grad=0.0000), Var(v=-0.0970, grad=0.0000), Var(v=-0.1414, grad=-0.0591), Var(v=0.0885, grad=0.0000), Var(v=0.0222, grad=0.0029), Var(v=0.0281, grad=0.0000), Var(v=0.0864, grad=0.1110), Var(v=-0.0791, grad=0.0000), Var(v=0.2628, grad=0.0000), Var(v=0.0704, grad=0.0007), Var(v=-0.0202, grad=0.0029), Var(v=-0.1206, grad=-0.0175), Var(v=-0.0274, grad=0.0000), Var(v=0.1370, grad=0.0000), Var(v=0.1625, grad=0.0000), Var(v=0.0838, grad=0.1123), Var(v=-0.0278, grad=0.0000), Var(v=0.1544, grad=0.0000), Var(v=-0.0664, grad=-0.0324), Var(v=-0.2355, grad=0.0000), Var(v=-0.0590, grad=0.0000), Var(v=-0.0566, grad=0.0000), Var(v=0.0584, grad=0.0442), Var(v=0.0721, grad=0.0000), Var(v=0.0671, grad=0.0000), Var(v=-0.0446, grad=0.0000), Var(v=-0.2033, grad=0.2100), Var(v=0.1116, grad=-0.0222), Var(v=-0.1152, grad=0.0874), Var(v=0.0053, grad=-0.0077), Var(v=0.1030, grad=0.0000), Var(v=-0.0772, grad=0.0000), Var(v=-0.0385, grad=0.0000)], [Var(v=0.1311, grad=0.1075), Var(v=0.0412, grad=0.6875), Var(v=-0.0295, grad=0.2420), Var(v=-0.0154, grad=1.8235), Var(v=0.0325, grad=-0.4498), Var(v=-0.0577, grad=0.5941), Var(v=0.0143, grad=0.0000), Var(v=0.1086, grad=0.0000), Var(v=-0.0945, grad=0.6960), Var(v=-0.0248, grad=0.4392), Var(v=-0.0534, grad=0.8638), Var(v=-0.0200, grad=0.0000), Var(v=-0.0699, grad=-0.1945), Var(v=0.0723, grad=-0.6535), Var(v=-0.1015, grad=0.0000), Var(v=-0.0773, grad=0.0000), Var(v=-0.0362, grad=0.0000), Var(v=0.0752, grad=0.0000), Var(v=0.1770, grad=-0.0747), Var(v=-0.0402, grad=0.0000), Var(v=-0.1344, grad=0.1184), Var(v=0.0120, grad=-0.0249), Var(v=-0.0607, grad=0.0000), Var(v=0.0515, grad=-0.9528), Var(v=-0.1299, grad=0.0000), Var(v=-0.1734, grad=0.0000), Var(v=-0.0496, grad=0.0000), Var(v=0.0332, grad=-0.0253), Var(v=0.1537, grad=0.1505), Var(v=-0.0356, grad=0.0000), Var(v=0.0722, grad=0.0000), Var(v=-0.0132, grad=0.0000), Var(v=-0.0474, grad=-0.9644), Var(v=0.1336, grad=0.0000), Var(v=0.0895, grad=-1.6323), Var(v=0.1380, grad=0.2782), Var(v=-0.1497, grad=1.8643), Var(v=-0.0147, grad=-1.2925), Var(v=0.1960, grad=0.0000), Var(v=-0.0366, grad=-0.3798), Var(v=-0.0442, grad=0.0000), Var(v=-0.2301, grad=0.0000), Var(v=-0.0120, grad=0.0000), Var(v=-0.0609, grad=0.0000), Var(v=-0.0388, grad=0.0000), Var(v=-0.0448, grad=0.0000), Var(v=0.0388, grad=0.0662), Var(v=-0.0312, grad=0.0000), Var(v=0.0739, grad=0.6355), Var(v=-0.0992, grad=1.2293)], [Var(v=0.1086, grad=0.0000), Var(v=-0.0942, grad=-0.0642), Var(v=0.0453, grad=-0.0226), Var(v=-0.1056, grad=0.0000), Var(v=0.0085, grad=0.0000), Var(v=0.0509, grad=0.0000), Var(v=0.0853, grad=0.0000), Var(v=-0.0253, grad=0.0000), Var(v=-0.1067, grad=-0.0650), Var(v=-0.1141, grad=-0.0410), Var(v=-0.1572, grad=0.0000), Var(v=-0.0239, grad=0.0450), Var(v=-0.0021, grad=0.0000), Var(v=-0.0426, grad=0.0610), Var(v=0.0149, grad=0.0000), Var(v=0.1210, grad=-0.0009), Var(v=0.0389, grad=-0.0688), Var(v=-0.0004, grad=0.0000), Var(v=-0.0352, grad=0.0000), Var(v=-0.1646, grad=-0.0473), Var(v=0.0904, grad=0.0000), Var(v=-0.0104, grad=0.0023), Var(v=0.0736, grad=0.0000), Var(v=0.0506, grad=0.0889), Var(v=-0.2314, grad=0.0000), Var(v=0.0157, grad=0.0000), Var(v=0.0725, grad=0.0006), Var(v=0.0646, grad=0.0024), Var(v=-0.1390, grad=-0.0140), Var(v=-0.0091, grad=0.0000), Var(v=0.0732, grad=0.0000), Var(v=0.0320, grad=0.0000), Var(v=-0.0747, grad=0.0900), Var(v=0.1116, grad=0.0000), Var(v=0.0233, grad=0.0000), Var(v=0.1400, grad=-0.0260), Var(v=0.0207, grad=0.0000), Var(v=0.0722, grad=0.0000), Var(v=-0.1284, grad=0.0000), Var(v=0.0898, grad=0.0354), Var(v=0.1089, grad=0.0000), Var(v=0.0574, grad=0.0000), Var(v=0.0888, grad=0.0000), Var(v=0.0210, grad=0.1683), Var(v=0.1734, grad=-0.0178), Var(v=0.0451, grad=0.0701), Var(v=-0.0222, grad=-0.0062), Var(v=-0.1302, grad=0.0000), Var(v=-0.0228, grad=0.0000), Var(v=0.1471, grad=0.0000)], [Var(v=0.0706, grad=0.1554), Var(v=0.1097, grad=0.9940), Var(v=-0.0971, grad=0.3499), Var(v=0.0332, grad=2.6363), Var(v=0.1442, grad=-0.6503), Var(v=-0.1274, grad=0.8589), Var(v=-0.0195, grad=0.0000), Var(v=0.1100, grad=0.0000), Var(v=-0.0820, grad=1.0063), Var(v=-0.0541, grad=0.6351), Var(v=0.0419, grad=1.2488), Var(v=-0.0365, grad=0.0000), Var(v=0.0385, grad=-0.2812), Var(v=-0.0405, grad=-0.9449), Var(v=-0.0071, grad=0.0000), Var(v=-0.1898, grad=0.0000), Var(v=0.0580, grad=0.0000), Var(v=-0.0196, grad=0.0000), Var(v=-0.0187, grad=-0.1080), Var(v=-0.1114, grad=0.0000), Var(v=-0.0691, grad=0.1712), Var(v=0.1164, grad=-0.0361), Var(v=-0.0557, grad=0.0000), Var(v=0.1233, grad=-1.3775), Var(v=-0.1659, grad=0.0000), Var(v=-0.1711, grad=0.0000), Var(v=-0.1057, grad=0.0000), Var(v=0.1532, grad=-0.0365), Var(v=-0.0999, grad=0.2176), Var(v=-0.0650, grad=0.0000), Var(v=-0.0295, grad=0.0000), Var(v=-0.1437, grad=0.0000), Var(v=0.1866, grad=-1.3943), Var(v=-0.1178, grad=0.0000), Var(v=0.1096, grad=-2.3599), Var(v=0.0243, grad=0.4023), Var(v=-0.0294, grad=2.6953), Var(v=0.1622, grad=-1.8687), Var(v=-0.0620, grad=0.0000), Var(v=0.0691, grad=-0.5491), Var(v=-0.0922, grad=0.0000), Var(v=0.1577, grad=0.0000), Var(v=0.0321, grad=0.0000), Var(v=-0.0898, grad=0.0000), Var(v=0.1097, grad=0.0000), Var(v=-0.0697, grad=0.0000), Var(v=0.2058, grad=0.0957), Var(v=0.1297, grad=0.0000), Var(v=-0.0462, grad=0.9188), Var(v=0.0516, grad=1.7773)], [Var(v=-0.0312, grad=0.0000), Var(v=-0.0528, grad=-1.0024), Var(v=-0.0359, grad=-0.3529), Var(v=0.0180, grad=0.0000), Var(v=0.0344, grad=0.0000), Var(v=0.1149, grad=0.0000), Var(v=-0.0815, grad=0.0000), Var(v=-0.0062, grad=0.0000), Var(v=-0.0574, grad=-1.0148), Var(v=-0.0390, grad=-0.6404), Var(v=-0.1451, grad=0.0000), Var(v=0.1220, grad=0.7037), Var(v=-0.0484, grad=0.0000), Var(v=0.0169, grad=0.9529), Var(v=-0.1119, grad=0.0000), Var(v=0.1007, grad=-0.0139), Var(v=-0.0067, grad=-1.0749), Var(v=-0.0424, grad=0.0000), Var(v=-0.0097, grad=0.0000), Var(v=0.0719, grad=-0.7393), Var(v=-0.0496, grad=0.0000), Var(v=0.0154, grad=0.0364), Var(v=-0.0052, grad=0.0000), Var(v=-0.0490, grad=1.3892), Var(v=-0.0425, grad=0.0000), Var(v=-0.0073, grad=0.0000), Var(v=0.0303, grad=0.0086), Var(v=0.0655, grad=0.0368), Var(v=0.0258, grad=-0.2194), Var(v=0.0609, grad=0.0000), Var(v=-0.2035, grad=0.0000), Var(v=0.0757, grad=0.0000), Var(v=-0.0765, grad=1.4061), Var(v=0.0542, grad=0.0000), Var(v=0.0658, grad=0.0000), Var(v=-0.0144, grad=-0.4057), Var(v=-0.1273, grad=0.0000), Var(v=0.1351, grad=0.0000), Var(v=-0.0757, grad=0.0000), Var(v=0.0756, grad=0.5537), Var(v=0.0386, grad=0.0000), Var(v=0.0433, grad=0.0000), Var(v=0.0419, grad=0.0000), Var(v=-0.0470, grad=2.6291), Var(v=-0.0455, grad=-0.2775), Var(v=0.0363, grad=1.0942), Var(v=0.0439, grad=-0.0965), Var(v=-0.0868, grad=0.0000), Var(v=-0.0440, grad=0.0000), Var(v=-0.0281, grad=0.0000)]] Biases: [Var(v=-0.0092, grad=0.9175), Var(v=0.0004, grad=-0.0372), Var(v=0.0001, grad=-0.0131), Var(v=-0.1557, grad=15.5706), Var(v=0.0384, grad=-3.8405), Var(v=-0.0507, grad=5.0730), Var(v=0.0000, grad=0.0000), Var(v=0.0000, grad=0.0000), Var(v=0.0004, grad=-0.0376), Var(v=0.0002, grad=-0.0237), Var(v=-0.0738, grad=7.3757), Var(v=-0.0415, grad=4.1471), Var(v=0.0166, grad=-1.6608), Var(v=-0.0004, grad=0.0353), Var(v=0.0000, grad=0.0000), Var(v=0.0008, grad=-0.0817), Var(v=0.0634, grad=-6.3351), Var(v=0.0000, grad=0.0000), Var(v=0.0064, grad=-0.6376), Var(v=0.0436, grad=-4.3571), Var(v=-0.0101, grad=1.0110), Var(v=-0.0000, grad=0.0013), Var(v=0.0000, grad=0.0000), Var(v=-0.0005, grad=0.0515), Var(v=0.0000, grad=0.0000), Var(v=0.0000, grad=0.0000), Var(v=-0.0005, grad=0.0509), Var(v=-0.0000, grad=0.0014), Var(v=0.0001, grad=-0.0081), Var(v=0.0000, grad=0.0000), Var(v=0.0000, grad=0.0000), Var(v=0.0000, grad=0.0000), Var(v=-0.0005, grad=0.0521), Var(v=0.0000, grad=0.0000), Var(v=0.1394, grad=-13.9381), Var(v=0.0002, grad=-0.0150), Var(v=-0.1592, grad=15.9191), Var(v=0.1104, grad=-11.0365), Var(v=0.0000, grad=0.0000), Var(v=-0.0002, grad=0.0205), Var(v=0.0000, grad=0.0000), Var(v=0.0000, grad=0.0000), Var(v=0.0000, grad=0.0000), Var(v=-0.1549, grad=15.4949), Var(v=0.0164, grad=-1.6352), Var(v=-0.0645, grad=6.4491), Var(v=0.0000, grad=-0.0036), Var(v=0.0000, grad=0.0000), Var(v=-0.0543, grad=5.4264), Var(v=-0.1050, grad=10.4972)]\n",
      "Layer 2 \n",
      " Weights: [[Var(v=0.0372, grad=-4.7768)], [Var(v=-0.0392, grad=-2.8146)], [Var(v=-0.0339, grad=1.0167)], [Var(v=-0.1340, grad=-4.4711)], [Var(v=0.0646, grad=-2.0529)], [Var(v=-0.0367, grad=-2.1487)], [Var(v=-0.0388, grad=0.0000)], [Var(v=-0.0275, grad=0.0000)], [Var(v=-0.0699, grad=0.1697)], [Var(v=-0.0400, grad=-0.3048)], [Var(v=-0.0481, grad=-3.6577)], [Var(v=0.0053, grad=4.1979)], [Var(v=0.0239, grad=-0.4889)], [Var(v=0.0759, grad=-1.1859)], [Var(v=0.0950, grad=0.0000)], [Var(v=-0.0622, grad=6.1272)], [Var(v=-0.1054, grad=3.3140)], [Var(v=-0.1555, grad=0.0000)], [Var(v=0.0480, grad=-4.0722)], [Var(v=-0.0567, grad=0.7000)], [Var(v=-0.0006, grad=-1.0993)], [Var(v=0.0324, grad=-2.9948)], [Var(v=-0.1761, grad=0.0000)], [Var(v=0.1084, grad=-1.5074)], [Var(v=-0.0060, grad=0.0000)], [Var(v=-0.0697, grad=0.0000)], [Var(v=-0.0187, grad=1.9267)], [Var(v=0.0469, grad=-4.4470)], [Var(v=0.0410, grad=-5.5758)], [Var(v=-0.0384, grad=0.0000)], [Var(v=-0.0104, grad=0.0000)], [Var(v=0.0343, grad=0.0000)], [Var(v=0.1593, grad=-6.4780)], [Var(v=0.1480, grad=0.0000)], [Var(v=0.2242, grad=-6.4271)], [Var(v=0.0109, grad=-3.8127)], [Var(v=-0.1691, grad=-1.3556)], [Var(v=0.1378, grad=-1.1122)], [Var(v=-0.0433, grad=0.0000)], [Var(v=0.0536, grad=-1.6399)], [Var(v=-0.0957, grad=0.0000)], [Var(v=-0.0602, grad=0.0000)], [Var(v=0.2151, grad=0.0000)], [Var(v=0.1619, grad=1.4833)], [Var(v=-0.0247, grad=0.6011)], [Var(v=0.0485, grad=2.5008)], [Var(v=0.0092, grad=-1.5706)], [Var(v=-0.0160, grad=0.0000)], [Var(v=-0.0591, grad=-0.3172)], [Var(v=-0.1024, grad=-1.8068)]] Biases: [Var(v=-0.0055, grad=0.5514)]\n",
      "\n",
      "Network after zeroing gradients:\n",
      "Layer 0 \n",
      " Weights: [[Var(v=-0.0677, grad=0.0000), Var(v=0.0691, grad=0.0000), Var(v=0.1035, grad=0.0000), Var(v=0.0713, grad=0.0000), Var(v=0.0715, grad=0.0000), Var(v=0.0643, grad=0.0000), Var(v=0.0830, grad=0.0000), Var(v=-0.1854, grad=0.0000), Var(v=0.1347, grad=0.0000), Var(v=0.0867, grad=0.0000), Var(v=-0.0394, grad=0.0000), Var(v=0.1457, grad=0.0000), Var(v=0.0123, grad=0.0000), Var(v=0.1976, grad=0.0000), Var(v=-0.1425, grad=0.0000)]] Biases: [Var(v=-0.0064, grad=0.0000), Var(v=-0.0296, grad=0.0000), Var(v=0.0182, grad=0.0000), Var(v=-0.0254, grad=0.0000), Var(v=-0.0035, grad=0.0000), Var(v=-0.0159, grad=0.0000), Var(v=0.0545, grad=0.0000), Var(v=-0.0100, grad=0.0000), Var(v=-0.0159, grad=0.0000), Var(v=-0.0191, grad=0.0000), Var(v=0.0247, grad=0.0000), Var(v=0.0387, grad=0.0000), Var(v=-0.0202, grad=0.0000), Var(v=0.0448, grad=0.0000), Var(v=-0.0106, grad=0.0000)]\n",
      "Layer 1 \n",
      " Weights: [[Var(v=-0.1433, grad=0.0000), Var(v=-0.0490, grad=0.0000), Var(v=-0.1150, grad=0.0000), Var(v=0.0972, grad=0.0000), Var(v=0.1970, grad=0.0000), Var(v=-0.0510, grad=0.0000), Var(v=-0.0185, grad=0.0000), Var(v=0.0563, grad=0.0000), Var(v=0.2223, grad=0.0000), Var(v=-0.1083, grad=0.0000), Var(v=-0.2202, grad=0.0000), Var(v=0.1410, grad=0.0000), Var(v=-0.1420, grad=0.0000), Var(v=-0.0129, grad=0.0000), Var(v=0.1050, grad=0.0000), Var(v=0.1638, grad=0.0000), Var(v=-0.0338, grad=0.0000), Var(v=0.0226, grad=0.0000), Var(v=-0.0999, grad=0.0000), Var(v=0.1249, grad=0.0000), Var(v=-0.0326, grad=0.0000), Var(v=0.0877, grad=0.0000), Var(v=-0.0182, grad=0.0000), Var(v=0.0276, grad=0.0000), Var(v=-0.0214, grad=0.0000), Var(v=0.1044, grad=0.0000), Var(v=-0.0611, grad=0.0000), Var(v=0.0219, grad=0.0000), Var(v=-0.0210, grad=0.0000), Var(v=-0.0835, grad=0.0000), Var(v=-0.0604, grad=0.0000), Var(v=-0.1963, grad=0.0000), Var(v=-0.0380, grad=0.0000), Var(v=-0.1856, grad=0.0000), Var(v=-0.0379, grad=0.0000), Var(v=0.0797, grad=0.0000), Var(v=0.0654, grad=0.0000), Var(v=0.0570, grad=0.0000), Var(v=-0.1154, grad=0.0000), Var(v=0.0480, grad=0.0000), Var(v=-0.2638, grad=0.0000), Var(v=-0.1034, grad=0.0000), Var(v=-0.1834, grad=0.0000), Var(v=-0.0137, grad=0.0000), Var(v=0.1258, grad=0.0000), Var(v=0.1224, grad=0.0000), Var(v=-0.0753, grad=0.0000), Var(v=-0.0446, grad=0.0000), Var(v=-0.1849, grad=0.0000), Var(v=-0.1002, grad=0.0000)], [Var(v=0.1545, grad=0.0000), Var(v=0.1460, grad=0.0000), Var(v=0.0848, grad=0.0000), Var(v=0.1943, grad=0.0000), Var(v=-0.0020, grad=0.0000), Var(v=-0.1182, grad=0.0000), Var(v=-0.1173, grad=0.0000), Var(v=-0.0361, grad=0.0000), Var(v=0.0429, grad=0.0000), Var(v=-0.0585, grad=0.0000), Var(v=0.0106, grad=0.0000), Var(v=0.0980, grad=0.0000), Var(v=-0.0499, grad=0.0000), Var(v=0.0479, grad=0.0000), Var(v=-0.0351, grad=0.0000), Var(v=-0.1410, grad=0.0000), Var(v=-0.0422, grad=0.0000), Var(v=-0.0608, grad=0.0000), Var(v=-0.0609, grad=0.0000), Var(v=-0.0150, grad=0.0000), Var(v=0.0144, grad=0.0000), Var(v=-0.0809, grad=0.0000), Var(v=-0.0666, grad=0.0000), Var(v=-0.0039, grad=0.0000), Var(v=0.0822, grad=0.0000), Var(v=0.0325, grad=0.0000), Var(v=0.1784, grad=0.0000), Var(v=-0.1616, grad=0.0000), Var(v=0.0131, grad=0.0000), Var(v=-0.0993, grad=0.0000), Var(v=-0.2636, grad=0.0000), Var(v=-0.1095, grad=0.0000), Var(v=0.0038, grad=0.0000), Var(v=0.0368, grad=0.0000), Var(v=0.1059, grad=0.0000), Var(v=0.1133, grad=0.0000), Var(v=0.0114, grad=0.0000), Var(v=0.0627, grad=0.0000), Var(v=0.0143, grad=0.0000), Var(v=0.1205, grad=0.0000), Var(v=-0.0145, grad=0.0000), Var(v=-0.1877, grad=0.0000), Var(v=0.0718, grad=0.0000), Var(v=-0.0967, grad=0.0000), Var(v=0.0478, grad=0.0000), Var(v=-0.1240, grad=0.0000), Var(v=0.1182, grad=0.0000), Var(v=-0.0328, grad=0.0000), Var(v=-0.1553, grad=0.0000), Var(v=0.0564, grad=0.0000)], [Var(v=0.0539, grad=0.0000), Var(v=-0.1709, grad=0.0000), Var(v=-0.0436, grad=0.0000), Var(v=0.1017, grad=0.0000), Var(v=-0.1555, grad=0.0000), Var(v=0.1507, grad=0.0000), Var(v=-0.1086, grad=0.0000), Var(v=-0.0327, grad=0.0000), Var(v=-0.1467, grad=0.0000), Var(v=0.0007, grad=0.0000), Var(v=-0.1077, grad=0.0000), Var(v=-0.2114, grad=0.0000), Var(v=0.0159, grad=0.0000), Var(v=-0.0091, grad=0.0000), Var(v=0.0217, grad=0.0000), Var(v=-0.0683, grad=0.0000), Var(v=0.2307, grad=0.0000), Var(v=0.0477, grad=0.0000), Var(v=0.1484, grad=0.0000), Var(v=0.0933, grad=0.0000), Var(v=-0.0620, grad=0.0000), Var(v=0.0214, grad=0.0000), Var(v=0.1043, grad=0.0000), Var(v=0.1638, grad=0.0000), Var(v=0.1081, grad=0.0000), Var(v=0.1232, grad=0.0000), Var(v=0.0108, grad=0.0000), Var(v=0.0217, grad=0.0000), Var(v=0.1805, grad=0.0000), Var(v=-0.0464, grad=0.0000), Var(v=-0.0430, grad=0.0000), Var(v=-0.0469, grad=0.0000), Var(v=0.0814, grad=0.0000), Var(v=-0.1165, grad=0.0000), Var(v=0.3129, grad=0.0000), Var(v=0.0536, grad=0.0000), Var(v=0.0391, grad=0.0000), Var(v=-0.0727, grad=0.0000), Var(v=0.0222, grad=0.0000), Var(v=-0.1313, grad=0.0000), Var(v=-0.1254, grad=0.0000), Var(v=0.0731, grad=0.0000), Var(v=-0.0442, grad=0.0000), Var(v=-0.1774, grad=0.0000), Var(v=-0.1190, grad=0.0000), Var(v=-0.1544, grad=0.0000), Var(v=-0.0709, grad=0.0000), Var(v=-0.1000, grad=0.0000), Var(v=0.0664, grad=0.0000), Var(v=0.0619, grad=0.0000)], [Var(v=-0.0268, grad=0.0000), Var(v=0.1409, grad=0.0000), Var(v=0.0587, grad=0.0000), Var(v=-0.0310, grad=0.0000), Var(v=0.0085, grad=0.0000), Var(v=0.0882, grad=0.0000), Var(v=-0.0033, grad=0.0000), Var(v=-0.1608, grad=0.0000), Var(v=0.0871, grad=0.0000), Var(v=0.0293, grad=0.0000), Var(v=0.1782, grad=0.0000), Var(v=-0.0641, grad=0.0000), Var(v=0.1031, grad=0.0000), Var(v=0.0062, grad=0.0000), Var(v=-0.0941, grad=0.0000), Var(v=0.0846, grad=0.0000), Var(v=-0.0242, grad=0.0000), Var(v=-0.1675, grad=0.0000), Var(v=0.1011, grad=0.0000), Var(v=-0.0037, grad=0.0000), Var(v=-0.0529, grad=0.0000), Var(v=0.0562, grad=0.0000), Var(v=-0.1158, grad=0.0000), Var(v=0.0195, grad=0.0000), Var(v=-0.1425, grad=0.0000), Var(v=-0.0487, grad=0.0000), Var(v=-0.1676, grad=0.0000), Var(v=-0.0183, grad=0.0000), Var(v=0.1524, grad=0.0000), Var(v=0.0347, grad=0.0000), Var(v=0.0217, grad=0.0000), Var(v=0.1989, grad=0.0000), Var(v=0.1821, grad=0.0000), Var(v=-0.0333, grad=0.0000), Var(v=-0.0482, grad=0.0000), Var(v=-0.0401, grad=0.0000), Var(v=0.0436, grad=0.0000), Var(v=0.0186, grad=0.0000), Var(v=-0.1344, grad=0.0000), Var(v=0.1660, grad=0.0000), Var(v=0.0873, grad=0.0000), Var(v=-0.0354, grad=0.0000), Var(v=-0.2412, grad=0.0000), Var(v=0.1584, grad=0.0000), Var(v=-0.0576, grad=0.0000), Var(v=0.0365, grad=0.0000), Var(v=-0.1473, grad=0.0000), Var(v=-0.0287, grad=0.0000), Var(v=-0.0772, grad=0.0000), Var(v=-0.0040, grad=0.0000)], [Var(v=-0.0075, grad=0.0000), Var(v=-0.0457, grad=0.0000), Var(v=-0.0351, grad=0.0000), Var(v=-0.0936, grad=0.0000), Var(v=-0.0937, grad=0.0000), Var(v=-0.0692, grad=0.0000), Var(v=0.0268, grad=0.0000), Var(v=-0.1443, grad=0.0000), Var(v=0.1305, grad=0.0000), Var(v=0.0850, grad=0.0000), Var(v=0.0771, grad=0.0000), Var(v=0.1566, grad=0.0000), Var(v=0.2475, grad=0.0000), Var(v=0.0730, grad=0.0000), Var(v=0.0355, grad=0.0000), Var(v=0.1016, grad=0.0000), Var(v=-0.1101, grad=0.0000), Var(v=-0.1016, grad=0.0000), Var(v=0.1424, grad=0.0000), Var(v=-0.1292, grad=0.0000), Var(v=0.0986, grad=0.0000), Var(v=0.2423, grad=0.0000), Var(v=-0.0033, grad=0.0000), Var(v=-0.1463, grad=0.0000), Var(v=0.1661, grad=0.0000), Var(v=-0.0901, grad=0.0000), Var(v=-0.1132, grad=0.0000), Var(v=0.0490, grad=0.0000), Var(v=0.0305, grad=0.0000), Var(v=-0.0915, grad=0.0000), Var(v=-0.0245, grad=0.0000), Var(v=0.1131, grad=0.0000), Var(v=0.0302, grad=0.0000), Var(v=0.0079, grad=0.0000), Var(v=0.0530, grad=0.0000), Var(v=-0.0098, grad=0.0000), Var(v=0.0343, grad=0.0000), Var(v=-0.0193, grad=0.0000), Var(v=-0.0218, grad=0.0000), Var(v=0.0314, grad=0.0000), Var(v=-0.0636, grad=0.0000), Var(v=0.0320, grad=0.0000), Var(v=-0.0339, grad=0.0000), Var(v=-0.0047, grad=0.0000), Var(v=-0.0823, grad=0.0000), Var(v=0.0552, grad=0.0000), Var(v=-0.0330, grad=0.0000), Var(v=-0.0204, grad=0.0000), Var(v=0.0808, grad=0.0000), Var(v=-0.1049, grad=0.0000)], [Var(v=0.0748, grad=0.0000), Var(v=-0.0549, grad=0.0000), Var(v=-0.0454, grad=0.0000), Var(v=0.0469, grad=0.0000), Var(v=0.0064, grad=0.0000), Var(v=0.1376, grad=0.0000), Var(v=-0.1347, grad=0.0000), Var(v=-0.1227, grad=0.0000), Var(v=-0.0250, grad=0.0000), Var(v=-0.1129, grad=0.0000), Var(v=0.0646, grad=0.0000), Var(v=-0.0593, grad=0.0000), Var(v=-0.0106, grad=0.0000), Var(v=-0.0692, grad=0.0000), Var(v=0.0657, grad=0.0000), Var(v=-0.0507, grad=0.0000), Var(v=0.1511, grad=0.0000), Var(v=0.0943, grad=0.0000), Var(v=0.0723, grad=0.0000), Var(v=-0.0286, grad=0.0000), Var(v=0.1810, grad=0.0000), Var(v=-0.0485, grad=0.0000), Var(v=-0.2241, grad=0.0000), Var(v=0.0089, grad=0.0000), Var(v=0.0802, grad=0.0000), Var(v=0.0187, grad=0.0000), Var(v=-0.0793, grad=0.0000), Var(v=0.1739, grad=0.0000), Var(v=-0.0624, grad=0.0000), Var(v=0.1411, grad=0.0000), Var(v=-0.0112, grad=0.0000), Var(v=0.0160, grad=0.0000), Var(v=-0.0463, grad=0.0000), Var(v=0.0070, grad=0.0000), Var(v=0.0048, grad=0.0000), Var(v=0.0563, grad=0.0000), Var(v=-0.0419, grad=0.0000), Var(v=0.0421, grad=0.0000), Var(v=0.0013, grad=0.0000), Var(v=-0.0165, grad=0.0000), Var(v=0.0608, grad=0.0000), Var(v=-0.0096, grad=0.0000), Var(v=0.1706, grad=0.0000), Var(v=-0.0549, grad=0.0000), Var(v=-0.0055, grad=0.0000), Var(v=-0.1748, grad=0.0000), Var(v=-0.0069, grad=0.0000), Var(v=0.0824, grad=0.0000), Var(v=0.0031, grad=0.0000), Var(v=-0.0370, grad=0.0000)], [Var(v=-0.0869, grad=0.0000), Var(v=-0.0693, grad=0.0000), Var(v=0.0334, grad=0.0000), Var(v=0.0752, grad=0.0000), Var(v=0.0163, grad=0.0000), Var(v=-0.0618, grad=0.0000), Var(v=-0.0249, grad=0.0000), Var(v=-0.1016, grad=0.0000), Var(v=-0.0724, grad=0.0000), Var(v=-0.0614, grad=0.0000), Var(v=0.0700, grad=0.0000), Var(v=-0.1539, grad=0.0000), Var(v=0.0026, grad=0.0000), Var(v=0.1150, grad=0.0000), Var(v=-0.1475, grad=0.0000), Var(v=0.0352, grad=0.0000), Var(v=0.0568, grad=0.0000), Var(v=-0.1331, grad=0.0000), Var(v=0.0857, grad=0.0000), Var(v=-0.0161, grad=0.0000), Var(v=-0.0229, grad=0.0000), Var(v=0.0730, grad=0.0000), Var(v=0.1073, grad=0.0000), Var(v=0.0051, grad=0.0000), Var(v=0.0392, grad=0.0000), Var(v=0.0031, grad=0.0000), Var(v=0.0825, grad=0.0000), Var(v=0.0138, grad=0.0000), Var(v=0.1074, grad=0.0000), Var(v=0.0297, grad=0.0000), Var(v=0.0048, grad=0.0000), Var(v=-0.0296, grad=0.0000), Var(v=-0.0391, grad=0.0000), Var(v=-0.0821, grad=0.0000), Var(v=0.1352, grad=0.0000), Var(v=-0.1473, grad=0.0000), Var(v=-0.0548, grad=0.0000), Var(v=0.1662, grad=0.0000), Var(v=-0.0103, grad=0.0000), Var(v=-0.0151, grad=0.0000), Var(v=-0.1198, grad=0.0000), Var(v=0.0675, grad=0.0000), Var(v=0.1476, grad=0.0000), Var(v=0.0973, grad=0.0000), Var(v=-0.0518, grad=0.0000), Var(v=0.0442, grad=0.0000), Var(v=0.1244, grad=0.0000), Var(v=-0.0554, grad=0.0000), Var(v=0.0174, grad=0.0000), Var(v=-0.0892, grad=0.0000)], [Var(v=0.0497, grad=0.0000), Var(v=0.1000, grad=0.0000), Var(v=0.1455, grad=0.0000), Var(v=-0.2601, grad=0.0000), Var(v=-0.1373, grad=0.0000), Var(v=-0.0904, grad=0.0000), Var(v=-0.0023, grad=0.0000), Var(v=-0.1059, grad=0.0000), Var(v=0.0434, grad=0.0000), Var(v=0.0984, grad=0.0000), Var(v=-0.1059, grad=0.0000), Var(v=0.0588, grad=0.0000), Var(v=-0.0539, grad=0.0000), Var(v=0.0451, grad=0.0000), Var(v=-0.0952, grad=0.0000), Var(v=0.1854, grad=0.0000), Var(v=0.2100, grad=0.0000), Var(v=-0.0832, grad=0.0000), Var(v=-0.1009, grad=0.0000), Var(v=-0.0332, grad=0.0000), Var(v=-0.0929, grad=0.0000), Var(v=0.0597, grad=0.0000), Var(v=-0.1152, grad=0.0000), Var(v=0.0481, grad=0.0000), Var(v=-0.2010, grad=0.0000), Var(v=-0.1083, grad=0.0000), Var(v=0.0929, grad=0.0000), Var(v=0.0432, grad=0.0000), Var(v=0.0297, grad=0.0000), Var(v=-0.0576, grad=0.0000), Var(v=0.0239, grad=0.0000), Var(v=-0.1008, grad=0.0000), Var(v=0.0740, grad=0.0000), Var(v=-0.0085, grad=0.0000), Var(v=-0.0511, grad=0.0000), Var(v=0.1200, grad=0.0000), Var(v=-0.1239, grad=0.0000), Var(v=-0.1585, grad=0.0000), Var(v=-0.0754, grad=0.0000), Var(v=-0.0518, grad=0.0000), Var(v=-0.1592, grad=0.0000), Var(v=-0.0774, grad=0.0000), Var(v=0.0144, grad=0.0000), Var(v=0.0729, grad=0.0000), Var(v=0.0101, grad=0.0000), Var(v=0.0373, grad=0.0000), Var(v=0.0716, grad=0.0000), Var(v=0.0354, grad=0.0000), Var(v=0.0301, grad=0.0000), Var(v=-0.1495, grad=0.0000)], [Var(v=0.0507, grad=0.0000), Var(v=0.0503, grad=0.0000), Var(v=-0.0721, grad=0.0000), Var(v=0.0334, grad=0.0000), Var(v=0.1289, grad=0.0000), Var(v=0.1475, grad=0.0000), Var(v=0.0130, grad=0.0000), Var(v=-0.1453, grad=0.0000), Var(v=0.0539, grad=0.0000), Var(v=0.1221, grad=0.0000), Var(v=0.0251, grad=0.0000), Var(v=-0.0835, grad=0.0000), Var(v=-0.0789, grad=0.0000), Var(v=0.0025, grad=0.0000), Var(v=-0.1858, grad=0.0000), Var(v=0.0142, grad=0.0000), Var(v=-0.0918, grad=0.0000), Var(v=-0.0374, grad=0.0000), Var(v=-0.0354, grad=0.0000), Var(v=-0.0802, grad=0.0000), Var(v=0.0917, grad=0.0000), Var(v=-0.0257, grad=0.0000), Var(v=-0.1245, grad=0.0000), Var(v=0.0762, grad=0.0000), Var(v=-0.0701, grad=0.0000), Var(v=-0.0110, grad=0.0000), Var(v=0.0312, grad=0.0000), Var(v=0.1503, grad=0.0000), Var(v=0.1956, grad=0.0000), Var(v=0.1526, grad=0.0000), Var(v=0.0561, grad=0.0000), Var(v=0.0345, grad=0.0000), Var(v=0.1410, grad=0.0000), Var(v=-0.0775, grad=0.0000), Var(v=0.1533, grad=0.0000), Var(v=0.0851, grad=0.0000), Var(v=-0.0192, grad=0.0000), Var(v=-0.0179, grad=0.0000), Var(v=-0.0392, grad=0.0000), Var(v=0.0220, grad=0.0000), Var(v=0.0464, grad=0.0000), Var(v=0.0540, grad=0.0000), Var(v=-0.2020, grad=0.0000), Var(v=0.0818, grad=0.0000), Var(v=-0.1642, grad=0.0000), Var(v=-0.0884, grad=0.0000), Var(v=-0.0212, grad=0.0000), Var(v=-0.1518, grad=0.0000), Var(v=0.0751, grad=0.0000), Var(v=0.0329, grad=0.0000)], [Var(v=-0.0638, grad=0.0000), Var(v=-0.0846, grad=0.0000), Var(v=0.2217, grad=0.0000), Var(v=-0.0679, grad=0.0000), Var(v=-0.0053, grad=0.0000), Var(v=0.0237, grad=0.0000), Var(v=0.1355, grad=0.0000), Var(v=0.0759, grad=0.0000), Var(v=0.0677, grad=0.0000), Var(v=-0.0114, grad=0.0000), Var(v=-0.0042, grad=0.0000), Var(v=-0.1434, grad=0.0000), Var(v=-0.0367, grad=0.0000), Var(v=0.2388, grad=0.0000), Var(v=0.0969, grad=0.0000), Var(v=-0.0511, grad=0.0000), Var(v=-0.0806, grad=0.0000), Var(v=0.0599, grad=0.0000), Var(v=-0.0298, grad=0.0000), Var(v=0.2024, grad=0.0000), Var(v=0.0554, grad=0.0000), Var(v=0.1907, grad=0.0000), Var(v=-0.0614, grad=0.0000), Var(v=-0.0322, grad=0.0000), Var(v=0.1203, grad=0.0000), Var(v=-0.1174, grad=0.0000), Var(v=-0.1590, grad=0.0000), Var(v=0.1252, grad=0.0000), Var(v=-0.0380, grad=0.0000), Var(v=-0.1101, grad=0.0000), Var(v=0.0230, grad=0.0000), Var(v=-0.0875, grad=0.0000), Var(v=0.1206, grad=0.0000), Var(v=-0.0815, grad=0.0000), Var(v=-0.0601, grad=0.0000), Var(v=0.1449, grad=0.0000), Var(v=0.0819, grad=0.0000), Var(v=-0.0211, grad=0.0000), Var(v=-0.0017, grad=0.0000), Var(v=0.0002, grad=0.0000), Var(v=-0.0123, grad=0.0000), Var(v=0.0246, grad=0.0000), Var(v=0.0784, grad=0.0000), Var(v=0.0998, grad=0.0000), Var(v=-0.0030, grad=0.0000), Var(v=0.0307, grad=0.0000), Var(v=0.0658, grad=0.0000), Var(v=0.0096, grad=0.0000), Var(v=-0.0381, grad=0.0000), Var(v=0.0399, grad=0.0000)], [Var(v=-0.1040, grad=0.0000), Var(v=0.1496, grad=0.0000), Var(v=0.1103, grad=0.0000), Var(v=0.0746, grad=0.0000), Var(v=0.0416, grad=0.0000), Var(v=-0.0435, grad=0.0000), Var(v=-0.1686, grad=0.0000), Var(v=-0.0801, grad=0.0000), Var(v=0.0528, grad=0.0000), Var(v=0.0330, grad=0.0000), Var(v=-0.2518, grad=0.0000), Var(v=-0.0199, grad=0.0000), Var(v=-0.1045, grad=0.0000), Var(v=0.2062, grad=0.0000), Var(v=0.0249, grad=0.0000), Var(v=-0.1450, grad=0.0000), Var(v=0.0844, grad=0.0000), Var(v=0.2314, grad=0.0000), Var(v=-0.0970, grad=0.0000), Var(v=-0.1414, grad=0.0000), Var(v=0.0885, grad=0.0000), Var(v=0.0222, grad=0.0000), Var(v=0.0281, grad=0.0000), Var(v=0.0864, grad=0.0000), Var(v=-0.0791, grad=0.0000), Var(v=0.2628, grad=0.0000), Var(v=0.0704, grad=0.0000), Var(v=-0.0202, grad=0.0000), Var(v=-0.1206, grad=0.0000), Var(v=-0.0274, grad=0.0000), Var(v=0.1370, grad=0.0000), Var(v=0.1625, grad=0.0000), Var(v=0.0838, grad=0.0000), Var(v=-0.0278, grad=0.0000), Var(v=0.1544, grad=0.0000), Var(v=-0.0664, grad=0.0000), Var(v=-0.2355, grad=0.0000), Var(v=-0.0590, grad=0.0000), Var(v=-0.0566, grad=0.0000), Var(v=0.0584, grad=0.0000), Var(v=0.0721, grad=0.0000), Var(v=0.0671, grad=0.0000), Var(v=-0.0446, grad=0.0000), Var(v=-0.2033, grad=0.0000), Var(v=0.1116, grad=0.0000), Var(v=-0.1152, grad=0.0000), Var(v=0.0053, grad=0.0000), Var(v=0.1030, grad=0.0000), Var(v=-0.0772, grad=0.0000), Var(v=-0.0385, grad=0.0000)], [Var(v=0.1311, grad=0.0000), Var(v=0.0412, grad=0.0000), Var(v=-0.0295, grad=0.0000), Var(v=-0.0154, grad=0.0000), Var(v=0.0325, grad=0.0000), Var(v=-0.0577, grad=0.0000), Var(v=0.0143, grad=0.0000), Var(v=0.1086, grad=0.0000), Var(v=-0.0945, grad=0.0000), Var(v=-0.0248, grad=0.0000), Var(v=-0.0534, grad=0.0000), Var(v=-0.0200, grad=0.0000), Var(v=-0.0699, grad=0.0000), Var(v=0.0723, grad=0.0000), Var(v=-0.1015, grad=0.0000), Var(v=-0.0773, grad=0.0000), Var(v=-0.0362, grad=0.0000), Var(v=0.0752, grad=0.0000), Var(v=0.1770, grad=0.0000), Var(v=-0.0402, grad=0.0000), Var(v=-0.1344, grad=0.0000), Var(v=0.0120, grad=0.0000), Var(v=-0.0607, grad=0.0000), Var(v=0.0515, grad=0.0000), Var(v=-0.1299, grad=0.0000), Var(v=-0.1734, grad=0.0000), Var(v=-0.0496, grad=0.0000), Var(v=0.0332, grad=0.0000), Var(v=0.1537, grad=0.0000), Var(v=-0.0356, grad=0.0000), Var(v=0.0722, grad=0.0000), Var(v=-0.0132, grad=0.0000), Var(v=-0.0474, grad=0.0000), Var(v=0.1336, grad=0.0000), Var(v=0.0895, grad=0.0000), Var(v=0.1380, grad=0.0000), Var(v=-0.1497, grad=0.0000), Var(v=-0.0147, grad=0.0000), Var(v=0.1960, grad=0.0000), Var(v=-0.0366, grad=0.0000), Var(v=-0.0442, grad=0.0000), Var(v=-0.2301, grad=0.0000), Var(v=-0.0120, grad=0.0000), Var(v=-0.0609, grad=0.0000), Var(v=-0.0388, grad=0.0000), Var(v=-0.0448, grad=0.0000), Var(v=0.0388, grad=0.0000), Var(v=-0.0312, grad=0.0000), Var(v=0.0739, grad=0.0000), Var(v=-0.0992, grad=0.0000)], [Var(v=0.1086, grad=0.0000), Var(v=-0.0942, grad=0.0000), Var(v=0.0453, grad=0.0000), Var(v=-0.1056, grad=0.0000), Var(v=0.0085, grad=0.0000), Var(v=0.0509, grad=0.0000), Var(v=0.0853, grad=0.0000), Var(v=-0.0253, grad=0.0000), Var(v=-0.1067, grad=0.0000), Var(v=-0.1141, grad=0.0000), Var(v=-0.1572, grad=0.0000), Var(v=-0.0239, grad=0.0000), Var(v=-0.0021, grad=0.0000), Var(v=-0.0426, grad=0.0000), Var(v=0.0149, grad=0.0000), Var(v=0.1210, grad=0.0000), Var(v=0.0389, grad=0.0000), Var(v=-0.0004, grad=0.0000), Var(v=-0.0352, grad=0.0000), Var(v=-0.1646, grad=0.0000), Var(v=0.0904, grad=0.0000), Var(v=-0.0104, grad=0.0000), Var(v=0.0736, grad=0.0000), Var(v=0.0506, grad=0.0000), Var(v=-0.2314, grad=0.0000), Var(v=0.0157, grad=0.0000), Var(v=0.0725, grad=0.0000), Var(v=0.0646, grad=0.0000), Var(v=-0.1390, grad=0.0000), Var(v=-0.0091, grad=0.0000), Var(v=0.0732, grad=0.0000), Var(v=0.0320, grad=0.0000), Var(v=-0.0747, grad=0.0000), Var(v=0.1116, grad=0.0000), Var(v=0.0233, grad=0.0000), Var(v=0.1400, grad=0.0000), Var(v=0.0207, grad=0.0000), Var(v=0.0722, grad=0.0000), Var(v=-0.1284, grad=0.0000), Var(v=0.0898, grad=0.0000), Var(v=0.1089, grad=0.0000), Var(v=0.0574, grad=0.0000), Var(v=0.0888, grad=0.0000), Var(v=0.0210, grad=0.0000), Var(v=0.1734, grad=0.0000), Var(v=0.0451, grad=0.0000), Var(v=-0.0222, grad=0.0000), Var(v=-0.1302, grad=0.0000), Var(v=-0.0228, grad=0.0000), Var(v=0.1471, grad=0.0000)], [Var(v=0.0706, grad=0.0000), Var(v=0.1097, grad=0.0000), Var(v=-0.0971, grad=0.0000), Var(v=0.0332, grad=0.0000), Var(v=0.1442, grad=0.0000), Var(v=-0.1274, grad=0.0000), Var(v=-0.0195, grad=0.0000), Var(v=0.1100, grad=0.0000), Var(v=-0.0820, grad=0.0000), Var(v=-0.0541, grad=0.0000), Var(v=0.0419, grad=0.0000), Var(v=-0.0365, grad=0.0000), Var(v=0.0385, grad=0.0000), Var(v=-0.0405, grad=0.0000), Var(v=-0.0071, grad=0.0000), Var(v=-0.1898, grad=0.0000), Var(v=0.0580, grad=0.0000), Var(v=-0.0196, grad=0.0000), Var(v=-0.0187, grad=0.0000), Var(v=-0.1114, grad=0.0000), Var(v=-0.0691, grad=0.0000), Var(v=0.1164, grad=0.0000), Var(v=-0.0557, grad=0.0000), Var(v=0.1233, grad=0.0000), Var(v=-0.1659, grad=0.0000), Var(v=-0.1711, grad=0.0000), Var(v=-0.1057, grad=0.0000), Var(v=0.1532, grad=0.0000), Var(v=-0.0999, grad=0.0000), Var(v=-0.0650, grad=0.0000), Var(v=-0.0295, grad=0.0000), Var(v=-0.1437, grad=0.0000), Var(v=0.1866, grad=0.0000), Var(v=-0.1178, grad=0.0000), Var(v=0.1096, grad=0.0000), Var(v=0.0243, grad=0.0000), Var(v=-0.0294, grad=0.0000), Var(v=0.1622, grad=0.0000), Var(v=-0.0620, grad=0.0000), Var(v=0.0691, grad=0.0000), Var(v=-0.0922, grad=0.0000), Var(v=0.1577, grad=0.0000), Var(v=0.0321, grad=0.0000), Var(v=-0.0898, grad=0.0000), Var(v=0.1097, grad=0.0000), Var(v=-0.0697, grad=0.0000), Var(v=0.2058, grad=0.0000), Var(v=0.1297, grad=0.0000), Var(v=-0.0462, grad=0.0000), Var(v=0.0516, grad=0.0000)], [Var(v=-0.0312, grad=0.0000), Var(v=-0.0528, grad=0.0000), Var(v=-0.0359, grad=0.0000), Var(v=0.0180, grad=0.0000), Var(v=0.0344, grad=0.0000), Var(v=0.1149, grad=0.0000), Var(v=-0.0815, grad=0.0000), Var(v=-0.0062, grad=0.0000), Var(v=-0.0574, grad=0.0000), Var(v=-0.0390, grad=0.0000), Var(v=-0.1451, grad=0.0000), Var(v=0.1220, grad=0.0000), Var(v=-0.0484, grad=0.0000), Var(v=0.0169, grad=0.0000), Var(v=-0.1119, grad=0.0000), Var(v=0.1007, grad=0.0000), Var(v=-0.0067, grad=0.0000), Var(v=-0.0424, grad=0.0000), Var(v=-0.0097, grad=0.0000), Var(v=0.0719, grad=0.0000), Var(v=-0.0496, grad=0.0000), Var(v=0.0154, grad=0.0000), Var(v=-0.0052, grad=0.0000), Var(v=-0.0490, grad=0.0000), Var(v=-0.0425, grad=0.0000), Var(v=-0.0073, grad=0.0000), Var(v=0.0303, grad=0.0000), Var(v=0.0655, grad=0.0000), Var(v=0.0258, grad=0.0000), Var(v=0.0609, grad=0.0000), Var(v=-0.2035, grad=0.0000), Var(v=0.0757, grad=0.0000), Var(v=-0.0765, grad=0.0000), Var(v=0.0542, grad=0.0000), Var(v=0.0658, grad=0.0000), Var(v=-0.0144, grad=0.0000), Var(v=-0.1273, grad=0.0000), Var(v=0.1351, grad=0.0000), Var(v=-0.0757, grad=0.0000), Var(v=0.0756, grad=0.0000), Var(v=0.0386, grad=0.0000), Var(v=0.0433, grad=0.0000), Var(v=0.0419, grad=0.0000), Var(v=-0.0470, grad=0.0000), Var(v=-0.0455, grad=0.0000), Var(v=0.0363, grad=0.0000), Var(v=0.0439, grad=0.0000), Var(v=-0.0868, grad=0.0000), Var(v=-0.0440, grad=0.0000), Var(v=-0.0281, grad=0.0000)]] Biases: [Var(v=-0.0092, grad=0.0000), Var(v=0.0004, grad=0.0000), Var(v=0.0001, grad=0.0000), Var(v=-0.1557, grad=0.0000), Var(v=0.0384, grad=0.0000), Var(v=-0.0507, grad=0.0000), Var(v=0.0000, grad=0.0000), Var(v=0.0000, grad=0.0000), Var(v=0.0004, grad=0.0000), Var(v=0.0002, grad=0.0000), Var(v=-0.0738, grad=0.0000), Var(v=-0.0415, grad=0.0000), Var(v=0.0166, grad=0.0000), Var(v=-0.0004, grad=0.0000), Var(v=0.0000, grad=0.0000), Var(v=0.0008, grad=0.0000), Var(v=0.0634, grad=0.0000), Var(v=0.0000, grad=0.0000), Var(v=0.0064, grad=0.0000), Var(v=0.0436, grad=0.0000), Var(v=-0.0101, grad=0.0000), Var(v=-0.0000, grad=0.0000), Var(v=0.0000, grad=0.0000), Var(v=-0.0005, grad=0.0000), Var(v=0.0000, grad=0.0000), Var(v=0.0000, grad=0.0000), Var(v=-0.0005, grad=0.0000), Var(v=-0.0000, grad=0.0000), Var(v=0.0001, grad=0.0000), Var(v=0.0000, grad=0.0000), Var(v=0.0000, grad=0.0000), Var(v=0.0000, grad=0.0000), Var(v=-0.0005, grad=0.0000), Var(v=0.0000, grad=0.0000), Var(v=0.1394, grad=0.0000), Var(v=0.0002, grad=0.0000), Var(v=-0.1592, grad=0.0000), Var(v=0.1104, grad=0.0000), Var(v=0.0000, grad=0.0000), Var(v=-0.0002, grad=0.0000), Var(v=0.0000, grad=0.0000), Var(v=0.0000, grad=0.0000), Var(v=0.0000, grad=0.0000), Var(v=-0.1549, grad=0.0000), Var(v=0.0164, grad=0.0000), Var(v=-0.0645, grad=0.0000), Var(v=0.0000, grad=0.0000), Var(v=0.0000, grad=0.0000), Var(v=-0.0543, grad=0.0000), Var(v=-0.1050, grad=0.0000)]\n",
      "Layer 2 \n",
      " Weights: [[Var(v=0.0372, grad=0.0000)], [Var(v=-0.0392, grad=0.0000)], [Var(v=-0.0339, grad=0.0000)], [Var(v=-0.1340, grad=0.0000)], [Var(v=0.0646, grad=0.0000)], [Var(v=-0.0367, grad=0.0000)], [Var(v=-0.0388, grad=0.0000)], [Var(v=-0.0275, grad=0.0000)], [Var(v=-0.0699, grad=0.0000)], [Var(v=-0.0400, grad=0.0000)], [Var(v=-0.0481, grad=0.0000)], [Var(v=0.0053, grad=0.0000)], [Var(v=0.0239, grad=0.0000)], [Var(v=0.0759, grad=0.0000)], [Var(v=0.0950, grad=0.0000)], [Var(v=-0.0622, grad=0.0000)], [Var(v=-0.1054, grad=0.0000)], [Var(v=-0.1555, grad=0.0000)], [Var(v=0.0480, grad=0.0000)], [Var(v=-0.0567, grad=0.0000)], [Var(v=-0.0006, grad=0.0000)], [Var(v=0.0324, grad=0.0000)], [Var(v=-0.1761, grad=0.0000)], [Var(v=0.1084, grad=0.0000)], [Var(v=-0.0060, grad=0.0000)], [Var(v=-0.0697, grad=0.0000)], [Var(v=-0.0187, grad=0.0000)], [Var(v=0.0469, grad=0.0000)], [Var(v=0.0410, grad=0.0000)], [Var(v=-0.0384, grad=0.0000)], [Var(v=-0.0104, grad=0.0000)], [Var(v=0.0343, grad=0.0000)], [Var(v=0.1593, grad=0.0000)], [Var(v=0.1480, grad=0.0000)], [Var(v=0.2242, grad=0.0000)], [Var(v=0.0109, grad=0.0000)], [Var(v=-0.1691, grad=0.0000)], [Var(v=0.1378, grad=0.0000)], [Var(v=-0.0433, grad=0.0000)], [Var(v=0.0536, grad=0.0000)], [Var(v=-0.0957, grad=0.0000)], [Var(v=-0.0602, grad=0.0000)], [Var(v=0.2151, grad=0.0000)], [Var(v=0.1619, grad=0.0000)], [Var(v=-0.0247, grad=0.0000)], [Var(v=0.0485, grad=0.0000)], [Var(v=0.0092, grad=0.0000)], [Var(v=-0.0160, grad=0.0000)], [Var(v=-0.0591, grad=0.0000)], [Var(v=-0.1024, grad=0.0000)]] Biases: [Var(v=-0.0055, grad=0.0000)]\n"
     ]
    },
    {
     "data": {
      "text/plain": [
       "[None, None, None]"
      ]
     },
     "execution_count": 264,
     "metadata": {},
     "output_type": "execute_result"
    }
   ],
   "source": [
    "print('Network before update:')\n",
    "[print('Layer', i, '\\n', NN[i]) for i in range(len(NN))] \n",
    "\n",
    "def parameters(network):\n",
    "  params = []\n",
    "  for layer in range(len(network)):\n",
    "    params += network[layer].parameters()\n",
    "  return params\n",
    "\n",
    "def update_parameters(params, learning_rate=0.01):\n",
    "  for p in params:\n",
    "    p.v -= learning_rate*p.grad\n",
    "\n",
    "def zero_gradients(params):\n",
    "  for p in params:\n",
    "    p.grad = 0.0\n",
    "\n",
    "update_parameters(parameters(NN))\n",
    "\n",
    "print('\\nNetwork after update:')\n",
    "[print('Layer', i, '\\n', NN[i]) for i in range(len(NN))] \n",
    "\n",
    "zero_gradients(parameters(NN))\n",
    "\n",
    "print('\\nNetwork after zeroing gradients:')\n",
    "[print('Layer', i, '\\n', NN[i]) for i in range(len(NN))] "
   ]
  },
  {
   "cell_type": "code",
   "execution_count": 265,
   "metadata": {
    "id": "woWYpdw6FtIO"
   },
   "outputs": [],
   "source": [
    "# Initialize an arbitrary neural network\n",
    "NN = [\n",
    "    DenseLayer(1, 8, lambda x: x.relu()),\n",
    "    DenseLayer(8, 1, lambda x: x.identity())\n",
    "]\n",
    "\n",
    "# Recommended hyper-parameters for 3-D: \n",
    "#NN = [\n",
    "#    DenseLayer(3, 16, lambda x: x.relu()),\n",
    "#    DenseLayer(16, 1, lambda x: x.identity())\n",
    "#]\n",
    "\n",
    "\n",
    "### Notice that, when we switch from tanh to relu activation, we decrease the learning rate. This is due the stability of the gradients \n",
    "## of the activation functions."
   ]
  },
  {
   "cell_type": "code",
   "execution_count": 266,
   "metadata": {
    "id": "mdqaqYBVFtIR"
   },
   "outputs": [],
   "source": [
    "# Initialize training hyperparameters\n",
    "EPOCHS = 200\n",
    "LEARN_R = 2e-3 "
   ]
  },
  {
   "cell_type": "code",
   "execution_count": 267,
   "metadata": {
    "colab": {
     "base_uri": "https://localhost:8080/"
    },
    "id": "5kfg76GMFtIW",
    "outputId": "e30cf68a-31f2-42b4-cc5e-860c297c0f04",
    "scrolled": true
   },
   "outputs": [
    {
     "name": "stdout",
     "output_type": "stream",
     "text": [
      "   0 ( 0.00%) Train loss: 106.683 \t Validation loss: 105.573\n",
      "  10 ( 5.00%) Train loss: 30.031 \t Validation loss: 22.839\n",
      "  20 (10.00%) Train loss: 13.752 \t Validation loss: 10.693\n",
      "  30 (15.00%) Train loss: 13.182 \t Validation loss: 10.106\n",
      "  40 (20.00%) Train loss: 12.881 \t Validation loss: 9.724\n",
      "  50 (25.00%) Train loss: 12.643 \t Validation loss: 9.389\n",
      "  60 (30.00%) Train loss: 12.477 \t Validation loss: 9.160\n",
      "  70 (35.00%) Train loss: 12.348 \t Validation loss: 9.007\n",
      "  80 (40.00%) Train loss: 12.250 \t Validation loss: 8.952\n",
      "  90 (45.00%) Train loss: 12.160 \t Validation loss: 8.931\n",
      " 100 (50.00%) Train loss: 12.088 \t Validation loss: 8.912\n",
      " 110 (55.00%) Train loss: 12.042 \t Validation loss: 8.905\n",
      " 120 (60.00%) Train loss: 11.997 \t Validation loss: 8.931\n",
      " 130 (65.00%) Train loss: 11.952 \t Validation loss: 8.960\n",
      " 140 (70.00%) Train loss: 11.907 \t Validation loss: 8.992\n",
      " 150 (75.00%) Train loss: 11.899 \t Validation loss: 8.982\n",
      " 160 (80.00%) Train loss: 11.896 \t Validation loss: 8.988\n",
      " 170 (85.00%) Train loss: 11.894 \t Validation loss: 8.993\n",
      " 180 (90.00%) Train loss: 11.893 \t Validation loss: 8.998\n",
      " 190 (95.00%) Train loss: 11.893 \t Validation loss: 9.003\n"
     ]
    }
   ],
   "source": [
    "train_loss = []\n",
    "val_loss = []\n",
    "\n",
    "for e in range(EPOCHS):\n",
    "     \n",
    "    # Forward pass and loss computation\n",
    "    Loss = squared_loss(y_train, forward(x_train, NN))\n",
    "\n",
    "    # Backward pass\n",
    "    Loss.backward()\n",
    "    \n",
    "    # gradient descent update\n",
    "    update_parameters(parameters(NN), LEARN_R)\n",
    "    zero_gradients(parameters(NN))\n",
    "    \n",
    "    # Training loss\n",
    "    train_loss.append(Loss.v)\n",
    "    \n",
    "    # Validation\n",
    "    Loss_validation = squared_loss(y_validation, forward(x_validation, NN))\n",
    "    val_loss.append(Loss_validation.v)\n",
    "    \n",
    "    if e%10==0:\n",
    "        print(\"{:4d}\".format(e),\n",
    "              \"({:5.2f}%)\".format(e/EPOCHS*100), \n",
    "              \"Train loss: {:4.3f} \\t Validation loss: {:4.3f}\".format(train_loss[-1], val_loss[-1]))\n",
    "        \n"
   ]
  },
  {
   "cell_type": "code",
   "execution_count": 270,
   "metadata": {
    "colab": {
     "base_uri": "https://localhost:8080/",
     "height": 265
    },
    "id": "VetyRWFwFtIY",
    "outputId": "344e490d-6d7d-455a-fa6f-88dd11eb957e"
   },
   "outputs": [
    {
     "data": {
      "text/plain": [
       "[<matplotlib.lines.Line2D at 0x123d1c650>]"
      ]
     },
     "execution_count": 270,
     "metadata": {},
     "output_type": "execute_result"
    },
    {
     "data": {
      "image/png": "[encoded data removed]",
      "text/plain": [
       "<Figure size 640x480 with 1 Axes>"
      ]
     },
     "metadata": {},
     "output_type": "display_data"
    }
   ],
   "source": [
    "plt.plot(range(len(train_loss)), train_loss)\n",
    "plt.plot(range(len(val_loss)), val_loss)"
   ]
  },
  {
   "cell_type": "markdown",
   "metadata": {
    "id": "8OgmIrM9FtIb"
   },
   "source": [
    "# Testing\n",
    "\n",
    "We have kept the calculation of the test error separate in order to emphasize that you should not use the test set in optimization."
   ]
  },
  {
   "cell_type": "code",
   "execution_count": 271,
   "metadata": {
    "id": "HmNi7S-vFtIc"
   },
   "outputs": [],
   "source": [
    "output_test = forward(x_test, NN)"
   ]
  },
  {
   "cell_type": "code",
   "execution_count": 272,
   "metadata": {
    "colab": {
     "base_uri": "https://localhost:8080/",
     "height": 316
    },
    "id": "7mmJOTSEFtIf",
    "outputId": "e3264095-cefe-4aee-893d-bf152438e332"
   },
   "outputs": [
    {
     "name": "stdout",
     "output_type": "stream",
     "text": [
      "Test loss:  9.815\n"
     ]
    },
    {
     "data": {
      "image/png": "[encoded data removed]",
      "text/plain": [
       "<Figure size 640x480 with 1 Axes>"
      ]
     },
     "metadata": {},
     "output_type": "display_data"
    }
   ],
   "source": [
    "y_test_np = Var_to_nparray(y_test)\n",
    "plt.scatter(y_test_np, Var_to_nparray(output_test));\n",
    "plt.plot([np.min(y_test_np), np.max(y_test_np)], [np.min(y_test_np), np.max(y_test_np)], color='k');\n",
    "plt.xlabel(\"y\");\n",
    "plt.ylabel(\"$\\hat{y}$\");\n",
    "plt.title(\"Model prediction vs real in the test set, the close to the line the better\")\n",
    "plt.grid(True);\n",
    "plt.axis('equal');\n",
    "plt.tight_layout();\n",
    "\n",
    "Loss_test = squared_loss(y_test, forward(x_test, NN))\n",
    "\n",
    "print(\"Test loss:  {:4.3f}\".format(Loss_test.v))"
   ]
  },
  {
   "cell_type": "code",
   "execution_count": 273,
   "metadata": {
    "colab": {
     "base_uri": "https://localhost:8080/",
     "height": 279
    },
    "id": "ODi0WlmQFtIh",
    "outputId": "d1ab874f-0717-4987-87bf-1f0c7c8e7148"
   },
   "outputs": [
    {
     "data": {
      "image/png": "[encoded data removed]",
      "text/plain": [
       "<Figure size 640x480 with 1 Axes>"
      ]
     },
     "metadata": {},
     "output_type": "display_data"
    }
   ],
   "source": [
    "x_test_np = Var_to_nparray(x_test)\n",
    "x_train_np = Var_to_nparray(x_train)\n",
    "y_train_np = Var_to_nparray(y_train)\n",
    "if D1:\n",
    "    plt.scatter(x_train_np, y_train_np, label=\"train data\");\n",
    "    plt.scatter(x_test_np, Var_to_nparray(output_test), label=\"test prediction\");\n",
    "    plt.scatter(x_test_np, y_test_np, label=\"test data\");\n",
    "    plt.legend();\n",
    "    plt.xlabel(\"x\");\n",
    "    plt.ylabel(\"y\");\n",
    "else:\n",
    "    plt.scatter(x_train_np[:,1], y_train, label=\"train data\");\n",
    "    plt.scatter(x_test_np[:,1], Var_to_nparray(output_test), label=\"test data prediction\");\n",
    "    plt.scatter(x_test_np[:,1], y_test_np, label=\"test data\");\n",
    "    plt.legend();\n",
    "    plt.xlabel(\"x\");\n",
    "    plt.ylabel(\"y\");"
   ]
  },
  {
   "cell_type": "markdown",
   "metadata": {
    "id": "zTBAmjsAFtIk"
   },
   "source": [
    "## Exercise l) Show overfitting, underfitting and just right fitting\n",
    "\n",
    "Vary the architecture and other things to show clear signs of overfitting (=training loss significantly lower than test loss) and underfitting (=not fitting enoung to training data so that test performance is also hurt).\n",
    "\n",
    "See also if you can get a good compromise which leads to a low validation loss. \n",
    "\n",
    "For this problem do you see any big difference between validation and test loss? The answer here will probably be no. Discuss cases where it is important to keep the two separate.\n",
    "\n",
    "_Insert written answer here._\n"
   ]
  },
  {
   "cell_type": "code",
   "execution_count": null,
   "metadata": {
    "id": "tQZCn2dxFtIl"
   },
   "outputs": [],
   "source": [
    "# Insert your code for getting overfitting, underfitting and just right fittingb"
   ]
  },
  {
   "cell_type": "markdown",
   "metadata": {
    "id": "fYPZP-eTFtIo"
   },
   "source": [
    "# Next steps - classification\n",
    "\n",
    "It is straight forward to extend what we have done to classification. \n",
    "\n",
    "For numerical stability it is better to make softmax and cross-entropy as one function so we write the cross entropy loss as a function of the logits we talked about last week. \n",
    "\n",
    "Next week we will see how to perform classification in PyTorch."
   ]
  },
  {
   "cell_type": "markdown",
   "metadata": {
    "id": "qsVPul3QFtIo"
   },
   "source": [
    "## Exercise m) optional - Implement backpropagation for classification\n",
    "\n",
    "Should be possible with very few lines of code. :-)"
   ]
  },
  {
   "cell_type": "code",
   "execution_count": null,
   "metadata": {
    "id": "oC8QrI2tFtIp"
   },
   "outputs": [],
   "source": []
  },
  {
   "cell_type": "markdown",
   "metadata": {
    "id": "APqhJv3tta1O"
   },
   "source": [
    "## Exercise n) optional - Introduce a NeuralNetwork class\n",
    "\n",
    "The functions we applied on the neural network (parameters, update_parameters and zero_gradients) can more naturally be included as methods in a NeuralNetwork class. Make such a class and modify the code to use it. "
   ]
  },
  {
   "cell_type": "code",
   "execution_count": null,
   "metadata": {
    "id": "Dqfnor1ouMLq"
   },
   "outputs": [],
   "source": [
    "# just add some code"
   ]
  }
 ],
 "metadata": {
  "anaconda-cloud": {},
  "colab": {
   "collapsed_sections": [
    "U4057_ljNvWB",
    "p_8n_SKnIW2F",
    "oLrGJytZFtGm",
    "jpIZPBpNI0pO",
    "_79HOAXrFtHK",
    "mqeyab9qFtGs",
    "-XyXBD37FtHk",
    "SrwSJ2UWFtHu",
    "zTBAmjsAFtIk",
    "qsVPul3QFtIo",
    "APqhJv3tta1O"
   ],
   "name": "2.1-EXE-FNN-AutoDif-Nanograd.ipynb",
   "provenance": []
  },
  "kernelspec": {
   "display_name": "DTU_machine-learning",
   "language": "python",
   "name": "python3"
  },
  "language_info": {
   "codemirror_mode": {
    "name": "ipython",
    "version": 3
   },
   "file_extension": ".py",
   "mimetype": "text/x-python",
   "name": "python",
   "nbconvert_exporter": "python",
   "pygments_lexer": "ipython3",
   "version": "3.11.13"
  }
 },
 "nbformat": 4,
 "nbformat_minor": 4
}
