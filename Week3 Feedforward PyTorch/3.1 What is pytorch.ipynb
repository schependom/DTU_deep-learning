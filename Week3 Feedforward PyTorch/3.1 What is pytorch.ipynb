{
 "cells": [
  {
   "cell_type": "markdown",
   "metadata": {},
   "source": [
    "# Credits\n",
    "\n",
    "This is heavily based on https://github.com/pytorch/tutorials"
   ]
  },
  {
   "cell_type": "markdown",
   "metadata": {},
   "source": [
    "# What is PyTorch?\n",
    "\n",
    "> **NOTE** In the last part of this lab cuda is used.\n",
    "\n",
    "\n",
    "PyTorch a Python based scientific computing package targeted at two sets of\n",
    "audiences:\n",
    "-  A replacement for numpy to use the power of GPUs\n",
    "-  a deep learning research platform that provides maximum flexibility and speed\n"
   ]
  },
  {
   "cell_type": "markdown",
   "metadata": {},
   "source": [
    "# Getting Started\n",
    "\n",
    "In this lab you will get a quick start on what pytorch is and how to use it.\n",
    "\n",
    "## 1. Tensors\n",
    "\n",
    "Tensors are similar to numpy’s `ndarray`s, with the addition being that\\\n",
    "**Tensors can also be used on a GPU to accelerate computing.**"
   ]
  },
  {
   "cell_type": "code",
   "execution_count": 3,
   "metadata": {},
   "outputs": [],
   "source": [
    "import torch"
   ]
  },
  {
   "cell_type": "markdown",
   "metadata": {},
   "source": [
    "Construct a $5\\times 3$ matrix, uninitialized"
   ]
  },
  {
   "cell_type": "code",
   "execution_count": null,
   "metadata": {
    "scrolled": false
   },
   "outputs": [
    {
     "name": "stdout",
     "output_type": "stream",
     "text": [
      "tensor([[0., 0., 0.],\n",
      "        [0., 0., 0.],\n",
      "        [0., 0., 0.],\n",
      "        [0., 0., 0.],\n",
      "        [0., 0., 0.]])\n"
     ]
    }
   ],
   "source": [
    "x = torch.Tensor(5, 3) # similar to np.empty((5, 3))\n",
    "print(x)"
   ]
  },
  {
   "cell_type": "markdown",
   "metadata": {},
   "source": [
    "Construct a randomly initialized matrix"
   ]
  },
  {
   "cell_type": "code",
   "execution_count": 9,
   "metadata": {},
   "outputs": [
    {
     "name": "stdout",
     "output_type": "stream",
     "text": [
      "tensor([[0.3635, 0.0261, 0.3780],\n",
      "        [0.0348, 0.1365, 0.7651],\n",
      "        [0.3471, 0.5254, 0.1479],\n",
      "        [0.7657, 0.8034, 0.3563],\n",
      "        [0.0611, 0.4186, 0.8978]])\n"
     ]
    }
   ],
   "source": [
    "x = torch.rand(5, 3)\n",
    "y = torch.rand(5, 3)\n",
    "print(y)"
   ]
  },
  {
   "cell_type": "markdown",
   "metadata": {},
   "source": [
    "Get its size"
   ]
  },
  {
   "cell_type": "code",
   "execution_count": 12,
   "metadata": {},
   "outputs": [
    {
     "name": "stdout",
     "output_type": "stream",
     "text": [
      "torch.Size([5, 3])\n",
      "5\n",
      "3\n"
     ]
    }
   ],
   "source": [
    "print(x.size())\n",
    "\n",
    "size_tupel = x.size()\n",
    "print(size_tupel[0])\n",
    "print(size_tupel[1])"
   ]
  },
  {
   "cell_type": "markdown",
   "metadata": {},
   "source": [
    "**NOTE**: `torch.Size` is in fact a tuple, so it supports the same operations that a tuple supports."
   ]
  },
  {
   "cell_type": "code",
   "execution_count": 26,
   "metadata": {},
   "outputs": [
    {
     "name": "stdout",
     "output_type": "stream",
     "text": [
      "x before in-place modification: \n",
      "tensor([[0.1292, 0.7222, 0.6877, 0.4172, 0.6365],\n",
      "        [0.5493, 0.6457, 0.9821, 0.2053, 0.0072],\n",
      "        [0.4671, 0.5263, 0.5591, 0.6168, 0.1054]])\n",
      "After x[1:3] = 2\n",
      "tensor([[0.1292, 0.7222, 0.6877, 0.4172, 0.6365],\n",
      "        [2.0000, 2.0000, 2.0000, 2.0000, 2.0000],\n",
      "        [2.0000, 2.0000, 2.0000, 2.0000, 2.0000]])\n"
     ]
    }
   ],
   "source": [
    "x = torch.rand(3,5)\n",
    "print(f\"x before in-place modification: \\n{x}\")\n",
    "print(\"After x[1:3] = 2\")\n",
    "x[1:3] = 2 # rij 1 TOT (exclusief) rij 3 -> rij 0 TOT EN MET rij 1\n",
    "print(x)\n",
    "# last two rows are set to 2"
   ]
  },
  {
   "cell_type": "markdown",
   "metadata": {},
   "source": [
    "# Assignment\n",
    "\n",
    "Make use of the pytorch docs <http://pytorch.org/docs/torch>\n",
    "1. Make a tensor of size (2, 17)\n",
    "2. Make a torch.FloatTensor of size (3, 1)\n",
    "3. Make a torch.LongTensor of size (5, 2, 1)\n",
    "  - fill the entire tensor with 7s\n",
    "4. Make a torch.ByteTensor of size (5,)\n",
    "  - fill the middle 3 indices with ones such that it records [0, 1, 1, 1, 0]"
   ]
  },
  {
   "cell_type": "code",
   "execution_count": 27,
   "metadata": {},
   "outputs": [
    {
     "name": "stdout",
     "output_type": "stream",
     "text": [
      "tensor([[7., 7., 7., 7., 7., 7., 7.],\n",
      "        [7., 7., 7., 7., 7., 7., 7.]])\n",
      "tensor([0, 0, 0, 0, 0], dtype=torch.uint8)\n",
      "tensor([0, 1, 1, 1, 0], dtype=torch.uint8)\n"
     ]
    }
   ],
   "source": [
    "a = torch.Tensor(2,7) # empty tensor\n",
    "b = torch.FloatTensor(3,1) # empty float tensor\n",
    "c = torch.LongTensor(5,2,1) # empty long tensor\n",
    "\n",
    "# fill entire tensor with 7s\n",
    "a.fill_(7)\n",
    "print(a)\n",
    "\n",
    "# a byte tensor is a tensor where every position can take 8-bit values (0-255)\n",
    "byte_tensor = torch.ByteTensor(5,)\n",
    "print(byte_tensor)\n",
    "\n",
    "# try filling byte tensor with 256\n",
    "# byte_tensor.fill_(256) # overflow!!\n",
    "\n",
    "# fill middle 3 indices of byte_tensor with ones\n",
    "byte_tensor[1:4] = 1\n",
    "print(byte_tensor)"
   ]
  },
  {
   "cell_type": "markdown",
   "metadata": {},
   "source": [
    "## 2. Operations\n",
    "There are multiple syntaxes for operations. Let's see addition as an example:\n",
    "\n",
    "### 2.1 Addition: syntax 1"
   ]
  },
  {
   "cell_type": "code",
   "execution_count": 33,
   "metadata": {},
   "outputs": [
    {
     "name": "stdout",
     "output_type": "stream",
     "text": [
      "y = tensor([[0.3021, 0.0871, 0.5372],\n",
      "        [0.5728, 0.9258, 0.0838],\n",
      "        [0.9734, 0.8372, 0.0607],\n",
      "        [0.5304, 0.4488, 0.3672],\n",
      "        [0.2975, 0.9840, 0.6059]]), \n",
      "x = tensor([[0.2461, 0.7113, 0.6335],\n",
      "        [0.2902, 0.4799, 0.7063],\n",
      "        [0.3220, 0.1546, 0.7498],\n",
      "        [0.9692, 0.4251, 0.8293],\n",
      "        [0.3576, 0.6178, 0.8955]])\n",
      "x + y = tensor([[0.5483, 0.7984, 1.1708],\n",
      "        [0.8630, 1.4057, 0.7901],\n",
      "        [1.2955, 0.9918, 0.8105],\n",
      "        [1.4996, 0.8739, 1.1965],\n",
      "        [0.6551, 1.6017, 1.5015]])\n"
     ]
    }
   ],
   "source": [
    "x = torch.rand(5, 3)\n",
    "y = torch.rand(5, 3)\n",
    "print(f\"y = {y}, \\nx = {x}\")\n",
    "print(f\"x + y = {x + y}\")"
   ]
  },
  {
   "cell_type": "markdown",
   "metadata": {},
   "source": [
    "### 2.2 Addition: syntax 2"
   ]
  },
  {
   "cell_type": "code",
   "execution_count": 34,
   "metadata": {},
   "outputs": [
    {
     "name": "stdout",
     "output_type": "stream",
     "text": [
      "tensor([[0.5483, 0.7984, 1.1708],\n",
      "        [0.8630, 1.4057, 0.7901],\n",
      "        [1.2955, 0.9918, 0.8105],\n",
      "        [1.4996, 0.8739, 1.1965],\n",
      "        [0.6551, 1.6017, 1.5015]])\n"
     ]
    }
   ],
   "source": [
    "print(torch.add(x, y))"
   ]
  },
  {
   "cell_type": "markdown",
   "metadata": {},
   "source": [
    "### 2.3 Addition: giving an output tensor"
   ]
  },
  {
   "cell_type": "code",
   "execution_count": 35,
   "metadata": {},
   "outputs": [
    {
     "name": "stdout",
     "output_type": "stream",
     "text": [
      "tensor([[0.5483, 0.7984, 1.1708],\n",
      "        [0.8630, 1.4057, 0.7901],\n",
      "        [1.2955, 0.9918, 0.8105],\n",
      "        [1.4996, 0.8739, 1.1965],\n",
      "        [0.6551, 1.6017, 1.5015]])\n"
     ]
    }
   ],
   "source": [
    "result = torch.Tensor(5, 3)\n",
    "torch.add(x, y, out=result)\n",
    "print(result)"
   ]
  },
  {
   "cell_type": "markdown",
   "metadata": {},
   "source": [
    "### 2.4 Addition: in-place\n",
    "\n",
    "adds `x` to `y`"
   ]
  },
  {
   "cell_type": "code",
   "execution_count": 36,
   "metadata": {},
   "outputs": [
    {
     "name": "stdout",
     "output_type": "stream",
     "text": [
      "tensor([[0.5483, 0.7984, 1.1708],\n",
      "        [0.8630, 1.4057, 0.7901],\n",
      "        [1.2955, 0.9918, 0.8105],\n",
      "        [1.4996, 0.8739, 1.1965],\n",
      "        [0.6551, 1.6017, 1.5015]])\n"
     ]
    }
   ],
   "source": [
    "y.add_(x)\n",
    "print(y)"
   ]
  },
  {
   "cell_type": "markdown",
   "metadata": {},
   "source": [
    "**NOTE**: **Any operation that mutates a tensor in-place is post-fixed with an `_`**. For example: `x.copy_(y)`, `x.t_()`, `x.fill_()` will change `x`."
   ]
  },
  {
   "cell_type": "markdown",
   "metadata": {},
   "source": [
    "You can use standard numpy-like indexing with all bells and whistles!"
   ]
  },
  {
   "cell_type": "code",
   "execution_count": 37,
   "metadata": {},
   "outputs": [
    {
     "name": "stdout",
     "output_type": "stream",
     "text": [
      "tensor([0.7113, 0.4799, 0.1546, 0.4251, 0.6178])\n"
     ]
    }
   ],
   "source": [
    "print(x[:, 1])"
   ]
  },
  {
   "cell_type": "markdown",
   "metadata": {},
   "source": [
    "**Read later**: 100+ Tensor operations, including transposing, indexing, slicing, mathematical operations, linear algebra, random numbers, etc are described here <http://pytorch.org/docs/torch>"
   ]
  },
  {
   "cell_type": "markdown",
   "metadata": {},
   "source": [
    "# Assignment\n",
    "\n",
    "1. multiplication of two tensors (see [torch.Tensor.mul](http://pytorch.org/docs/master/tensors.html#torch.Tensor.mul))\n",
    "2. do the same, but inplace\n",
    "3. division of two tensors (see [torch.Tensor.div](http://pytorch.org/docs/master/tensors.html#torch.Tensor.div))\n",
    "4. perform a matrix multiplication of two tensors of size (2, 4) and (4, 2) with `@` operator or `torch.mm` function "
   ]
  },
  {
   "cell_type": "code",
   "execution_count": 38,
   "metadata": {},
   "outputs": [
    {
     "name": "stdout",
     "output_type": "stream",
     "text": [
      "tensor([[0.1381, 0.3209],\n",
      "        [0.5305, 0.0080],\n",
      "        [0.5872, 0.0240],\n",
      "        [0.2252, 0.3314]])\n",
      "tensor([[0.1381, 0.3209],\n",
      "        [0.5305, 0.0080],\n",
      "        [0.5872, 0.0240],\n",
      "        [0.2252, 0.3314]])\n",
      "tensor([[0.1381, 0.3209],\n",
      "        [0.5305, 0.0080],\n",
      "        [0.5872, 0.0240],\n",
      "        [0.2252, 0.3314]])\n",
      "tensor([[ 1.5471,  1.2877],\n",
      "        [ 1.2418,  4.3531],\n",
      "        [ 1.4893, 38.5696],\n",
      "        [ 1.8029,  1.0212]])\n",
      "tensor([[ 1.5471,  1.2877],\n",
      "        [ 1.2418,  4.3531],\n",
      "        [ 1.4893, 38.5696],\n",
      "        [ 1.8029,  1.0212]])\n",
      "tensor([[0.6464, 0.7766],\n",
      "        [0.8053, 0.2297],\n",
      "        [0.6715, 0.0259],\n",
      "        [0.5547, 0.9792]])\n",
      "tensor([[0.4483, 0.5230],\n",
      "        [0.8960, 0.6431]])\n",
      "tensor([[0.4483, 0.5230],\n",
      "        [0.8960, 0.6431]])\n"
     ]
    }
   ],
   "source": [
    "x = torch.rand(4, 2)\n",
    "y = torch.rand(4, 2)\n",
    "\n",
    "# multiplication\n",
    "print(x * y)\n",
    "print(torch.mul(x, y))\n",
    "\n",
    "# in place multiplication\n",
    "y.mul_(x)\n",
    "print(y)\n",
    "\n",
    "# division\n",
    "print(x / y)\n",
    "print(torch.div(x, y))\n",
    "\n",
    "# in place division\n",
    "y.div_(x)\n",
    "print(y)\n",
    "\n",
    "# matrix multiplication\n",
    "x = torch.rand(2, 3)\n",
    "y = torch.rand(3, 2)\n",
    "print(torch.mm(x, y))\n",
    "\n",
    "# or use the @ operator\n",
    "print(x @ y)\n",
    "\n",
    "# in place matrix multiplication is not supported\n",
    "# x.mm_(y) # error"
   ]
  },
  {
   "cell_type": "markdown",
   "metadata": {},
   "source": [
    "## 3. Numpy Bridge\n",
    "\n",
    "Converting a torch Tensor to a numpy array and vice versa is a breeze.\n",
    "\n",
    "The torch Tensor and numpy array will share their underlying memory locations, and changing one will change the other.\n",
    "\n",
    "### 3.1 Converting torch Tensor to numpy Array"
   ]
  },
  {
   "cell_type": "code",
   "execution_count": 43,
   "metadata": {},
   "outputs": [
    {
     "name": "stdout",
     "output_type": "stream",
     "text": [
      "tensor([1., 1., 1., 1., 1.])\n"
     ]
    }
   ],
   "source": [
    "a = torch.ones(5)\n",
    "print(a)"
   ]
  },
  {
   "cell_type": "code",
   "execution_count": 44,
   "metadata": {},
   "outputs": [
    {
     "name": "stdout",
     "output_type": "stream",
     "text": [
      "[1. 1. 1. 1. 1.]\n",
      "Type of b: <class 'numpy.ndarray'>\n"
     ]
    }
   ],
   "source": [
    "b = a.numpy() # convert to ndarray\n",
    "print(b)\n",
    "print(f\"Type of b: {type(b)}\")"
   ]
  },
  {
   "cell_type": "markdown",
   "metadata": {},
   "source": [
    "See how the numpy array changed in value: the `numpy()` method provides a *view* of the original tensor, not a copy."
   ]
  },
  {
   "cell_type": "code",
   "execution_count": null,
   "metadata": {},
   "outputs": [
    {
     "name": "stdout",
     "output_type": "stream",
     "text": [
      "tensor([2., 2., 2., 2., 2.])\n",
      "[2. 2. 2. 2. 2.]\n"
     ]
    }
   ],
   "source": [
    "a.add_(1)\n",
    "print(a)\n",
    "print(b) # b reflects the changes made to a, so numpy() didn't make a copy!"
   ]
  },
  {
   "cell_type": "markdown",
   "metadata": {},
   "source": [
    "### 3.2 Converting numpy Array to torch Tensor\n",
    "\n",
    "See how changing the np array changed the torch Tensor automatically"
   ]
  },
  {
   "cell_type": "code",
   "execution_count": null,
   "metadata": {},
   "outputs": [
    {
     "name": "stdout",
     "output_type": "stream",
     "text": [
      "[2. 2. 2. 2. 2.]\n",
      "tensor([2., 2., 2., 2., 2.], dtype=torch.float64)\n"
     ]
    }
   ],
   "source": [
    "import numpy as np\n",
    "a = np.ones(5)\n",
    "# numpy -> torch\n",
    "b = torch.from_numpy(a) \n",
    "# compare with a.numpy() \n",
    "#   for torch -> numpy\n",
    "\n",
    "# add 1 to every element in a, storing the result in a\n",
    "np.add(a, 1, out=a)\n",
    "\n",
    "# a has changed\n",
    "print(a)\n",
    "# b has also changed\n",
    "print(b)"
   ]
  },
  {
   "cell_type": "markdown",
   "metadata": {},
   "source": [
    "# Assignment\n",
    "\n",
    "1. create a tensor of size (5, 2) containing ones\n",
    "2. now convert it to a NumPy array\n",
    "3. now convert it back to a torch tensor\n",
    "\n",
    "All the Tensors on the CPU except a CharTensor support converting to NumPy and back."
   ]
  },
  {
   "cell_type": "code",
   "execution_count": 49,
   "metadata": {},
   "outputs": [],
   "source": [
    "# create a tensor of size (5,2) containing ones\n",
    "x = torch.ones(5, 2)\n",
    "\n",
    "# convert to numpy array\n",
    "y = x.numpy()\n",
    "\n",
    "# convert back to torch tensor\n",
    "z = torch.from_numpy(y)"
   ]
  },
  {
   "cell_type": "markdown",
   "metadata": {},
   "source": [
    "## 4 CUDA Tensors\n",
    "\n",
    "**Tensors can be moved onto GPU** using the `.cuda` function.\n",
    "This is not necessary, but check the `README.md` for details on how to use a GPU with docker."
   ]
  },
  {
   "cell_type": "code",
   "execution_count": null,
   "metadata": {},
   "outputs": [
    {
     "name": "stdout",
     "output_type": "stream",
     "text": [
      "CUDA not available on your machine.\n"
     ]
    }
   ],
   "source": [
    "# let us run this cell only if CUDA is available\n",
    "if torch.cuda.is_available():\n",
    "\n",
    "    print(\"CUDA is available! Let's use it.\")\n",
    "\n",
    "    x = x.cuda()\n",
    "    y = y.cuda()\n",
    "    z = x + y\n",
    "\n",
    "    # Notice that the tensors are now of type torch.cuda.FloatTensor (notice the cuda in there)\n",
    "    # This is meant as a tensor to be run on the GPU.\n",
    "    # The .cuda() does this to any parameter it is applied to.\n",
    "    print(x)\n",
    "    print(y)\n",
    "    print(z)\n",
    "    \n",
    "else:\n",
    "\n",
    "    print(\"CUDA not available on your machine.\")"
   ]
  }
 ],
 "metadata": {
  "kernelspec": {
   "display_name": "DTU_deep-learning",
   "language": "python",
   "name": "python3"
  },
  "language_info": {
   "codemirror_mode": {
    "name": "ipython",
    "version": 3
   },
   "file_extension": ".py",
   "mimetype": "text/x-python",
   "name": "python",
   "nbconvert_exporter": "python",
   "pygments_lexer": "ipython3",
   "version": "3.13.5"
  }
 },
 "nbformat": 4,
 "nbformat_minor": 2
}
