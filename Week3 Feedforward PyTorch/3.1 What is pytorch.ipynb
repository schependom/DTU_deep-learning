{
 "cells": [
  {
   "cell_type": "markdown",
   "metadata": {},
   "source": [
    "# Credits\n",
    "\n",
    "This is heavily based on https://github.com/pytorch/tutorials"
   ]
  },
  {
   "cell_type": "markdown",
   "metadata": {},
   "source": [
    "# What is PyTorch?\n",
    "\n",
    "> **NOTE** In the last part of this lab cuda is used.\n",
    "\n",
    "\n",
    "PyTorch a Python based scientific computing package targeted at two sets of\n",
    "audiences:\n",
    "-  A replacement for numpy to use the power of GPUs\n",
    "-  a deep learning research platform that provides maximum flexibility and speed\n"
   ]
  },
  {
   "cell_type": "markdown",
   "metadata": {},
   "source": [
    "# Getting Started\n",
    "\n",
    "In this lab you will get a quick start on what pytorch is and how to use it.\n",
    "\n",
    "## 1. Tensors\n",
    "\n",
    "Tensors are similar to numpy’s `ndarray`s, with the addition being that\\\n",
    "**Tensors can also be used on a GPU to accelerate computing.**"
   ]
  },
  {
   "cell_type": "code",
   "execution_count": 1,
   "metadata": {},
   "outputs": [],
   "source": [
    "import torch"
   ]
  },
  {
   "cell_type": "markdown",
   "metadata": {},
   "source": [
    "Construct a $5\\times 3$ matrix, uninitialized"
   ]
  },
  {
   "cell_type": "code",
   "execution_count": 2,
   "metadata": {
    "scrolled": false
   },
   "outputs": [
    {
     "name": "stdout",
     "output_type": "stream",
     "text": [
      "tensor([[0., 0., 0.],\n",
      "        [0., 0., 0.],\n",
      "        [0., 0., 0.],\n",
      "        [0., 0., 0.],\n",
      "        [0., 0., 0.]])\n"
     ]
    }
   ],
   "source": [
    "x = torch.Tensor(5, 3) # similar to np.empty((5, 3))\n",
    "print(x)"
   ]
  },
  {
   "cell_type": "markdown",
   "metadata": {},
   "source": [
    "Construct a randomly initialized matrix"
   ]
  },
  {
   "cell_type": "code",
   "execution_count": 3,
   "metadata": {},
   "outputs": [
    {
     "name": "stdout",
     "output_type": "stream",
     "text": [
      "tensor([[0.4651, 0.5922, 0.2067],\n",
      "        [0.0992, 0.5992, 0.8338],\n",
      "        [0.1426, 0.8010, 0.2617],\n",
      "        [0.5499, 0.4162, 0.0327],\n",
      "        [0.2902, 0.0364, 0.6429]])\n"
     ]
    }
   ],
   "source": [
    "x = torch.rand(5, 3)\n",
    "y = torch.rand(5, 3)\n",
    "print(y)"
   ]
  },
  {
   "cell_type": "markdown",
   "metadata": {},
   "source": [
    "Get its size"
   ]
  },
  {
   "cell_type": "code",
   "execution_count": 4,
   "metadata": {},
   "outputs": [
    {
     "name": "stdout",
     "output_type": "stream",
     "text": [
      "torch.Size([5, 3])\n",
      "5\n",
      "3\n"
     ]
    }
   ],
   "source": [
    "print(x.size())\n",
    "\n",
    "size_tupel = x.size()\n",
    "print(size_tupel[0])\n",
    "print(size_tupel[1])"
   ]
  },
  {
   "cell_type": "markdown",
   "metadata": {},
   "source": [
    "**NOTE**: `torch.Size` is in fact a tuple, so it supports the same operations that a tuple supports."
   ]
  },
  {
   "cell_type": "code",
   "execution_count": 5,
   "metadata": {},
   "outputs": [
    {
     "name": "stdout",
     "output_type": "stream",
     "text": [
      "x before in-place modification: \n",
      "tensor([[0.6235, 0.7759, 0.4733, 0.0932, 0.5539],\n",
      "        [0.8436, 0.0775, 0.3802, 0.4540, 0.1301],\n",
      "        [0.4645, 0.4064, 0.8914, 0.5451, 0.4666]])\n",
      "After x[1:3] = 2\n",
      "tensor([[0.6235, 0.7759, 0.4733, 0.0932, 0.5539],\n",
      "        [2.0000, 2.0000, 2.0000, 2.0000, 2.0000],\n",
      "        [2.0000, 2.0000, 2.0000, 2.0000, 2.0000]])\n"
     ]
    }
   ],
   "source": [
    "x = torch.rand(3,5)\n",
    "print(f\"x before in-place modification: \\n{x}\")\n",
    "print(\"After x[1:3] = 2\")\n",
    "x[1:3] = 2 # rij 1 TOT (exclusief) rij 3 -> rij 0 TOT EN MET rij 1\n",
    "print(x)\n",
    "# last two rows are set to 2"
   ]
  },
  {
   "cell_type": "markdown",
   "metadata": {},
   "source": [
    "# Assignment\n",
    "\n",
    "Make use of the pytorch docs <http://pytorch.org/docs/torch>\n",
    "1. Make a tensor of size (2, 17)\n",
    "2. Make a torch.FloatTensor of size (3, 1)\n",
    "3. Make a torch.LongTensor of size (5, 2, 1)\n",
    "  - fill the entire tensor with 7s\n",
    "4. Make a torch.ByteTensor of size (5,)\n",
    "  - fill the middle 3 indices with ones such that it records [0, 1, 1, 1, 0]"
   ]
  },
  {
   "cell_type": "code",
   "execution_count": 6,
   "metadata": {},
   "outputs": [
    {
     "name": "stdout",
     "output_type": "stream",
     "text": [
      "tensor([[7., 7., 7., 7., 7., 7., 7.],\n",
      "        [7., 7., 7., 7., 7., 7., 7.]])\n",
      "tensor([0, 0, 0, 0, 0], dtype=torch.uint8)\n",
      "tensor([0, 1, 1, 1, 0], dtype=torch.uint8)\n"
     ]
    }
   ],
   "source": [
    "a = torch.Tensor(2,7) # empty tensor\n",
    "b = torch.FloatTensor(3,1) # empty float tensor\n",
    "c = torch.LongTensor(5,2,1) # empty long tensor\n",
    "\n",
    "# fill entire tensor with 7s\n",
    "a.fill_(7)\n",
    "print(a)\n",
    "\n",
    "# a byte tensor is a tensor where every position can take 8-bit values (0-255)\n",
    "byte_tensor = torch.ByteTensor(5,)\n",
    "print(byte_tensor)\n",
    "\n",
    "# try filling byte tensor with 256\n",
    "# byte_tensor.fill_(256) # overflow!!\n",
    "\n",
    "# fill middle 3 indices of byte_tensor with ones\n",
    "byte_tensor[1:4] = 1\n",
    "print(byte_tensor)"
   ]
  },
  {
   "cell_type": "markdown",
   "metadata": {},
   "source": [
    "## 2. Operations\n",
    "There are multiple syntaxes for operations. Let's see addition as an example:\n",
    "\n",
    "### 2.1 Addition: syntax 1"
   ]
  },
  {
   "cell_type": "code",
   "execution_count": 7,
   "metadata": {},
   "outputs": [
    {
     "name": "stdout",
     "output_type": "stream",
     "text": [
      "y = tensor([[0.8763, 0.5490, 0.0879],\n",
      "        [0.0923, 0.4596, 0.8314],\n",
      "        [0.7999, 0.2626, 0.1280],\n",
      "        [0.3566, 0.5039, 0.5261],\n",
      "        [0.8975, 0.6345, 0.2790]]), \n",
      "x = tensor([[0.6111, 0.7057, 0.0155],\n",
      "        [0.4760, 0.7464, 0.6731],\n",
      "        [0.3276, 0.5565, 0.7046],\n",
      "        [0.0494, 0.8980, 0.4152],\n",
      "        [0.1765, 0.3914, 0.4462]])\n",
      "x + y = tensor([[1.4875, 1.2547, 0.1035],\n",
      "        [0.5683, 1.2060, 1.5046],\n",
      "        [1.1275, 0.8192, 0.8326],\n",
      "        [0.4061, 1.4019, 0.9413],\n",
      "        [1.0740, 1.0259, 0.7252]])\n"
     ]
    }
   ],
   "source": [
    "x = torch.rand(5, 3)\n",
    "y = torch.rand(5, 3)\n",
    "print(f\"y = {y}, \\nx = {x}\")\n",
    "print(f\"x + y = {x + y}\")"
   ]
  },
  {
   "cell_type": "markdown",
   "metadata": {},
   "source": [
    "### 2.2 Addition: syntax 2"
   ]
  },
  {
   "cell_type": "code",
   "execution_count": 8,
   "metadata": {},
   "outputs": [
    {
     "name": "stdout",
     "output_type": "stream",
     "text": [
      "tensor([[1.4875, 1.2547, 0.1035],\n",
      "        [0.5683, 1.2060, 1.5046],\n",
      "        [1.1275, 0.8192, 0.8326],\n",
      "        [0.4061, 1.4019, 0.9413],\n",
      "        [1.0740, 1.0259, 0.7252]])\n"
     ]
    }
   ],
   "source": [
    "print(torch.add(x, y))"
   ]
  },
  {
   "cell_type": "markdown",
   "metadata": {},
   "source": [
    "### 2.3 Addition: giving an output tensor"
   ]
  },
  {
   "cell_type": "code",
   "execution_count": 9,
   "metadata": {},
   "outputs": [
    {
     "name": "stdout",
     "output_type": "stream",
     "text": [
      "tensor([[1.4875, 1.2547, 0.1035],\n",
      "        [0.5683, 1.2060, 1.5046],\n",
      "        [1.1275, 0.8192, 0.8326],\n",
      "        [0.4061, 1.4019, 0.9413],\n",
      "        [1.0740, 1.0259, 0.7252]])\n"
     ]
    }
   ],
   "source": [
    "result = torch.Tensor(5, 3)\n",
    "torch.add(x, y, out=result)\n",
    "print(result)"
   ]
  },
  {
   "cell_type": "markdown",
   "metadata": {},
   "source": [
    "### 2.4 Addition: in-place\n",
    "\n",
    "adds `x` to `y`"
   ]
  },
  {
   "cell_type": "code",
   "execution_count": 10,
   "metadata": {},
   "outputs": [
    {
     "name": "stdout",
     "output_type": "stream",
     "text": [
      "tensor([[1.4875, 1.2547, 0.1035],\n",
      "        [0.5683, 1.2060, 1.5046],\n",
      "        [1.1275, 0.8192, 0.8326],\n",
      "        [0.4061, 1.4019, 0.9413],\n",
      "        [1.0740, 1.0259, 0.7252]])\n"
     ]
    }
   ],
   "source": [
    "y.add_(x)\n",
    "print(y)"
   ]
  },
  {
   "cell_type": "markdown",
   "metadata": {},
   "source": [
    "**NOTE**: **Any operation that mutates a tensor in-place is post-fixed with an `_`**. For example: `x.copy_(y)`, `x.t_()`, `x.fill_()` will change `x`."
   ]
  },
  {
   "cell_type": "markdown",
   "metadata": {},
   "source": [
    "You can use standard numpy-like indexing with all bells and whistles!"
   ]
  },
  {
   "cell_type": "code",
   "execution_count": 11,
   "metadata": {},
   "outputs": [
    {
     "name": "stdout",
     "output_type": "stream",
     "text": [
      "tensor([0.7057, 0.7464, 0.5565, 0.8980, 0.3914])\n"
     ]
    }
   ],
   "source": [
    "print(x[:, 1])"
   ]
  },
  {
   "cell_type": "markdown",
   "metadata": {},
   "source": [
    "**Read later**: 100+ Tensor operations, including transposing, indexing, slicing, mathematical operations, linear algebra, random numbers, etc are described here <http://pytorch.org/docs/torch>"
   ]
  },
  {
   "cell_type": "markdown",
   "metadata": {},
   "source": [
    "# Assignment\n",
    "\n",
    "1. multiplication of two tensors (see [torch.Tensor.mul](http://pytorch.org/docs/master/tensors.html#torch.Tensor.mul))\n",
    "2. do the same, but inplace\n",
    "3. division of two tensors (see [torch.Tensor.div](http://pytorch.org/docs/master/tensors.html#torch.Tensor.div))\n",
    "4. perform a matrix multiplication of two tensors of size (2, 4) and (4, 2) with `@` operator or `torch.mm` function "
   ]
  },
  {
   "cell_type": "code",
   "execution_count": 12,
   "metadata": {},
   "outputs": [
    {
     "name": "stdout",
     "output_type": "stream",
     "text": [
      "tensor([[0.1339, 0.5860],\n",
      "        [0.1127, 0.0506],\n",
      "        [0.2205, 0.3208],\n",
      "        [0.5080, 0.0787]])\n",
      "tensor([[0.1339, 0.5860],\n",
      "        [0.1127, 0.0506],\n",
      "        [0.2205, 0.3208],\n",
      "        [0.5080, 0.0787]])\n",
      "tensor([[0.1339, 0.5860],\n",
      "        [0.1127, 0.0506],\n",
      "        [0.2205, 0.3208],\n",
      "        [0.5080, 0.0787]])\n",
      "tensor([[2.4870, 1.1480],\n",
      "        [3.2814, 1.4633],\n",
      "        [2.5596, 2.3710],\n",
      "        [1.7422, 2.0178]])\n",
      "tensor([[2.4870, 1.1480],\n",
      "        [3.2814, 1.4633],\n",
      "        [2.5596, 2.3710],\n",
      "        [1.7422, 2.0178]])\n",
      "tensor([[0.4021, 0.8711],\n",
      "        [0.3047, 0.6834],\n",
      "        [0.3907, 0.4218],\n",
      "        [0.5740, 0.4956]])\n",
      "tensor([[0.4365, 0.5148],\n",
      "        [0.3199, 0.4285]])\n",
      "tensor([[0.4365, 0.5148],\n",
      "        [0.3199, 0.4285]])\n"
     ]
    }
   ],
   "source": [
    "x = torch.rand(4, 2)\n",
    "y = torch.rand(4, 2)\n",
    "\n",
    "# multiplication\n",
    "print(x * y)\n",
    "print(torch.mul(x, y))\n",
    "\n",
    "# in place multiplication\n",
    "y.mul_(x)\n",
    "print(y)\n",
    "\n",
    "# division\n",
    "print(x / y)\n",
    "print(torch.div(x, y))\n",
    "\n",
    "# in place division\n",
    "y.div_(x)\n",
    "print(y)\n",
    "\n",
    "# matrix multiplication\n",
    "x = torch.rand(2, 3)\n",
    "y = torch.rand(3, 2)\n",
    "print(torch.mm(x, y))\n",
    "\n",
    "# or use the @ operator\n",
    "print(x @ y)\n",
    "\n",
    "# in place matrix multiplication is not supported\n",
    "# x.mm_(y) # error"
   ]
  },
  {
   "cell_type": "markdown",
   "metadata": {},
   "source": [
    "## 3. Numpy Bridge\n",
    "\n",
    "Converting a torch Tensor to a numpy array and vice versa is a breeze.\n",
    "\n",
    "The torch Tensor and numpy array will share their underlying memory locations, and changing one will change the other.\n",
    "\n",
    "### 3.1 Converting torch Tensor to numpy Array"
   ]
  },
  {
   "cell_type": "code",
   "execution_count": 13,
   "metadata": {},
   "outputs": [
    {
     "name": "stdout",
     "output_type": "stream",
     "text": [
      "tensor([1., 1., 1., 1., 1.])\n"
     ]
    }
   ],
   "source": [
    "a = torch.ones(5)\n",
    "print(a)"
   ]
  },
  {
   "cell_type": "code",
   "execution_count": 14,
   "metadata": {},
   "outputs": [
    {
     "name": "stdout",
     "output_type": "stream",
     "text": [
      "[1. 1. 1. 1. 1.]\n",
      "Type of b: <class 'numpy.ndarray'>\n"
     ]
    }
   ],
   "source": [
    "b = a.numpy() # convert to ndarray\n",
    "print(b)\n",
    "print(f\"Type of b: {type(b)}\")"
   ]
  },
  {
   "cell_type": "markdown",
   "metadata": {},
   "source": [
    "See how the numpy array changed in value: the `numpy()` method provides a *view* of the original tensor, not a copy."
   ]
  },
  {
   "cell_type": "code",
   "execution_count": 15,
   "metadata": {},
   "outputs": [
    {
     "name": "stdout",
     "output_type": "stream",
     "text": [
      "tensor([2., 2., 2., 2., 2.])\n",
      "[2. 2. 2. 2. 2.]\n"
     ]
    }
   ],
   "source": [
    "a.add_(1)\n",
    "print(a)\n",
    "print(b) # b reflects the changes made to a, so numpy() didn't make a copy!"
   ]
  },
  {
   "cell_type": "markdown",
   "metadata": {},
   "source": [
    "### 3.2 Converting numpy Array to torch Tensor\n",
    "\n",
    "See how changing the np array changed the torch Tensor automatically"
   ]
  },
  {
   "cell_type": "code",
   "execution_count": 16,
   "metadata": {},
   "outputs": [
    {
     "name": "stdout",
     "output_type": "stream",
     "text": [
      "[2. 2. 2. 2. 2.]\n",
      "tensor([2., 2., 2., 2., 2.], dtype=torch.float64)\n"
     ]
    }
   ],
   "source": [
    "import numpy as np\n",
    "a = np.ones(5)\n",
    "# numpy -> torch\n",
    "b = torch.from_numpy(a) \n",
    "# compare with a.numpy() \n",
    "#   for torch -> numpy\n",
    "\n",
    "# add 1 to every element in a, storing the result in a\n",
    "np.add(a, 1, out=a)\n",
    "\n",
    "# a has changed\n",
    "print(a)\n",
    "# b has also changed\n",
    "print(b)"
   ]
  },
  {
   "cell_type": "markdown",
   "metadata": {},
   "source": [
    "# Assignment\n",
    "\n",
    "1. create a tensor of size (5, 2) containing ones\n",
    "2. now convert it to a NumPy array\n",
    "3. now convert it back to a torch tensor\n",
    "\n",
    "All the Tensors on the CPU except a CharTensor support converting to NumPy and back."
   ]
  },
  {
   "cell_type": "code",
   "execution_count": 17,
   "metadata": {},
   "outputs": [],
   "source": [
    "# create a tensor of size (5,2) containing ones\n",
    "x = torch.ones(5, 2)\n",
    "\n",
    "# convert to numpy array\n",
    "y = x.numpy()\n",
    "\n",
    "# convert back to torch tensor\n",
    "z = torch.from_numpy(y)"
   ]
  },
  {
   "cell_type": "markdown",
   "metadata": {},
   "source": [
    "## 4 CUDA Tensors\n",
    "\n",
    "**Tensors can be moved onto GPU** using the `.cuda` function.\n",
    "This is not necessary, but check the `README.md` for details on how to use a GPU with docker."
   ]
  },
  {
   "cell_type": "code",
   "execution_count": 19,
   "metadata": {},
   "outputs": [
    {
     "name": "stdout",
     "output_type": "stream",
     "text": [
      "CUDA not available on your machine.\n",
      "tensor([1.], device='mps:0')\n"
     ]
    }
   ],
   "source": [
    "# let us run this cell only if CUDA is available\n",
    "if torch.cuda.is_available():\n",
    "\n",
    "    print(\"CUDA is available! Let's use it.\")\n",
    "\n",
    "    x = x.cuda()\n",
    "    y = y.cuda()\n",
    "    z = x + y\n",
    "\n",
    "    # Notice that the tensors are now of type torch.cuda.FloatTensor (notice the cuda in there)\n",
    "    # This is meant as a tensor to be run on the GPU.\n",
    "    # The .cuda() does this to any parameter it is applied to.\n",
    "    print(x)\n",
    "    print(y)\n",
    "    print(z)\n",
    "    \n",
    "else:\n",
    "\n",
    "    print(\"CUDA not available on your machine.\")\n",
    "\n",
    "if torch.backends.mps.is_available():\n",
    "    mps_device = torch.device(\"mps\")\n",
    "    x = torch.ones(1, device=mps_device)\n",
    "    print (x)\n",
    "else:\n",
    "    print (\"MPS device not found.\")"
   ]
  }
 ],
 "metadata": {
  "kernelspec": {
   "display_name": "DTU_deep-learning",
   "language": "python",
   "name": "python3"
  },
  "language_info": {
   "codemirror_mode": {
    "name": "ipython",
    "version": 3
   },
   "file_extension": ".py",
   "mimetype": "text/x-python",
   "name": "python",
   "nbconvert_exporter": "python",
   "pygments_lexer": "ipython3",
   "version": "3.13.5"
  }
 },
 "nbformat": 4,
 "nbformat_minor": 2
}
